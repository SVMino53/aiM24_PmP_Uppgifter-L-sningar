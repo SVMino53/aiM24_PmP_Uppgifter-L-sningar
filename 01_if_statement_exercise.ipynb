{
  "cells": [
    {
      "cell_type": "markdown",
      "metadata": {
        "colab_type": "text",
        "id": "view-in-github"
      },
      "source": [
        "<a href=\"https://colab.research.google.com/github/aleylani/Python-AI24/blob/main/exercises/01_if_statement_exercise.ipynb\" target=\"_parent\"><img src=\"https://colab.research.google.com/assets/colab-badge.svg\" alt=\"Open In Colab\"/></a>"
      ]
    },
    {
      "cell_type": "markdown",
      "metadata": {
        "id": "V_XJ764PQBl5"
      },
      "source": [
        "# if statements exercises\n",
        "\n",
        "---\n",
        "These are introductory exercises in Python with focus in **if** statement.\n",
        "\n",
        "<p class = \"alert alert-info\" role=\"alert\"><b>Remember</b> to use <b>descriptive variable names</b> in order to get readable code </p>\n",
        "\n",
        "<p class = \"alert alert-info\" role=\"alert\"><b>Remember</b> to format your answers in a neat way using <b>f-strings</b>\n",
        "\n",
        "<p class = \"alert alert-info\" role=\"alert\"><b>Remember</b> to format your input questions in a pedagogical way to guide the user\n",
        "\n",
        "The number of stars (\\*), (\\*\\*), (\\*\\*\\*) denotes the difficulty level of the task\n",
        "\n",
        "---"
      ]
    },
    {
      "cell_type": "markdown",
      "metadata": {
        "id": "aBBTSK3GQBl6"
      },
      "source": [
        "## 1. Check sign (*)\n",
        "\n",
        "Ask the user to input a number and check if this number is **positive**, **negative** or **zero** and print it out."
      ]
    },
    {
      "cell_type": "code",
      "execution_count": 5,
      "metadata": {},
      "outputs": [
        {
          "name": "stdout",
          "output_type": "stream",
          "text": [
            "Talet -7474 är negativt.\n"
          ]
        }
      ],
      "source": [
        "val = int(input('Skriv in ett heltal: '))       # Heltal från användaren\n",
        "\n",
        "if val < 0:                                     # Om användarens tal är mindre än 0\n",
        "    print(f'Talet {val} är negativt.')          # Skriv ut användarens tal och att det är negativt\n",
        "\n",
        "elif val > 0:                                   # Om användarens tal är större än 0\n",
        "    print(f'Talet {val} är positivt.')          # Skriv ut användarens tal och att det är positivt\n",
        "\n",
        "else:                                           # Om användarens tal är lika med 0\n",
        "    print(f'Talet {val} är noll.')              # Skriv ut användarens tal och att det är noll"
      ]
    },
    {
      "cell_type": "markdown",
      "metadata": {
        "id": "FEwYSDEWQBl7"
      },
      "source": [
        "---\n",
        "## 2. Smallest (*)\n",
        "Ask the user to input two numbers and check which one is the smallest and print it out.   "
      ]
    },
    {
      "cell_type": "code",
      "execution_count": 9,
      "metadata": {},
      "outputs": [
        {
          "name": "stdout",
          "output_type": "stream",
          "text": [
            "Båda talen är lika stora.\n"
          ]
        }
      ],
      "source": [
        "val1 = int(input('Skriv in ett heltal: '))          # Första heltalet från användaren\n",
        "val2 = int(input('Skriv in ett till heltal: '))     # Andra heltalet från användaren\n",
        "\n",
        "if val1 < val2:                                     # Om första heltalet är minst\n",
        "    print(f'{val1} är det minsta talet.')           # Skriv ut första heltalet är minst\n",
        "\n",
        "elif val2 < val1:                                   # Om andra heltalet är minst\n",
        "    print(f'{val2} är det minsta talet.')           # Skriv ut andra heltalet är minst\n",
        "\n",
        "else:                                               # Om båda talen är lika stora\n",
        "    print('Båda talen är lika stora.')"
      ]
    },
    {
      "cell_type": "markdown",
      "metadata": {
        "id": "57poR3jBQBl7"
      },
      "source": [
        "---\n",
        "## 3. Right angle (*)\n",
        "\n",
        "Ask the user to input three angles and check if the triangle has a right angle. Your code should make sure that all three angles are valid and make up a triangle.\n",
        "\n",
        "<img align=\"left\" src=\"../assets/triangle_angles.png\" width=\"200\"/>"
      ]
    },
    {
      "cell_type": "code",
      "execution_count": 54,
      "metadata": {},
      "outputs": [
        {
          "name": "stdout",
          "output_type": "stream",
          "text": [
            "Det finns en giltig triangel med vinklarna 60°, 60° och 60°.\n"
          ]
        }
      ],
      "source": [
        "v1 = int(input('Skriv in tre vinklar (i grader) av en triangel. \\nVinkel 1: '))         # Första vinkeln av en triangel från användare\n",
        "v2 = int(input('Vinkel 2: '))                                                           # Andra vinkeln av samma triangel från användaren\n",
        "v3 = int(input('Vinkel 3: '))                                                           # Tredje vinkeln av samma triangel från användaren\n",
        "\n",
        "if v1 + v2 + v3 == 180 and v1 > 0 and v2 > 0 and v3 > 0:                                # Om vinkelsumman är 180 och varje vinkel är större än 0\n",
        "    print(f'Det finns en giltig triangel med vinklarna {v1}°, {v2}° och {v3}°.')        # Skriv ut att triangeln är giltig\n",
        "    \n",
        "    if v1 == 90 or v2 == 90 or v3 == 90:                                                # Om en av vinklarna är 90 grader\n",
        "        print('Triangeln är också rätvinklig.')                                         # Skric ut att triangeln är rätvinklig\n",
        "\n",
        "else:                                                                                   # Om vinkelsumman inte är 180 eller om minst en vinkel är mindre än eller lika med 0\n",
        "    print(f'Det finns ingen giltig triangel med vinklarna {v1}°, {v2}° och {v3}°')      # Skriv ut att triangeln är giltig"
      ]
    },
    {
      "cell_type": "markdown",
      "metadata": {
        "id": "nRxIy93lQBl7"
      },
      "source": [
        "----\n",
        "## 4. Medicine (*)\n",
        "\n",
        "The information in the following table is stated in a medicine package. Also it is stated that for children weight is more important than age.\n",
        "\n",
        "<table align=\"left\">\n",
        "<thead>\n",
        "    <tr>\n",
        "        <th></th>\n",
        "        <th>Age</th>\n",
        "        <th>Number of pills</th>\n",
        "    </tr>\n",
        "</thead>\n",
        "\n",
        "<tbody>\n",
        "  <tr>\n",
        "    <td>Adults & adolescent <br>over 40 kg</td>\n",
        "    <td>over 12 years</td>\n",
        "    <td>1-2</td>\n",
        "  </tr>\n",
        "\n",
        "  <tr>\n",
        "    <td>Children 26-40 kg</td>\n",
        "    <td>7-12 years</td>\n",
        "    <td>1/2-1</td>\n",
        "  </tr>\n",
        "\n",
        "  <tr>\n",
        "    <td>Children 15-25 kg</td>\n",
        "    <td>3-7 years</td>\n",
        "    <td>1/2</td>\n",
        "  </tr>\n",
        "</tbody>\n",
        "</table>"
      ]
    },
    {
      "cell_type": "markdown",
      "metadata": {
        "id": "EVUjoVVzQBl7"
      },
      "source": [
        "Let the user input an **age** and a **weight**, the program should recommend the number of pills for the user."
      ]
    },
    {
      "cell_type": "code",
      "execution_count": 55,
      "metadata": {},
      "outputs": [
        {
          "name": "stdout",
          "output_type": "stream",
          "text": [
            "Det är rekommenderat att personen tar 1-2 tabletter om dagen.\n"
          ]
        }
      ],
      "source": [
        "age = int(input('Ange personens ålder (år): '))                                     # Personens ålder från användare\n",
        "weight = float(input('Ange personens vikt (kg): '))                                 # Personens vikt från användare\n",
        "\n",
        "if age > 12:                                                                        # Om personen är mer än 12 år\n",
        "    if weight > 40:                                                                 # Om personen väger mer än 40 kg\n",
        "        print('Det är rekommenderat att personen tar 1-2 tabletter om dagen.')\n",
        "    \n",
        "    else:                                                                           # Om personen väger mindre än eller lika me 40 kg\n",
        "        print('DATA SAKNAS!')\n",
        "\n",
        "elif 3 <= age <= 12:                                                                # Om personen är mellan 3 och 12 år\n",
        "    if 15 <= weight <= 25:                                                          # Om personen väger mellan 15 och 25 kg\n",
        "        print('Det är rekommenderat att personen tar 1/2 tablett om dagen.')\n",
        "    \n",
        "    elif 25 < weight <= 40:                                                         # Om personen väger mer än 25 och upp till 40 kg\n",
        "        print('Det är rekommenderat att personen tar 1/2-1 tablett om dagen.')\n",
        "    \n",
        "    else:                                                                           # Om personen väger mer än 40 kg\n",
        "        print('DATA SAKNAS!')\n",
        "\n",
        "else:                                                                               # Om personen är mindre än 3 år\n",
        "    print('DATA SAKNAS!')"
      ]
    },
    {
      "cell_type": "markdown",
      "metadata": {
        "id": "yUEv0BwKQBl8"
      },
      "source": [
        "---\n",
        "## 5. Divisible (*)\n",
        "Let the user input a number. Check if the number is\n",
        "<ol type=\"a\">\n",
        "  <li>even or odd</li>\n",
        "  <li>is divisible by 5</li>\n",
        "  <li>is divisble by 5 and odd</li>\n",
        "</ol>"
      ]
    },
    {
      "cell_type": "code",
      "execution_count": 41,
      "metadata": {},
      "outputs": [
        {
          "name": "stdout",
          "output_type": "stream",
          "text": [
            "505 är udda.\n",
            "505 är delbart med 5.\n",
            "Wow! 505 är udda OCH delbart med 5!\n"
          ]
        }
      ],
      "source": [
        "val = int(input('Skriv in ett heltal: '))               # Heltal från användare\n",
        "\n",
        "is_even = val % 2 == 0                                  # Är sant om talet är jämnt\n",
        "\n",
        "if is_even:                                             # Om talet är jämnt\n",
        "    print(f'{val} är jämnt.')                           # Skriv ut att talet är jämnt\n",
        "\n",
        "else:                                                   # Om talet är udda\n",
        "    print(f'{val} är udda.')                            # Skriv ut att talet är udda\n",
        "\n",
        "is_mult_of_five = val % 5 == 0                          # Är sant om talet är delbart med 5\n",
        "\n",
        "if is_mult_of_five:                                     # Om talet är delbart med 5\n",
        "    print(f'{val} är delbart med 5.')                   # Skriv ut att talet är delbart med 5\n",
        "\n",
        "if not is_even and is_mult_of_five:                     # Om talet är udda och delbart med 5\n",
        "    print(f'Wow! {val} är udda OCH delbart med 5!')     # Skriv ut att talet är udda och delbart med 5"
      ]
    },
    {
      "cell_type": "markdown",
      "metadata": {
        "id": "1loU66d0QBl8"
      },
      "source": [
        "---\n",
        "## 6. Luggage size (*)\n",
        "\n",
        "The maximum allowed luggage size for boarding an airplane is:\n",
        "- weight: 8kg\n",
        "- dimensions: 55x40x23cm (length x width x height)\n",
        "\n",
        "Let the user input weight, length, width and height of the luggage. The program should check if the luggage is allowed or not."
      ]
    },
    {
      "cell_type": "code",
      "execution_count": 49,
      "metadata": {},
      "outputs": [
        {
          "name": "stdout",
          "output_type": "stream",
          "text": [
            "Bagaget är tillåtet att ha med på flyget.\n"
          ]
        }
      ],
      "source": [
        "weight = float(input('Skriv in bagagets vikt (kg): '))          # Bagagets vikt från användare\n",
        "length = float(input('Skriv in bagagets längd: '))              # Bagagets längd från användare\n",
        "width = float(input('Skriv in bagagets bredd: '))               # Bagagets bredd från användare\n",
        "height = float(input('Skriv in bagagets höjd: '))               # Bagagets höjd från användare\n",
        "\n",
        "if weight > 8 or length > 55 or width > 40 or height > 23:      # Om något av värdena inte håller sig till dess maxgräns\n",
        "    print('Bagaget är ej tillåtet att ha med på flyget.')\n",
        "\n",
        "else:                                                           # Om alla värden håller sig till dess maxgräns\n",
        "    print('Bagaget är tillåtet att ha med på flyget.')"
      ]
    }
  ],
  "metadata": {
    "colab": {
      "include_colab_link": true,
      "provenance": []
    },
    "kernelspec": {
      "display_name": "Python 3 (ipykernel)",
      "language": "python",
      "name": "python3"
    },
    "language_info": {
      "codemirror_mode": {
        "name": "ipython",
        "version": 3
      },
      "file_extension": ".py",
      "mimetype": "text/x-python",
      "name": "python",
      "nbconvert_exporter": "python",
      "pygments_lexer": "ipython3",
      "version": "3.12.0"
    },
    "vscode": {
      "interpreter": {
        "hash": "0da836a34428266995a795f1e1e27b816fa1c02f148d9728b3fbbbc5459afca6"
      }
    }
  },
  "nbformat": 4,
  "nbformat_minor": 0
}
