{
  "cells": [
    {
      "cell_type": "markdown",
      "metadata": {
        "colab_type": "text",
        "id": "view-in-github"
      },
      "source": [
        "<a href=\"https://colab.research.google.com/github/aleylani/Python/blob/main/exercises/02_while_statement_exercise.ipynb\" target=\"_parent\"><img src=\"https://colab.research.google.com/assets/colab-badge.svg\" alt=\"Open In Colab\"/></a>"
      ]
    },
    {
      "cell_type": "markdown",
      "metadata": {
        "id": "Po7swMETQNgZ"
      },
      "source": [
        "## 1. Count numbers (*)\n",
        "\n",
        "Use a **while** statement to count from -10 to 10 with one increment.\n",
        "\n",
        "<details>\n",
        "\n",
        "<summary>Hint </summary>\n",
        "\n",
        "```python\n",
        "\n",
        "i += 1 # adds one and assigns it to i, equivalent to i = i + 1\n",
        "```\n",
        "\n",
        "</details>\n",
        "<br>\n",
        "<details>\n",
        "\n",
        "<summary>answer </summary>\n",
        "\n",
        "```\n",
        "\n",
        "-10 -9 -8 -7 -6 -5 -4 -3 -2 -1 0 1 2 3 4 5 6 7 8 9 10\n",
        "```\n",
        "\n",
        "</details>\n"
      ]
    },
    {
      "cell_type": "code",
      "execution_count": 10,
      "metadata": {},
      "outputs": [
        {
          "name": "stdout",
          "output_type": "stream",
          "text": [
            "-10 -9 -8 -7 -6 -5 -4 -3 -2 -1 0 1 2 3 4 5 6 7 8 9 10 "
          ]
        }
      ],
      "source": [
        "val = -10                       # Värde som ska öka med 1 och skrivas ut\n",
        "\n",
        "while val <= 10:                # Medan 'val' är mindre än eller lika med 10\n",
        "    print(val, end = ' ')       # Skriv ut värdet i 'val' och sluta med mellanslag\n",
        "    val += 1                    # Öka 'val' med 1"
      ]
    },
    {
      "cell_type": "markdown",
      "metadata": {
        "id": "bt8iHnYRQNga"
      },
      "source": [
        "---\n",
        "## 2. Arithmetic sum (*)\n",
        "Use a **while** statement to compute the following sums:\n",
        "\n",
        "&nbsp; a) &nbsp; $\\text{sum} = 1 + 2 + \\ldots + 99+ 100$\n",
        "\n",
        "&nbsp; b) &nbsp; $\\text{sum} = 1 + 3 + 5 + \\ldots + 97 + 99$\n",
        "\n",
        "<details>\n",
        "\n",
        "<summary>answer </summary>\n",
        "\n",
        "```\n",
        "a) 1 + 2 + ... + 99 + 100 = 5050\n",
        "\n",
        "b) 1 + 3 + 5 +...+ 97 + 99 = 2500\n",
        "```\n",
        "\n",
        "</details>"
      ]
    },
    {
      "cell_type": "code",
      "execution_count": 19,
      "metadata": {},
      "outputs": [
        {
          "name": "stdout",
          "output_type": "stream",
          "text": [
            "1 + 2 + 3 + ... + 99 + 100 = 5050\n"
          ]
        }
      ],
      "source": [
        "# a)\n",
        "\n",
        "s = 0                                           # Summa\n",
        "t = 1                                           # Term\n",
        "\n",
        "while t <= 100:                                 # Medan 't' är mindre än eller lika med 100\n",
        "    s += t                                      # Addera nuvarande term till summa\n",
        "    t += 1                                      # Öka termvärdet med 1\n",
        "\n",
        "print(f'1 + 2 + 3 + ... + 99 + 100 = {s}')      # Skriv ut uttryck och dess summa"
      ]
    },
    {
      "cell_type": "code",
      "execution_count": 20,
      "metadata": {},
      "outputs": [
        {
          "name": "stdout",
          "output_type": "stream",
          "text": [
            "1 + 3 + 5 + ... + 97 + 99 = 2500\n"
          ]
        }
      ],
      "source": [
        "# b)\n",
        "\n",
        "s = 0                                           # Summa\n",
        "t = 1                                           # Term\n",
        "\n",
        "while t < 100:                                  # Medan 't' är mindre än 100\n",
        "    s += t                                      # Addera nuvarande term till summa\n",
        "    t += 2                                      # Öka termvärdet med 2\n",
        "\n",
        "print(f'1 + 3 + 5 + ... + 97 + 99 = {s}')       # Skriv ut uttryck och dess summa"
      ]
    },
    {
      "cell_type": "markdown",
      "metadata": {
        "id": "NxECsk35QNgb"
      },
      "source": [
        "---\n",
        "## 3. Guess number game (*)\n",
        "&nbsp; a) &nbsp; Create a guessing number game following this flow chart:\n",
        "\n",
        "<img align=\"left\" src=\"../assets/guessing_game.png\" width=\"300\"/>"
      ]
    },
    {
      "cell_type": "markdown",
      "metadata": {
        "id": "ZKtnK2rOQNgc"
      },
      "source": [
        "&nbsp; b) &nbsp; Make an algorithm to automatically guess the correct number. Can you optimize to get as few guesses as possible? (**)\n",
        "\n",
        "<details>\n",
        "\n",
        "<summary>Hint </summary>\n",
        "\n",
        "&nbsp; b) &nbsp; Half your testing number each time\n",
        "\n",
        "</details>"
      ]
    },
    {
      "cell_type": "code",
      "execution_count": 21,
      "metadata": {},
      "outputs": [
        {
          "name": "stdout",
          "output_type": "stream",
          "text": [
            "Jag tänker på ett tal mellan 1 och 100. Gissa vilket tal jag tänker på.\n",
            "Inte riktigt. Mitt tal är högre.\n",
            "Inte riktigt. Mitt tal är högre.\n",
            "Inte riktigt. Mitt tal är högre.\n",
            "Yes! Jag tänkte på 85. Du kom på det efter 4 gissningar. Grattis!\n"
          ]
        }
      ],
      "source": [
        "import random\n",
        "\n",
        "# a)\n",
        "\n",
        "answer = random.randint(1, 100)                         # Slumptal mellan 1 och 100 som användaren ska försöka gissa\n",
        "num_guesses = 0                                         # Antal gissningar\n",
        "\n",
        "print('Jag tänker på ett tal mellan 1 och 100. Gissa vilket tal jag tänker på.')\n",
        "\n",
        "while True:\n",
        "    num_guesses += 1                                    # Öka antalet gissningar med 1\n",
        "    guess = int(input(f'Gissning {num_guesses}: '))     # Spelarens gissning\n",
        "    \n",
        "    if guess == answer:                                 # Om gissningen är rätt\n",
        "        print(f'Yes! Jag tänkte på {answer}. Du kom på det efter {num_guesses} gissningar. Grattis!')\n",
        "        break                                           # Avbryt while-loopen\n",
        "\n",
        "    elif guess < answer:                                # Om svaret är större än gissningen\n",
        "        print(f'Inte riktigt. Mitt tal är högre.')\n",
        "        \n",
        "    else:                                               # Om svaret är lägre än gissningen\n",
        "        print(f'Inte riktigt. Mitt tal är lägre.')"
      ]
    },
    {
      "cell_type": "code",
      "execution_count": 53,
      "metadata": {},
      "outputs": [
        {
          "name": "stdout",
          "output_type": "stream",
          "text": [
            "Jag tänker på ett tal mellan 1 och 100. Gissa vilket tal jag tänker på.\n",
            "50\n",
            "Inte riktigt. Mitt tal är högre.\n",
            "75\n",
            "Yes! Jag tänkte på 75. Du kom på det efter 2 gissningar. Grattis!\n"
          ]
        }
      ],
      "source": [
        "import random\n",
        "\n",
        "# b)\n",
        "\n",
        "answer = random.randint(1, 100)                         # Slumptal mellan 1 och 100 som användaren ska försöka gissa\n",
        "num_guesses = 0                                         # Antal gissningar\n",
        "\n",
        "print('Jag tänker på ett tal mellan 1 och 100. Gissa vilket tal jag tänker på.')\n",
        "\n",
        "guess = 50                                              # Algoritmens första gissning\n",
        "minimum = 1                                             # Lägsta möjliga tal\n",
        "maximum = 100                                           # Högsta möjliga tal\n",
        "\n",
        "while True:\n",
        "    num_guesses += 1                                    # Öka antalet gissningar med 1\n",
        "    print(guess)\n",
        "    \n",
        "    if guess == answer:                                 # Om gissningen är rätt\n",
        "        print(f'Yes! Jag tänkte på {answer}. Du kom på det efter {num_guesses} gissningar. Grattis!')\n",
        "        break                                           # Avbryt while-loopen\n",
        "    \n",
        "    elif guess < answer:                                # Om svaret är större än gissningen\n",
        "        print(f'Inte riktigt. Mitt tal är högre.')\n",
        "        minimum = guess + 1                             # Ändra lägsta möjliga tal till 1 mer än gissning\n",
        "        guess = (minimum + maximum) // 2                # Gissa på talet mitt emellan minsta och högsta möjliga tal\n",
        "    \n",
        "    else:                                               # Om svaret är lägre än gissningen\n",
        "        print(f'Inte riktigt. Mitt tal är lägre.')\n",
        "        maximum = guess - 1                             # Ändra högsta möjliga tal till 1 mindre än gissning\n",
        "        guess = (minimum + maximum) // 2                # Gissa på talet mitt emellan minsta och högsta möjliga tal"
      ]
    },
    {
      "cell_type": "markdown",
      "metadata": {
        "id": "D3P-6PvDQNgc"
      },
      "source": [
        "---\n",
        "## 4. Multiplication game (*)\n",
        "&nbsp; a) &nbsp; Create a multiplication game following this flow chart:\n",
        "\n",
        "<img align=\"left\" src=\"../assets/Multiplication_game.png\" width=\"300\"/>"
      ]
    },
    {
      "cell_type": "markdown",
      "metadata": {
        "id": "ScWfGvWxQNgc"
      },
      "source": [
        "&nbsp; b) &nbsp; Add a menu for choosing difficulty level of the game\n",
        "\n",
        "&nbsp; c) &nbsp; Feel free to extend this program with features of your choice."
      ]
    },
    {
      "cell_type": "code",
      "execution_count": 14,
      "metadata": {},
      "outputs": [
        {
          "name": "stdout",
          "output_type": "stream",
          "text": [
            "Välkommen till multiplikationsspelet!\n",
            "Ja! Det är korrekt!\n",
            "Ok! Då kör vi igen!\n",
            "Inkorrekt! Svaret var 20.\n",
            "Ok! Då kör vi igen!\n",
            "Ja! Det är korrekt!\n",
            "Ok! Då kör vi igen!\n",
            "Inkorrekt! Svaret var 9.\n",
            "Jag förstod inte riktigt vad du menade. Svara \"ja\" eller \"nej\".\n",
            "Ok! Då kör vi igen!\n",
            "Jag förstod inte riktigt vad du menade. Svara med ett heltal.\n",
            "Ja! Det är korrekt!\n",
            "Du klarade 3 av 5 frågor. Tack för att du spelade!\n"
          ]
        }
      ],
      "source": [
        "import random\n",
        "\n",
        "# a)\n",
        "\n",
        "print('Välkommen till multiplikationsspelet!')\n",
        "\n",
        "num_questions = 0                                                                               # Totalt antal frågor som har ställts\n",
        "points = 0                                                                                      # Totalt antal korrekta svar\n",
        "run = True                                                                                      # Sanningsvärde för om spelet ska fortsätta köras eller avslutas\n",
        "\n",
        "while run:                                                                                      # Om spelet ska fortsätta köras\n",
        "    x = random.randint(1, 10)                                                                   # Faktor 1; inom intervallet [1, 10]\n",
        "    y = random.randint(1, 10)                                                                   # Faktor 2; inom intervallet [1, 10]\n",
        "    answer = x*y                                                                                # Korrekt svar; prudukt av 'x' och 'y'\n",
        "    num_questions += 1                                                                          # Öka 'num_questions' med 1\n",
        "\n",
        "    while True:\n",
        "            inp = input(f'Vad är {x}*{y}? ')                                                    # Användarens svar på frågan\n",
        "\n",
        "            if inp.isdigit():                                                                   # Om användarens input är ett heltal\n",
        "                inp = int(inp)                                                                  # Omvandla 'inp' till en integer\n",
        "                break                                                                           # Avbryt while-loopen\n",
        "\n",
        "            else:                                                                               # Om användarens input inte är ett heltal\n",
        "                print('Jag förstod inte riktigt vad du menade. Svara med ett heltal.')          # Be användaren att ge en giltig input\n",
        "    \n",
        "    if inp == answer:                                                                           # Om användarens svar är korrekt\n",
        "        print('Ja! Det är korrekt!')\n",
        "        points += 1                                                                             # Öka 'points' med 1\n",
        "    \n",
        "    else:                                                                                       # Om användarens svar är inkorrekt\n",
        "        print(f'Inkorrekt! Svaret var {answer}.')                                               # Skriv ut korrekt svar\n",
        "\n",
        "    while True:\n",
        "        inp = input('Vill du spela igen? [ja/nej]: ').lower()                                   # Användarens svar på om hen vill spela igen\n",
        "        \n",
        "        if inp == 'ja':                                                                         # Om användaren svarade ja\n",
        "            print('Ok! Då kör vi igen!')\n",
        "            break                                                                               # Avbryt while-loopen\n",
        "        \n",
        "        elif inp == 'nej':                                                                      # Om användaren svarade nej\n",
        "            print(f'Du klarade {points} av {num_questions} frågor. Tack för att du spelade!')   # Skriv ut antalet korrekta svar av totala antalet frågor\n",
        "            run = False                                                                         # Ändra 'run' till False för att avsluta spelet\n",
        "            break                                                                               # Avbryt while-loopen\n",
        "        \n",
        "        else:                                                                                   # Om användaren ger en ogiltig input\n",
        "            print('Jag förstod inte riktigt vad du menade. Svara \"ja\" eller \"nej\".')            # Be användaren att ge en giltig input"
      ]
    },
    {
      "cell_type": "code",
      "execution_count": 15,
      "metadata": {},
      "outputs": [
        {
          "name": "stdout",
          "output_type": "stream",
          "text": [
            "Välkommen till multiplikationsspelet!\n",
            "Ja! Det är korrekt!\n",
            "Ok! Då kör vi igen!\n",
            "Jag förstod inte riktigt vad du menade. Svara \"1\", \"2\" eller \"3\".\n",
            "Jag förstod inte riktigt vad du menade. Svara \"1\", \"2\" eller \"3\".\n",
            "Inkorrekt! Svaret var 80.\n",
            "Ok! Då kör vi igen!\n",
            "Ja! Det är korrekt!\n",
            "Ok! Då kör vi igen!\n",
            "Ja! Det är korrekt!\n",
            "Jag förstod inte riktigt vad du menade. Svara \"ja\" eller \"nej\".\n",
            "Jag förstod inte riktigt vad du menade. Svara \"ja\" eller \"nej\".\n",
            "Jag förstod inte riktigt vad du menade. Svara \"ja\" eller \"nej\".\n",
            "Jag förstod inte riktigt vad du menade. Svara \"ja\" eller \"nej\".\n",
            "Ok! Då kör vi igen!\n",
            "Jag förstod inte riktigt vad du menade. Svara med ett heltal.\n",
            "Jag förstod inte riktigt vad du menade. Svara med ett heltal.\n",
            "Ja! Det är korrekt!\n",
            "Du klarade 4 av 5 frågor. Tack för att du spelade!\n"
          ]
        }
      ],
      "source": [
        "import random\n",
        "\n",
        "# b)\n",
        "\n",
        "print('Välkommen till multiplikationsspelet!')\n",
        "\n",
        "num_questions = 0                                                                               # Totalt antal frågor som har ställts\n",
        "points = 0                                                                                      # Totalt antal korrekta svar\n",
        "run = True                                                                                      # Sanningsvärde för om spelet ska fortsätta köras eller avslutas\n",
        "\n",
        "while run:                                                                                      # Om spelet ska fortsätta köras\n",
        "    while True: \n",
        "        inp = input('Välj svårighetsgrad: \\nLätt [1] \\nMedium [2] \\nSvårtt [3] ')               # Användarens val av svårighetsgrad\n",
        "\n",
        "        if inp in ['1', '2', '3']:                                                              # Om användarens input är giltig\n",
        "            difficulty = int(inp)                                                               # Svårighetsgrad\n",
        "            break                                                                               # Avbryt while-loopen\n",
        "        \n",
        "        else:                                                                                   # Om användarens input är ogiltig\n",
        "            print('Jag förstod inte riktigt vad du menade. Svara \"1\", \"2\" eller \"3\".')          # Be användaren att ge en giltig input\n",
        "\n",
        "    if difficulty == 1:                                                                         # Om svårighetsgraden är lätt\n",
        "        x = random.randint(1, 10)                                                               # Faktor 1; inom intervallet [1, 10]\n",
        "        y = random.randint(1, 10)                                                               # Faktor 2; inom intervallet [1, 10]\n",
        "    \n",
        "    elif difficulty == 2:                                                                       # Om svårighetsgraden är medium\n",
        "        x = random.randint(1, 10)                                                               # Faktor 1; inom intervallet [1, 10]\n",
        "        y = random.randint(11, 20)                                                              # Faktor 2; inom intervallet [11, 20]\n",
        "    \n",
        "    else:                                                                                       # Om svårighetsgraden är svårt\n",
        "        x = random.randint(11, 20)                                                              # Faktor 1; inom intervallet [11, 20]\n",
        "        y = random.randint(11, 20)                                                              # Faktor 2; inom intervallet [11, 20]\n",
        "    \n",
        "    answer = x*y                                                                                # Korrekt svar; produkt av 'x' och 'y'\n",
        "    num_questions += 1                                                                          # Öka 'num_questions' med 1\n",
        "\n",
        "    while True:\n",
        "            inp = input(f'Vad är {x}*{y}? ')                                                    # Användarens svar på frågan\n",
        "\n",
        "            if inp.isdigit():                                                                   # Om användarens input är ett heltal\n",
        "                inp = int(inp)                                                                  # Omvandla 'inp' till en integer\n",
        "                break                                                                           # Avbryt while-loopen\n",
        "\n",
        "            else:                                                                               # Om användarens input inte är ett heltal\n",
        "                print('Jag förstod inte riktigt vad du menade. Svara med ett heltal.')          # Be användaren att ge en giltig input\n",
        "    \n",
        "    if inp == answer:                                                                           # Om användarens svar är korrekt\n",
        "        print('Ja! Det är korrekt!')    \n",
        "        points += 1                                                                             # Öka 'points' med 1\n",
        "    \n",
        "    else:                                                                                       # Om användarens svar är inkorrekt\n",
        "        print(f'Inkorrekt! Svaret var {answer}.')                                               # Skriv ut korrekt svar\n",
        "\n",
        "    while True:     \n",
        "        inp = input('Vill du spela igen? [ja/nej]: ').lower()                                   # Användarens svar på om hen vill spela igen\n",
        "        \n",
        "        if inp == 'ja':                                                                         # Om användaren svarade ja\n",
        "            print('Ok! Då kör vi igen!')    \n",
        "            break                                                                               # Avbryt while-loopen\n",
        "        \n",
        "        elif inp == 'nej':                                                                      # Om användaren svarade nej\n",
        "            print(f'Du klarade {points} av {num_questions} frågor. Tack för att du spelade!')   # Skriv ut antalet korrekta svar av totala antalet frågor\n",
        "            run = False                                                                         # Ändra 'run' till False för att avsluta spelet\n",
        "            break                                                                               # Avbryt while-loopen\n",
        "        \n",
        "        else:                                                                                   # Om användaren ger en ogiltig input\n",
        "            print('Jag förstod inte riktigt vad du menade. Svara \"ja\" eller \"nej\".')            # Be användaren att ge en giltig input"
      ]
    },
    {
      "cell_type": "code",
      "execution_count": 16,
      "metadata": {},
      "outputs": [
        {
          "name": "stdout",
          "output_type": "stream",
          "text": [
            "Välkommen till multiplikationsspelet!\n",
            "\n",
            "I det här spelet får du en minut på dig att svara rätt på så många multiplikationsfrågor som möjligt.\n",
            "Jag förstod inte riktigt vad du menade. Svara \"1\", \"2\" eller \"3\".\n",
            "Jag förstod inte riktigt vad du menade. Svara \"1\", \"2\" eller \"3\".\n",
            "Jag förstod inte riktigt vad du menade. Svara \"1\", \"2\" eller \"3\".\n",
            "Jag förstod inte riktigt vad du menade. Svara \"1\", \"2\" eller \"3\".\n",
            "Jag förstod inte riktigt vad du menade. Svara med ett heltal.\n",
            "Jag förstod inte riktigt vad du menade. Svara med ett heltal.\n",
            "Ja! Det är korrekt!\n",
            "Ja! Det är korrekt!\n",
            "Ja! Det är korrekt!\n",
            "Ja! Det är korrekt!\n",
            "Ja! Det är korrekt!\n",
            "Ja! Det är korrekt!\n",
            "Inkorrekt! Svaret var 54.\n",
            "Ja! Det är korrekt!\n",
            "Ja! Det är korrekt!\n",
            "Ja! Det är korrekt!\n",
            "Ja! Det är korrekt!\n",
            "Ja! Det är korrekt!\n",
            "Ja! Det är korrekt!\n",
            "Ja! Det är korrekt!\n",
            "Ja! Det är korrekt!\n",
            "Ja! Det är korrekt!\n",
            "Inkorrekt! Svaret var 48.\n",
            "Inkorrekt! Svaret var 49.\n",
            "Inkorrekt! Svaret var 12.\n",
            "Inkorrekt! Svaret var 30.\n",
            "Inkorrekt! Svaret var 24.\n",
            "Inkorrekt! Svaret var 36.\n",
            "Inkorrekt! Svaret var 90.\n",
            "Inkorrekt! Svaret var 9.\n",
            "Inkorrekt! Svaret var 32.\n",
            "Inkorrekt! Svaret var 40.\n",
            "Inkorrekt! Svaret var 45.\n",
            "Inkorrekt! Svaret var 35.\n",
            "Inkorrekt! Svaret var 20.\n",
            "Inkorrekt! Svaret var 64.\n",
            "Ja! Det är korrekt!\n",
            "Ja! Det är korrekt!\n",
            "Ja! Det är korrekt!\n",
            "Ja! Det är korrekt!\n",
            "Ja! Det är korrekt!\n",
            "Ja! Det är korrekt!\n",
            "Ja! Det är korrekt!\n",
            "Ja! Det är korrekt!\n",
            "Ja! Det är korrekt!\n",
            "Tiden är ute! Du klarade 24 av 39 frågor.\n",
            "Jag förstod inte riktigt vad du menade. Svara \"ja\" eller \"nej\".\n",
            "Ok! Då kör vi igen!\n",
            "Jag förstod inte riktigt vad du menade. Svara med ett heltal.\n",
            "Jag förstod inte riktigt vad du menade. Svara med ett heltal.\n",
            "Ja! Det är korrekt!\n",
            "Ja! Det är korrekt!\n",
            "Ja! Det är korrekt!\n",
            "Ja! Det är korrekt!\n",
            "Ja! Det är korrekt!\n",
            "Ja! Det är korrekt!\n",
            "Inkorrekt! Svaret var 44.\n",
            "Ja! Det är korrekt!\n",
            "Inkorrekt! Svaret var 54.\n",
            "Jag förstod inte riktigt vad du menade. Svara med ett heltal.\n",
            "Ja! Det är korrekt!\n",
            "Ja! Det är korrekt!\n",
            "Ja! Det är korrekt!\n",
            "Ja! Det är korrekt!\n",
            "Tiden är ute! Du klarade 11 av 13 frågor.\n",
            "Ok! Då kör vi igen!\n",
            "Jag förstod inte riktigt vad du menade. Svara \"1\", \"2\" eller \"3\".\n",
            "Jag förstod inte riktigt vad du menade. Svara med ett heltal.\n",
            "Jag förstod inte riktigt vad du menade. Svara med ett heltal.\n",
            "Ja! Det är korrekt!\n",
            "Ja! Det är korrekt!\n",
            "Jag förstod inte riktigt vad du menade. Svara med ett heltal.\n",
            "Ja! Det är korrekt!\n",
            "Jag förstod inte riktigt vad du menade. Svara med ett heltal.\n",
            "Ja! Det är korrekt!\n",
            "Ja! Det är korrekt!\n",
            "Tiden är ute! Du klarade 5 av 5 frågor.\n",
            "Tack för att du spelade!\n"
          ]
        }
      ],
      "source": [
        "import random\n",
        "import time\n",
        "\n",
        "# c)\n",
        "\n",
        "print('Välkommen till multiplikationsspelet!')\n",
        "print()\n",
        "print('I det här spelet får du en minut på dig att svara rätt på så många multiplikationsfrågor som möjligt.')\n",
        "\n",
        "run = True\n",
        "while run:\n",
        "    while True:\n",
        "        inp = input('Välj svårighetsgrad: \\nLätt [1] \\nMedium [2] \\nSvårtt [3] ')           # Användarens val av svårighetsgrad\n",
        "\n",
        "        if inp in ['1', '2', '3']:                                                          # Om användarens input är giltig\n",
        "            difficulty = int(inp)                                                           # Svårighetsgrad\n",
        "            break                                                                           # Avbryt while-loopen\n",
        "        \n",
        "        else:                                                                               # Om användarens input är ogiltig\n",
        "            print('Jag förstod inte riktigt vad du menade. Svara \"1\", \"2\" eller \"3\".')      # Be användaren att ge en giltig input\n",
        "\n",
        "    num_questions = 0                                                                       # Totalt antal frågor som har ställts\n",
        "    points = 0                                                                              # Totalt antal korrekta svar\n",
        "    start_time = time.time()                                                                # Tiden när spelet startar\n",
        "\n",
        "    while time.time() - start_time < 60:                                                    # Medan det har gått mindre än 60 sekunder sedan spelet startade\n",
        "        if difficulty == 1:                                                                 # Om svårighetsgraden är lätt\n",
        "            x = random.randint(1, 10)                                                       # Faktor 1; inom intervallet [1, 10]\n",
        "            y = random.randint(1, 10)                                                       # Faktor 2; inom intervallet [1, 10]\n",
        "        \n",
        "        elif difficulty == 2:                                                               # Om svårighetsgraden är medium\n",
        "            x = random.randint(1, 10)                                                       # Faktor 1; inom intervallet [1, 10]\n",
        "            y = random.randint(11, 20)                                                      # Faktor 2; inom intervallet [11, 20]\n",
        "        \n",
        "        else:                                                                               # Om svårighetsgraden är svårt\n",
        "            x = random.randint(11, 20)                                                      # Faktor 1; inom intervallet [11, 20]\n",
        "            y = random.randint(11, 20)                                                      # Faktor 2; inom intervallet [11, 20]\n",
        "        \n",
        "        answer = x*y                                                                        # Korrekt svar; produkt av 'x' och 'y'\n",
        "        num_questions += 1                                                                  # Öka 'num_questions' med 1\n",
        "    \n",
        "        while True:\n",
        "            inp = input(f'Vad är {x}*{y}? ')                                                # Användarens svar på frågan\n",
        "\n",
        "            if inp.isdigit():                                                               # Om användarens input är ett heltal\n",
        "                inp = int(inp)                                                              # Omvandla 'inp' till en integer\n",
        "                break                                                                       # Avbryt while-loopen\n",
        "\n",
        "            else:                                                                           # Om användarens input inte är ett heltal\n",
        "                print('Jag förstod inte riktigt vad du menade. Svara med ett heltal.')      # Be användaren att ge en giltig input\n",
        "    \n",
        "        if inp == answer:                                                                   # Om användarens svar är korrekt\n",
        "            print('Ja! Det är korrekt!')    \n",
        "            points += 1                                                                     # Öka 'points' med 1\n",
        "        \n",
        "        else:                                                                               # Om användarens svar är inkorrekt\n",
        "            print(f'Inkorrekt! Svaret var {answer}.')                                       # Skriv ut korrekt svar\n",
        "\n",
        "    print(f'Tiden är ute! Du klarade {points} av {num_questions} frågor.')                  # Skriv ut antalet korrekta svar av totala antalet frågor\n",
        "\n",
        "    while True:     \n",
        "        inp = input('Vill du spela igen? [ja/nej]: ').lower()                               # Användarens svar på om hen vill spela igen\n",
        "        \n",
        "        if inp == 'ja':                                                                     # Om användaren svarade ja\n",
        "            print('Ok! Då kör vi igen!')    \n",
        "            break                                                                           # Avbryt while-loopen\n",
        "        \n",
        "        elif inp == 'nej':                                                                  # Om användaren svarade nej\n",
        "            print('Tack för att du spelade!')\n",
        "            run = False                                                                     # Ändra 'run' till False för att avsluta spelet\n",
        "            break                                                                           # Avbryt while-loopen\n",
        "        \n",
        "        else:                                                                               # Om användaren ger en ogiltig input\n",
        "            print('Jag förstod inte riktigt vad du menade. Svara \"ja\" eller \"nej\".')        # Be användaren att ge en giltig input"
      ]
    },
    {
      "cell_type": "markdown",
      "metadata": {
        "id": "pnm3fwjJQNgd"
      },
      "source": [
        "---\n",
        "## 5. Check convergence (**)\n",
        "Use a while statement to compute the following sums:\n",
        "\n",
        "&nbsp; a) &nbsp; $\\text{sum} = 1 + \\frac{1}{2} + \\frac{1}{4} + \\frac{1}{8} + \\dots + \\frac{1}{2^n}$\n",
        "\n",
        "&nbsp; b) &nbsp; $\\text{sum} = 1 - \\frac{1}{3} + \\frac{1}{5} - \\frac{1}{7} + \\dots + \\frac{(-1)^n}{2n+1}$\n",
        "\n",
        "Try different values on $n$ to see which value it converges to.\n",
        "\n",
        "<details>\n",
        "\n",
        "<summary>answer </summary>\n",
        "\n",
        "&nbsp; a) &nbsp; $1 + \\frac{1}{2} + \\frac{1}{4} + \\frac{1}{8} + \\dots + \\frac{1}{2^n} \\xrightarrow[n\\rightarrow \\infty]{} 2$\n",
        "\n",
        "&nbsp; b) &nbsp; $ 1 - \\frac{1}{3} + \\frac{1}{5} - \\frac{1}{7} + \\dots + \\frac{(-1)^n}{2n+1} \\xrightarrow[n\\rightarrow \\infty]{} \\frac{\\pi}{4}$\n",
        "\n",
        "</details>"
      ]
    },
    {
      "cell_type": "code",
      "execution_count": 17,
      "metadata": {},
      "outputs": [
        {
          "name": "stdout",
          "output_type": "stream",
          "text": [
            "1 + 1/2 + 1/4 + ... + 1/256 + 1/512 = 1.998046875\n"
          ]
        }
      ],
      "source": [
        "# a)\n",
        "\n",
        "num_terms = int(input('Välj antal termer till summan: '))                                   # Antal termer i summan\n",
        "s = 0                                                                                       # Summa\n",
        "i = 0                                                                                       # Indexvariabel till summan\n",
        "\n",
        "while i < num_terms:                                                                        # Medan 'i' är mindre än 'num_terms'\n",
        "    s += 1/(2**i)                                                                           # Addera nuvarande term till summa\n",
        "    i += 1                                                                                  # Öka 'i' med 1\n",
        "\n",
        "if num_terms < 6:                                                                           # Om 'num_terms' är mindre än 6\n",
        "    text = '1'                                                                              # Text som ska skrivas ut\n",
        "    i = 1                                                                                   # Indexvariabel för utskrift av matematiskt uttryck\n",
        "\n",
        "    while i < num_terms:                                                                    # Om 'i' är mindre än 'num_terms'\n",
        "        text += f' + 1/{2**i}'                                                              # Lägg till term i 'text'\n",
        "        i += 1                                                                              # Öka 'i' med 1\n",
        "\n",
        "    print(f'{text} = {s}')                                                                  # Skriv ut matematiskt uttryck och summa\n",
        "\n",
        "else:                                                                                       # Om 'num_terms' är mer än eller lika med 6\n",
        "    print(f'1 + 1/2 + 1/4 + ... + 1/{2**(num_terms - 2)} + 1/{2**(num_terms - 1)} = {s}')   # Skriv ut matematiskt uttryck och summa"
      ]
    },
    {
      "cell_type": "code",
      "execution_count": 18,
      "metadata": {},
      "outputs": [
        {
          "name": "stdout",
          "output_type": "stream",
          "text": [
            "1 - 1/3 + 1/5 + ... + 1/17 - 1/19 = 0.7604599047323508\n"
          ]
        }
      ],
      "source": [
        "# b)\n",
        "\n",
        "num_terms = int(input('Välj antal termer till summan: '))                                               # Antal termer i summan\n",
        "s = 0                                                                                                   # Summa\n",
        "i = 0                                                                                                   # Indexvariabel till summan\n",
        "\n",
        "while i < num_terms:                                                                                    # Medan 'i' är mindre än 'num_terms'\n",
        "    s += (-1)**i/(2*i + 1)                                                                              # Addera nuvarande term till summa\n",
        "    i += 1                                                                                              # Öka 'i' med 1\n",
        "\n",
        "if num_terms < 6:                                                                                       # Om 'num_terms' är mindre än 6\n",
        "    text = '1'                                                                                          # Text som ska skrivas ut\n",
        "    i = 1                                                                                               # Indexvariabel för utskrift av matematiskt uttryck\n",
        "\n",
        "    while i < num_terms:                                                                                # Om 'i' är mindre än 'num_terms'\n",
        "\n",
        "        if i % 2 == 0:                                                                                  # Om 'i' är jämnt\n",
        "            text += f' + 1/{2**i}'                                                                      # Lägg till (positiv) term i 'text'\n",
        "\n",
        "        else:                                                                                           # Om 'i' är udda\n",
        "            text += f' - 1/{2**i}'                                                                      # Lägg till (negativ) term i 'text'\n",
        "\n",
        "        i += 1                                                                                          # Öka 'i' med 1\n",
        "\n",
        "    print(f'{text} = {s}')                                                                              # Skriv ut matematiskt uttryck och summa\n",
        "\n",
        "else:                                                                                                   # Om 'num_terms' är mer än eller lika med 6\n",
        "\n",
        "    if num_terms % 2 == 0:                                                                              # Om 'num_terms' är jämnt\n",
        "        print(f'1 - 1/3 + 1/5 + ... + 1/{2*(num_terms - 2) + 1} - 1/{2*(num_terms - 1) + 1} = {s}')     # Skriv ut matematiskt uttryck och summa\n",
        "\n",
        "    else:                                                                                               # Om 'num_terms' är udda\n",
        "        print(f'1 - 1/3 + 1/5 + ... - 1/{2*(num_terms - 2) + 1} + 1/{2*(num_terms - 1) + 1} = {s}')     # Skriv ut matematiskt uttryck och summa"
      ]
    }
  ],
  "metadata": {
    "colab": {
      "include_colab_link": true,
      "provenance": []
    },
    "kernelspec": {
      "display_name": "Python 3 (ipykernel)",
      "language": "python",
      "name": "python3"
    },
    "language_info": {
      "codemirror_mode": {
        "name": "ipython",
        "version": 3
      },
      "file_extension": ".py",
      "mimetype": "text/x-python",
      "name": "python",
      "nbconvert_exporter": "python",
      "pygments_lexer": "ipython3",
      "version": "3.12.0"
    },
    "vscode": {
      "interpreter": {
        "hash": "0da836a34428266995a795f1e1e27b816fa1c02f148d9728b3fbbbc5459afca6"
      }
    }
  },
  "nbformat": 4,
  "nbformat_minor": 0
}
