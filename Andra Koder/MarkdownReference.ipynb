{
 "cells": [
  {
   "cell_type": "markdown",
   "metadata": {},
   "source": [
    "# Markdown Referens"
   ]
  },
  {
   "cell_type": "markdown",
   "metadata": {},
   "source": [
    "## Rubriker"
   ]
  },
  {
   "cell_type": "markdown",
   "metadata": {},
   "source": [
    "För att skapa en rubrik skriver du # innan rubriken. Antalet # bestämmer hierarkin av rubrikerna.\n",
    "\n",
    "| Syntax | Output |\n",
    "| ------ | ------ |\n",
    "| # Heading 1 | # Heading 1 |"
   ]
  },
  {
   "cell_type": "markdown",
   "metadata": {},
   "source": []
  }
 ],
 "metadata": {
  "language_info": {
   "name": "python"
  }
 },
 "nbformat": 4,
 "nbformat_minor": 2
}
