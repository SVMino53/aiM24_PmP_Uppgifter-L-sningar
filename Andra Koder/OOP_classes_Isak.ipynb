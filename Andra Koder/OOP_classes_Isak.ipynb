{
 "cells": [
  {
   "cell_type": "code",
   "execution_count": 8,
   "metadata": {},
   "outputs": [],
   "source": [
    "def my_function():\n",
    "    pass\n",
    "\n",
    "\n",
    "class MyClass:\n",
    "    \n",
    "    def __init__(self) -> None:\n",
    "        pass\n",
    "\n",
    "    def my_method(self, my_parameter) -> None:\n",
    "        print(f\"{my_parameter}\")"
   ]
  },
  {
   "cell_type": "code",
   "execution_count": 9,
   "metadata": {},
   "outputs": [
    {
     "name": "stdout",
     "output_type": "stream",
     "text": [
      "10\n",
      "<__main__.MyClass object at 0x000001AE745079B0>\n"
     ]
    }
   ],
   "source": [
    "my_variable = MyClass()\n",
    "\n",
    "my_argument = 10\n",
    "my_variable.my_method(my_argument)\n",
    "\n",
    "print(my_variable)"
   ]
  },
  {
   "cell_type": "code",
   "execution_count": 11,
   "metadata": {},
   "outputs": [
    {
     "name": "stdout",
     "output_type": "stream",
     "text": [
      "Antal steg: 10\n"
     ]
    }
   ],
   "source": [
    "def until_zero(start_value : int) -> int:\n",
    "    if start_value == 0:\n",
    "        return 0\n",
    "    else:\n",
    "        return until_zero(start_value - 1) + 1\n",
    "    \n",
    "\n",
    "steps2zero = until_zero(10)\n",
    "\n",
    "print(f\"Antal steg: {steps2zero}\")"
   ]
  },
  {
   "cell_type": "code",
   "execution_count": 27,
   "metadata": {},
   "outputs": [
    {
     "name": "stdout",
     "output_type": "stream",
     "text": [
      "False is of type <class 'bool'>\n"
     ]
    }
   ],
   "source": [
    "num = 123           # En datatyp, som i Python är en klass, kan instansieras utan att kalla på klassen\n",
    "num = int(123)      # Här skapar vi en instans av klassen 'int' genom att kalla på klassen. Detta gör exakt samma sak som ovan\n",
    "\n",
    "print(f\"{num} is of type {type(num)}\")\n",
    "\n",
    "val = MyClass()     # En klass som inte är en datatyp måste instantieras genom att kalla på klassen"
   ]
  },
  {
   "cell_type": "code",
   "execution_count": 28,
   "metadata": {},
   "outputs": [
    {
     "data": {
      "text/plain": [
       "1"
      ]
     },
     "execution_count": 28,
     "metadata": {},
     "output_type": "execute_result"
    }
   ],
   "source": [
    "str                 # Detta är en klass\n",
    "\"hej\"               # Detta är en instans av klassen 'str'\n",
    "\"hej\".count('h')    # 'count()' är en metod i klassen 'str'. (En funktion innanför en klass är en metod)"
   ]
  }
 ],
 "metadata": {
  "kernelspec": {
   "display_name": "ITHS_PmP",
   "language": "python",
   "name": "python3"
  },
  "language_info": {
   "codemirror_mode": {
    "name": "ipython",
    "version": 3
   },
   "file_extension": ".py",
   "mimetype": "text/x-python",
   "name": "python",
   "nbconvert_exporter": "python",
   "pygments_lexer": "ipython3",
   "version": "3.12.7"
  }
 },
 "nbformat": 4,
 "nbformat_minor": 2
}
