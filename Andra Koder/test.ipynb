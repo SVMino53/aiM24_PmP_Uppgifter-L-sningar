{
 "cells": [
  {
   "cell_type": "markdown",
   "metadata": {},
   "source": [
    "# Testkoder\n",
    "---\n",
    "## Basic Stuff"
   ]
  },
  {
   "cell_type": "code",
   "execution_count": 22,
   "metadata": {},
   "outputs": [
    {
     "data": {
      "text/plain": [
       "2"
      ]
     },
     "execution_count": 22,
     "metadata": {},
     "output_type": "execute_result"
    }
   ],
   "source": [
    "1+1"
   ]
  },
  {
   "cell_type": "code",
   "execution_count": 23,
   "metadata": {},
   "outputs": [],
   "source": [
    "txt = \"Uh-oh!\""
   ]
  },
  {
   "cell_type": "code",
   "execution_count": 24,
   "metadata": {},
   "outputs": [
    {
     "name": "stdout",
     "output_type": "stream",
     "text": [
      "Uh-oh!\n"
     ]
    }
   ],
   "source": [
    "print(txt)"
   ]
  },
  {
   "cell_type": "code",
   "execution_count": 26,
   "metadata": {},
   "outputs": [
    {
     "name": "stdout",
     "output_type": "stream",
     "text": [
      "Hej Isak! Eftersom du är 26 år så får du komma in.\n"
     ]
    }
   ],
   "source": [
    "name = 'Isak'\n",
    "age = 26\n",
    "\n",
    "print(f'Hej {name}! Eftersom du är {age} år så får du komma in.')"
   ]
  },
  {
   "cell_type": "markdown",
   "metadata": {},
   "source": [
    "## Lite Avancerat"
   ]
  },
  {
   "cell_type": "code",
   "execution_count": 25,
   "metadata": {},
   "outputs": [
    {
     "name": "stdout",
     "output_type": "stream",
     "text": [
      "1\n",
      "1\n",
      "2\n",
      "3\n",
      "5\n",
      "8\n",
      "13\n",
      "21\n",
      "34\n",
      "55\n"
     ]
    }
   ],
   "source": [
    "# Första termerna i Fibonaccis sekvens\n",
    "a = 1\n",
    "b = 1\n",
    "\n",
    "# Välj hur många termer som ska visas\n",
    "num = int(input(\"Välj antal termer som ska visas: \"))\n",
    "\n",
    "# Srkriv ut num antal termer en term i taget\n",
    "for n in range(num):\n",
    "    print(a)\n",
    "    temp = a + b\n",
    "    a = b\n",
    "    b = temp\n",
    "\n"
   ]
  },
  {
   "cell_type": "code",
   "execution_count": 7,
   "metadata": {},
   "outputs": [
    {
     "data": {
      "text/plain": [
       "0.30000000000000004"
      ]
     },
     "execution_count": 7,
     "metadata": {},
     "output_type": "execute_result"
    }
   ],
   "source": [
    "0.1 + 0.2"
   ]
  },
  {
   "cell_type": "code",
   "execution_count": 30,
   "metadata": {},
   "outputs": [
    {
     "name": "stdout",
     "output_type": "stream",
     "text": [
      "3\n"
     ]
    }
   ],
   "source": [
    "val = int(float(input('Type in a float value: ')))\n",
    "\n",
    "print(val)"
   ]
  },
  {
   "cell_type": "code",
   "execution_count": 43,
   "metadata": {},
   "outputs": [
    {
     "name": "stdout",
     "output_type": "stream",
     "text": [
      "Hej hej!\n",
      "Hej igen!\n",
      "Hej igen!\n",
      "Hej igen!\n",
      "Hej igen!\n",
      "Hej igen!\n",
      "Du sa hej 6 gånger.\n"
     ]
    }
   ],
   "source": [
    "antal_hej = 0\n",
    "\n",
    "while input('Skriv ett ord: ').lower() == 'hej':\n",
    "    antal_hej += 1\n",
    "    if antal_hej == 1:\n",
    "        print('Hej hej!')\n",
    "    elif antal_hej <= 10:\n",
    "        print('Hej igen!')\n",
    "    else:\n",
    "        print('Snälla, det räcker nu.')\n",
    "\n",
    "print(f'Du sa hej {antal_hej} gånger.')"
   ]
  },
  {
   "cell_type": "code",
   "execution_count": 55,
   "metadata": {},
   "outputs": [
    {
     "name": "stdout",
     "output_type": "stream",
     "text": [
      "Jag är, 26, år.\n",
      "\n",
      "Jag fyller 27 nästa år.\n"
     ]
    }
   ],
   "source": [
    "age = 26\n",
    "print('Jag är', age, 'år.', sep = ', ', end = '\\n\\n')\n",
    "print('Jag fyller', age + 1, 'nästa år.')"
   ]
  },
  {
   "cell_type": "code",
   "execution_count": 2,
   "metadata": {},
   "outputs": [
    {
     "name": "stdout",
     "output_type": "stream",
     "text": [
      "['Isak', 'Pascal']\n"
     ]
    }
   ],
   "source": [
    "lista = ['Isak', 'Pascal', 'Bach']\n",
    "\n",
    "print(lista[0 : 2])"
   ]
  },
  {
   "cell_type": "code",
   "execution_count": 4,
   "metadata": {},
   "outputs": [
    {
     "name": "stdout",
     "output_type": "stream",
     "text": [
      "Idag är det tisdag.\n",
      "Dag 1: måndag\n",
      "Dag 2: tisdag\n",
      "Dag 3: onsdag\n",
      "Dag 4: torsdag\n",
      "Dag 5: fredag\n",
      "Dag 6: lördag\n",
      "Dag 7: söndag\n"
     ]
    }
   ],
   "source": [
    "veckodagar = ['måndag', 'tisdag', 'onsdag', 'torsdag', 'fredag', 'lördag', 'söndag']\n",
    "\n",
    "print(f'Idag är det {veckodagar[1]}.')\n",
    "\n",
    "for i, veckodag in enumerate(veckodagar):\n",
    "    print(f'Dag {i + 1}: {veckodag}')"
   ]
  },
  {
   "cell_type": "code",
   "execution_count": 5,
   "metadata": {},
   "outputs": [
    {
     "name": "stdout",
     "output_type": "stream",
     "text": [
      "Jag är en sträng. är av typen <class 'str'>\n",
      "10 är av typen <class 'int'>\n",
      "-0.4 är av typen <class 'float'>\n",
      "True är av typen <class 'bool'>\n"
     ]
    }
   ],
   "source": [
    "skum_lista = ['Jag är en sträng.', 10, -0.4, True]\n",
    "\n",
    "for element in skum_lista:\n",
    "    print(f'{element} är av typen {type(element)}')"
   ]
  },
  {
   "cell_type": "code",
   "execution_count": 5,
   "metadata": {},
   "outputs": [
    {
     "name": "stdout",
     "output_type": "stream",
     "text": [
      "' '\t'!'\t'\"'\t'#'\t'$'\t'%'\t'&'\t'''\t'('\t')'\t\n",
      "'*'\t'+'\t','\t'-'\t'.'\t'/'\t'0'\t'1'\t'2'\t'3'\t\n",
      "'4'\t'5'\t'6'\t'7'\t'8'\t'9'\t':'\t';'\t'<'\t'='\t\n",
      "'>'\t'?'\t'@'\t'A'\t'B'\t'C'\t'D'\t'E'\t'F'\t'G'\t\n",
      "'H'\t'I'\t'J'\t'K'\t'L'\t'M'\t'N'\t'O'\t'P'\t'Q'\t\n",
      "'R'\t'S'\t'T'\t'U'\t'V'\t'W'\t'X'\t'Y'\t'Z'\t'['\t\n",
      "'\\'\t']'\t'^'\t'_'\t'`'\t'a'\t'b'\t'c'\t'd'\t'e'\t\n",
      "'f'\t'g'\t'h'\t'i'\t'j'\t'k'\t'l'\t'm'\t'n'\t'o'\t\n",
      "'p'\t'q'\t'r'\t's'\t't'\t'u'\t'v'\t'w'\t'x'\t'y'\t\n",
      "'z'\t'{'\t'|'\t'}'\t'~'\t''\t''\t''\t''\t''\t\n",
      "''\t''\t''\t''\t''\t''\t''\t''\t''\t''\t\n",
      "''\t''\t''\t''\t''\t''\t''\t''\t''\t''\t\n",
      "''\t''\t''\t''\t''\t''\t''\t''\t' '\t'¡'\t\n",
      "'¢'\t'£'\t'¤'\t'¥'\t'¦'\t'§'\t'¨'\t'©'\t'ª'\t'«'\t\n",
      "'¬'\t'­'\t'®'\t'¯'\t'°'\t'±'\t'²'\t'³'\t'´'\t'µ'\t\n",
      "'¶'\t'·'\t'¸'\t'¹'\t'º'\t'»'\t'¼'\t'½'\t'¾'\t'¿'\t\n",
      "'À'\t'Á'\t'Â'\t'Ã'\t'Ä'\t'Å'\t'Æ'\t'Ç'\t'È'\t'É'\t\n",
      "'Ê'\t'Ë'\t'Ì'\t'Í'\t'Î'\t'Ï'\t'Ð'\t'Ñ'\t'Ò'\t'Ó'\t\n",
      "'Ô'\t'Õ'\t'Ö'\t'×'\t'Ø'\t'Ù'\t'Ú'\t'Û'\t'Ü'\t'Ý'\t\n",
      "'Þ'\t'ß'\t'à'\t'á'\t'â'\t'ã'\t'ä'\t'å'\t'æ'\t'ç'\t\n",
      "'è'\t'é'\t'ê'\t'ë'\t'ì'\t'í'\t'î'\t'ï'\t'ð'\t'ñ'\t\n",
      "'ò'\t'ó'\t'ô'\t'õ'\t'ö'\t'÷'\t'ø'\t'ù'\t'ú'\t'û'\t\n",
      "'ü'\t'ý'\t'þ'\t"
     ]
    }
   ],
   "source": [
    "for val in range(32, 255):\n",
    "    print(f\"'{chr(val)}'\", end='\\t')\n",
    "    if (val - 32) % 10 == 9:\n",
    "        print()"
   ]
  },
  {
   "cell_type": "code",
   "execution_count": 20,
   "metadata": {},
   "outputs": [
    {
     "name": "stdout",
     "output_type": "stream",
     "text": [
      "<zip object at 0x0000021A250B0A40>\n",
      "<class 'zip'>\n",
      "['måndag: banan', 'tisdag: banan igen', 'onsdag: äpple', 'torsdag: medicin', 'fredag: chips']\n"
     ]
    }
   ],
   "source": [
    "menu = ['banan', 'banan igen', 'äpple', 'medicin', 'chips']\n",
    "weekdays = ['måndag', 'tisdag', 'onsdag', 'torsdag', 'fredag']\n",
    "\n",
    "zipped_list = zip(weekdays, menu)\n",
    "week_menu = [f'{day}: {food}' for day, food in zipped_list]\n",
    "\n",
    "print(zipped_list)\n",
    "print(type(zipped_list))\n",
    "#print(zipped_list[0])\n",
    "print(week_menu)"
   ]
  },
  {
   "cell_type": "code",
   "execution_count": 3,
   "metadata": {},
   "outputs": [
    {
     "name": "stdout",
     "output_type": "stream",
     "text": [
      "b\n",
      "98\n"
     ]
    }
   ],
   "source": [
    "print(chr(98))\n",
    "print(ord('b'))"
   ]
  },
  {
   "cell_type": "markdown",
   "metadata": {},
   "source": [
    "För att göra ett enstaka radbyte  \n",
    "så ska man sätta två mellanrum  \n",
    "på slutet av raden."
   ]
  },
  {
   "cell_type": "code",
   "execution_count": 1,
   "metadata": {},
   "outputs": [
    {
     "ename": "IndentationError",
     "evalue": "expected an indented block after 'if' statement on line 1 (4186760585.py, line 3)",
     "output_type": "error",
     "traceback": [
      "\u001b[1;36m  Cell \u001b[1;32mIn[1], line 3\u001b[1;36m\u001b[0m\n\u001b[1;33m    print('What is happening?!')\u001b[0m\n\u001b[1;37m    ^\u001b[0m\n\u001b[1;31mIndentationError\u001b[0m\u001b[1;31m:\u001b[0m expected an indented block after 'if' statement on line 1\n"
     ]
    }
   ],
   "source": [
    "if True:\n",
    "\n",
    "print('What is happening?!')"
   ]
  },
  {
   "cell_type": "code",
   "execution_count": 4,
   "metadata": {},
   "outputs": [
    {
     "name": "stdout",
     "output_type": "stream",
     "text": [
      "{'Isak': {'relation': 'jag', 'ålder': 26}, 'Kajsa': {'relation': 'lillasyster', 'ålder': 24}, 'Tintin': {'relation': 'storasyster', 'ålder': 35}}\n"
     ]
    }
   ],
   "source": [
    "names = ['Isak', 'Kajsa', 'Tintin']\n",
    "relations = ['jag', 'lillasyster', 'storasyster']\n",
    "ages = [26, 24, 35]\n",
    "\n",
    "family = {name: {'relation': relation, 'ålder': age} for name, relation, age in zip(names, relations, ages)}\n",
    "\n",
    "print(family)"
   ]
  },
  {
   "cell_type": "code",
   "execution_count": 5,
   "metadata": {},
   "outputs": [
    {
     "name": "stdout",
     "output_type": "stream",
     "text": [
      "3\n"
     ]
    }
   ],
   "source": [
    "my_val = 13\n",
    "my_val %= 10\n",
    "\n",
    "print(my_val)"
   ]
  },
  {
   "cell_type": "code",
   "execution_count": 2,
   "metadata": {},
   "outputs": [
    {
     "name": "stdout",
     "output_type": "stream",
     "text": [
      "H\n",
      "e\n",
      "j\n"
     ]
    }
   ],
   "source": [
    "a, b, c = 'Hej'\n",
    "\n",
    "print(a)\n",
    "print(b)\n",
    "print(c)"
   ]
  },
  {
   "cell_type": "code",
   "execution_count": 3,
   "metadata": {},
   "outputs": [
    {
     "name": "stdout",
     "output_type": "stream",
     "text": [
      "a: f\n",
      "b: g\n",
      "c: h\n",
      "d: i\n",
      "e: j\n"
     ]
    }
   ],
   "source": [
    "first_dic = {key: 0 for key in 'abcde'}\n",
    "second_dic = {key: 5 for key in 'fghij'}\n",
    "\n",
    "for key, val in zip(first_dic, second_dic):\n",
    "    print(f'{key}: {val}')"
   ]
  },
  {
   "cell_type": "code",
   "execution_count": 9,
   "metadata": {},
   "outputs": [
    {
     "name": "stdout",
     "output_type": "stream",
     "text": [
      "120\n"
     ]
    }
   ],
   "source": [
    "def product(factors : list[int | float]) -> int | float:\n",
    "    prod = 1\n",
    "\n",
    "    for factor in factors:\n",
    "        prod *= factor\n",
    "    \n",
    "    return prod\n",
    "\n",
    "\n",
    "factors = [2, 3, 4, 5]\n",
    "print(product(factors))"
   ]
  },
  {
   "cell_type": "code",
   "execution_count": 12,
   "metadata": {},
   "outputs": [],
   "source": [
    "class my_class:\n",
    "    def __init__(self, my_parameter) -> None:\n",
    "        self.my_instance_variable = my_parameter\n",
    "\n",
    "    def __str__(self) -> str:\n",
    "        return str(self.my_instance_variable)\n",
    "\n",
    "    def my_method(self, my_parameter=None):\n",
    "        \"\"\"\n",
    "            Get or set this object's instance variable.\n",
    "\n",
    "            Args:\n",
    "                `my_parameter`: Sets the instance varriable to this value. **Leave empty if you want to get value.**\n",
    "\n",
    "            Returns:\n",
    "                `any`: `self.my_instance_variable`\n",
    "        \"\"\"\n",
    "        \n",
    "        if my_parameter is None:\n",
    "            return self.my_instance_variable\n",
    "        \n",
    "        else:\n",
    "            self.my_instance_variable = my_parameter"
   ]
  },
  {
   "cell_type": "code",
   "execution_count": 13,
   "metadata": {},
   "outputs": [
    {
     "name": "stdout",
     "output_type": "stream",
     "text": [
      "[1, 2, 3]\n",
      "\n",
      "12.5\n",
      "[1, 2, 3]\n"
     ]
    }
   ],
   "source": [
    "my_variable = my_class([1, 2, 3])\n",
    "\n",
    "print(my_variable)\n",
    "print()\n",
    "\n",
    "my_second_variable = my_variable.my_method()\n",
    "my_variable.my_method(12.5)\n",
    "\n",
    "print(my_variable)\n",
    "print(my_second_variable)"
   ]
  },
  {
   "cell_type": "code",
   "execution_count": 18,
   "metadata": {},
   "outputs": [],
   "source": [
    "import math\n",
    "\n",
    "class FaultyInt:\n",
    "    def __init__(self, val : int) -> None:\n",
    "        self.val = val\n",
    "\n",
    "    def __str__(self) -> str:\n",
    "        return str(self.val)\n",
    "\n",
    "    def __eq__(self, other: object) -> bool:\n",
    "        return self.val != other.val\n",
    "    \n",
    "    def __add__(self, other: object) -> object:\n",
    "        return FaultyInt(self.val - other.val)\n",
    "    \n",
    "    def __sub__(self, other: object) -> object:\n",
    "        return FaultyInt(0)\n",
    "    \n",
    "    def __mul__(self, other: object) -> object:\n",
    "        return FaultyInt(math.sqrt(self.val**2 + other.val**2))\n",
    "    \n",
    "    def __truediv__(self, other: object) -> object:\n",
    "        return FaultyInt(other.val / self.val)\n",
    "    \n",
    "    def __pow__(self, other: object) -> object:\n",
    "        new_val = self.val\n",
    "        for _ in range(other.val):\n",
    "            new_val **= 2\n",
    "\n",
    "        return FaultyInt(new_val)"
   ]
  },
  {
   "cell_type": "code",
   "execution_count": 30,
   "metadata": {},
   "outputs": [
    {
     "name": "stdout",
     "output_type": "stream",
     "text": [
      "Korrekta värden:\n",
      "  val1 == val2  ->  False\n",
      "  val1 + val2   ->  12\n",
      "  val1 - val2   ->  4\n",
      "  val1*val2     ->  32\n",
      "  val1/val2     ->  2.0\n",
      "  val1**val2    ->  4096\n",
      "\n",
      "Felaktiga värden:\n",
      "  val1 == val2  ->  True\n",
      "  val1 + val2   ->  4\n",
      "  val1 - val2   ->  0\n",
      "  val1*val2     ->  8.94427190999916\n",
      "  val1/val2     ->  0.5\n",
      "  val1**val2    ->  281474976710656\n"
     ]
    }
   ],
   "source": [
    "val1 = 8\n",
    "val2 = 4\n",
    "\n",
    "print(\"Korrekta värden:\")\n",
    "print(f\"  val1 == val2  ->  {val1 == val2}\")\n",
    "print(f\"  val1 + val2   ->  {val1 + val2}\")\n",
    "print(f\"  val1 - val2   ->  {val1 - val2}\")\n",
    "print(f\"  val1*val2     ->  {val1*val2}\")\n",
    "print(f\"  val1/val2     ->  {val1/val2}\")\n",
    "print(f\"  val1**val2    ->  {val1**val2}\")\n",
    "print()\n",
    "\n",
    "val1 = FaultyInt(8)\n",
    "val2 = FaultyInt(4)\n",
    "\n",
    "print(\"Felaktiga värden:\")\n",
    "print(f\"  val1 == val2  ->  {val1 == val2}\")\n",
    "print(f\"  val1 + val2   ->  {val1 + val2}\")\n",
    "print(f\"  val1 - val2   ->  {val1 - val2}\")\n",
    "print(f\"  val1*val2     ->  {val1*val2}\")\n",
    "print(f\"  val1/val2     ->  {val1/val2}\")\n",
    "print(f\"  val1**val2    ->  {val1**val2}\")"
   ]
  },
  {
   "cell_type": "code",
   "execution_count": 61,
   "metadata": {},
   "outputs": [
    {
     "name": "stdout",
     "output_type": "stream",
     "text": [
      "[♢K, ♠6, ♡6, ♢9, ♠3]\n"
     ]
    }
   ],
   "source": [
    "import playing_cards as plc\n",
    "import random\n",
    "\n",
    "rank_list = list(plc.Rank)\n",
    "\n",
    "hand = [plc.Card(random.choice(list(plc.Rank)), random.choice(list(plc.Suit))) for _ in range(5)]\n",
    "\n",
    "for card in hand:\n",
    "    card.show()\n",
    "\n",
    "print(hand)\n",
    "\n",
    "bad_card = plc.Card(plc.Rank.ACE, plc.Suit.SPADES)"
   ]
  },
  {
   "cell_type": "code",
   "execution_count": 11,
   "metadata": {},
   "outputs": [
    {
     "name": "stdout",
     "output_type": "stream",
     "text": [
      "TestClass(a=12, b=hej, c=0.3)\n",
      "[12, 'hej', 0.3]\n",
      "TestClass(a=Just Monica, b=Just Monica, c=Just Monica)\n",
      "['Just Monica', 'Just Monica', 'Just Monica']\n"
     ]
    }
   ],
   "source": [
    "from typing import (Literal, LiteralString)\n",
    "\n",
    "class TestClass:\n",
    "    def __init__(self, a, b, c) -> None:\n",
    "        self.a = a\n",
    "        self.b = b\n",
    "        self.c = c\n",
    "\n",
    "    @property\n",
    "    def a(self):\n",
    "        return self.__a\n",
    "\n",
    "    @property\n",
    "    def b(self):\n",
    "        return self.__b\n",
    "\n",
    "    @property\n",
    "    def c(self):\n",
    "        return self.__c\n",
    "    \n",
    "    @a.setter\n",
    "    def a(self, a):\n",
    "        self.__a = a\n",
    "    \n",
    "    @b.setter\n",
    "    def b(self, b):\n",
    "        self.__b = b\n",
    "    \n",
    "    @c.setter\n",
    "    def c(self, c):\n",
    "        self.__c = c\n",
    "\n",
    "    def __repr__(self) -> str:\n",
    "        return f\"TestClass(a={self.a}, b={self.b}, c={self.c})\"\n",
    "\n",
    "    def set_all_props(self, val) -> None:\n",
    "        for prop_name in [\"a\", \"b\", \"c\"]:\n",
    "            setattr(self, prop_name, val)\n",
    "\n",
    "    def get_all_props(self) -> list:\n",
    "        return [getattr(self, prop_name) for prop_name in [\"a\", \"b\", \"c\"]]\n",
    "\n",
    "\n",
    "test_obj = TestClass(12, 'hej', 0.3)\n",
    "\n",
    "print(test_obj)\n",
    "print(test_obj.get_all_props())\n",
    "\n",
    "test_obj.set_all_props(\"Just Monica\")\n",
    "\n",
    "print(test_obj)\n",
    "print(test_obj.get_all_props())"
   ]
  },
  {
   "cell_type": "code",
   "execution_count": 15,
   "metadata": {},
   "outputs": [],
   "source": [
    "import turtle\n",
    "import random\n",
    "\n",
    "turtle.bgcolor(0.0, 0.0, 0.0)\n",
    "test_turtle = turtle.Turtle(shape=\"turtle\")\n",
    "test_turtle.color(0.2, 0.9, 0.0)\n",
    "test_turtle.pensize(3)\n",
    "\n",
    "\n",
    "\n",
    "turtle.done()"
   ]
  },
  {
   "cell_type": "code",
   "execution_count": 24,
   "metadata": {},
   "outputs": [
    {
     "data": {
      "text/plain": [
       "'Hej hej!'"
      ]
     },
     "execution_count": 24,
     "metadata": {},
     "output_type": "execute_result"
    }
   ],
   "source": [
    "def get_string():\n",
    "    return \"Hej hej!\"\n",
    "\n",
    "get_string()"
   ]
  },
  {
   "cell_type": "code",
   "execution_count": 25,
   "metadata": {},
   "outputs": [
    {
     "name": "stdout",
     "output_type": "stream",
     "text": [
      "{1: 1, 3: 9, 5: 25, 6: 36, 7: 49, 2: 4}\n"
     ]
    }
   ],
   "source": [
    "num = [0, 2, 4, 5, 6]\n",
    "s = {x+1: (x+1)*(x+1) for x in num}\n",
    "s[2] = 4\n",
    "print(s)"
   ]
  },
  {
   "cell_type": "code",
   "execution_count": 26,
   "metadata": {},
   "outputs": [
    {
     "name": "stdout",
     "output_type": "stream",
     "text": [
      "[['ha'], ['ha', 'haha'], ['ha', 'haha', 'hahaha']]\n"
     ]
    }
   ],
   "source": [
    "ha = \"ha\"\n",
    "\n",
    "laughter = [[i*ha for i in range(1, y + 1)] for y in range(1, 4)]\n",
    "\n",
    "print(laughter)"
   ]
  },
  {
   "cell_type": "code",
   "execution_count": 27,
   "metadata": {},
   "outputs": [
    {
     "name": "stdout",
     "output_type": "stream",
     "text": [
      "11\n"
     ]
    }
   ],
   "source": [
    "x = 2.5\n",
    "y = 4\n",
    "z = 5\n",
    "\n",
    "result = (x*y) + (z/z)\n",
    "result = int(result)\n",
    "\n",
    "print(result)"
   ]
  },
  {
   "cell_type": "code",
   "execution_count": null,
   "metadata": {},
   "outputs": [],
   "source": []
  }
 ],
 "metadata": {
  "kernelspec": {
   "display_name": "introduktion",
   "language": "python",
   "name": "python3"
  },
  "language_info": {
   "codemirror_mode": {
    "name": "ipython",
    "version": 3
   },
   "file_extension": ".py",
   "mimetype": "text/x-python",
   "name": "python",
   "nbconvert_exporter": "python",
   "pygments_lexer": "ipython3",
   "version": "3.12.0"
  }
 },
 "nbformat": 4,
 "nbformat_minor": 2
}
