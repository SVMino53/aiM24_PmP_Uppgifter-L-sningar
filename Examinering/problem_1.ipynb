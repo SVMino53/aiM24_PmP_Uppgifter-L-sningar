{
 "cells": [
  {
   "cell_type": "markdown",
   "metadata": {},
   "source": [
    "# Instructions\n",
    "\n",
    "Below you will a snippet of code that may contain bad coding practices and/or logical or other types of Errors. \n",
    "\n",
    "Your tasks are as follows:\n",
    "\n",
    "    a) Read the code carefully and try to understand what it does, line-by-line.\n",
    "\n",
    "    b) Identify any potential errors in the code. Note, don't change the original code snippet! \n",
    "    Instead, add suitable comments adjacent to where any potential sources of error are found.\n",
    "\n",
    "    c) In a new cell, write a corrected version of the code. Try to make it so that the code\n",
    "    works without changing the given input. You could e.g., try adding some Try/Except blocks in the function.\n",
    "\n",
    "    d) Prepare to present to to your peers. You will show your original code and explain what the function does and\n",
    "    what errors you've found. Then you will show your corrected code and explain how you've corrected the errors.\n",
    "\n",
    "*When discussing with your group, they are allowed to chip in and help out, if there are any unresolved issues! This is teamwork y'all.*"
   ]
  },
  {
   "cell_type": "markdown",
   "metadata": {},
   "source": [
    "**The snippet of code**\n",
    "\n",
    "You can add comments to this code, but don't change the actual code."
   ]
  },
  {
   "cell_type": "code",
   "execution_count": 1,
   "metadata": {},
   "outputs": [],
   "source": [
    "def find_passing_students(students_grades, passing_grade):\n",
    "    \"\"\"\n",
    "    This function takes a dictionary of students' names and their grades (a list of integers),\n",
    "    and returns a list of names of students who have an average grade above the passing grade.\n",
    "    \"\"\"                                                 # Felaktig beskrivning: Bör stå \"...an average grade equal to or above\n",
    "                                                        # the passing grade.\"\n",
    "    \n",
    "    passing_students = []\n",
    "    \n",
    "    for student, grades in students_grades.items():\n",
    "        total = sum(grades)                             # TypeError: Kan inte köra sum() då en av listorna med betyg innehåller\n",
    "                                                        # en sträng. Behöver kontrollera att listan bara innehåller int-värden.\n",
    "        average = total / len(student)                  # Logiskt fel: Dividerar med antalet bokstäver i studentens namn.\n",
    "                                                        # Ska dividera med antalet betyg.\n",
    "        \n",
    "        if average >= passing_grade:\n",
    "            passing_students.append(student)\n",
    "    \n",
    "    return passing_students"
   ]
  },
  {
   "cell_type": "code",
   "execution_count": 2,
   "metadata": {},
   "outputs": [
    {
     "ename": "TypeError",
     "evalue": "unsupported operand type(s) for +: 'int' and 'str'",
     "output_type": "error",
     "traceback": [
      "\u001b[1;31m---------------------------------------------------------------------------\u001b[0m",
      "\u001b[1;31mTypeError\u001b[0m                                 Traceback (most recent call last)",
      "Cell \u001b[1;32mIn[2], line 7\u001b[0m\n\u001b[0;32m      1\u001b[0m student_grades \u001b[38;5;241m=\u001b[39m {\u001b[38;5;124m\"\u001b[39m\u001b[38;5;124mAlice\u001b[39m\u001b[38;5;124m\"\u001b[39m: [\u001b[38;5;241m85\u001b[39m, \u001b[38;5;241m90\u001b[39m, \u001b[38;5;241m88\u001b[39m],\n\u001b[0;32m      2\u001b[0m                   \u001b[38;5;124m\"\u001b[39m\u001b[38;5;124mBob\u001b[39m\u001b[38;5;124m\"\u001b[39m: [\u001b[38;5;241m55\u001b[39m, \u001b[38;5;241m60\u001b[39m, \u001b[38;5;241m58\u001b[39m],\n\u001b[0;32m      3\u001b[0m                   \u001b[38;5;124m\"\u001b[39m\u001b[38;5;124mCharlie\u001b[39m\u001b[38;5;124m\"\u001b[39m: [\u001b[38;5;241m90\u001b[39m, \u001b[38;5;241m92\u001b[39m, \u001b[38;5;241m91\u001b[39m],\n\u001b[0;32m      4\u001b[0m                   \u001b[38;5;124m\"\u001b[39m\u001b[38;5;124mDavid\u001b[39m\u001b[38;5;124m\"\u001b[39m: [\u001b[38;5;241m65\u001b[39m, \u001b[38;5;124m\"\u001b[39m\u001b[38;5;124mseventy\u001b[39m\u001b[38;5;124m\"\u001b[39m, \u001b[38;5;241m50\u001b[39m]}\n\u001b[0;32m      6\u001b[0m passing_grade \u001b[38;5;241m=\u001b[39m \u001b[38;5;241m60\u001b[39m\n\u001b[1;32m----> 7\u001b[0m passing_students \u001b[38;5;241m=\u001b[39m find_passing_students(student_grades, passing_grade)\n\u001b[0;32m      8\u001b[0m \u001b[38;5;28mprint\u001b[39m(\u001b[38;5;124m\"\u001b[39m\u001b[38;5;124mPassing Students: \u001b[39m\u001b[38;5;124m\"\u001b[39m, passing_students)\n",
      "Cell \u001b[1;32mIn[1], line 10\u001b[0m, in \u001b[0;36mfind_passing_students\u001b[1;34m(students_grades, passing_grade)\u001b[0m\n\u001b[0;32m      7\u001b[0m passing_students \u001b[38;5;241m=\u001b[39m []\n\u001b[0;32m      9\u001b[0m \u001b[38;5;28;01mfor\u001b[39;00m student, grades \u001b[38;5;129;01min\u001b[39;00m students_grades\u001b[38;5;241m.\u001b[39mitems():\n\u001b[1;32m---> 10\u001b[0m     total \u001b[38;5;241m=\u001b[39m \u001b[38;5;28msum\u001b[39m(grades)\n\u001b[0;32m     11\u001b[0m     average \u001b[38;5;241m=\u001b[39m total \u001b[38;5;241m/\u001b[39m \u001b[38;5;28mlen\u001b[39m(student)\n\u001b[0;32m     13\u001b[0m     \u001b[38;5;28;01mif\u001b[39;00m average \u001b[38;5;241m>\u001b[39m\u001b[38;5;241m=\u001b[39m passing_grade:\n",
      "\u001b[1;31mTypeError\u001b[0m: unsupported operand type(s) for +: 'int' and 'str'"
     ]
    }
   ],
   "source": [
    "student_grades = {\"Alice\": [85, 90, 88],\n",
    "                  \"Bob\": [55, 60, 58],\n",
    "                  \"Charlie\": [90, 92, 91],\n",
    "                  \"David\": [65, \"seventy\", 50]}\n",
    "\n",
    "passing_grade = 60\n",
    "passing_students = find_passing_students(student_grades, passing_grade)\n",
    "print(\"Passing Students: \", passing_students)"
   ]
  },
  {
   "cell_type": "markdown",
   "metadata": {},
   "source": [
    "**The corrected version of the code**\n",
    "\n",
    "Below you can write your corrected version of the code, that idealy also can handle the given input."
   ]
  },
  {
   "cell_type": "code",
   "execution_count": 10,
   "metadata": {},
   "outputs": [],
   "source": [
    "# Tydlig version\n",
    "\n",
    "def find_passing_students(students_grades : dict[str, list[int]], passing_grade : int) -> list[str]:\n",
    "    \"\"\"\n",
    "    This function takes a dictionary of students' names and their grades (a list of integers),\n",
    "    and returns a list of names of students who have an average grade equal to or above the passing grade.\n",
    "    \"\"\"\n",
    "    \n",
    "    passing_students = []                                                                   # Lista som ska innehålla namnen på de studenter som har fått godkänt.\n",
    "    \n",
    "    for student, grades in students_grades.items():\n",
    "        try:\n",
    "            total = sum(grades)\n",
    "        except:                                                                             # Om 'grades' innehåller nåt värde som inte är en int.\n",
    "            print(f\"Could not evaluate {student}'s grades. List contains non-integers.\")    # Förtydligar vilken lista i 'student_grades' som inte kan summeras.\n",
    "            continue                                                                        # Gå vidare till nästa student i dictionaryn.\n",
    "        \n",
    "        average = total / len(grades)                                                       # Genomsnittsbetyg.\n",
    "        \n",
    "        if average >= passing_grade:\n",
    "            passing_students.append(student)                                                # Lägg till studentens namn i 'passing_students'.\n",
    "    \n",
    "    return passing_students"
   ]
  },
  {
   "cell_type": "code",
   "execution_count": 30,
   "metadata": {},
   "outputs": [],
   "source": [
    "# Tydlig version (List comprehension)\n",
    "\n",
    "def find_passing_students(students_grades : dict[str, list[int]], passing_grade : int) -> list[str]:\n",
    "    \"\"\"\n",
    "    This function takes a dictionary of students' names and their grades (a list of integers),\n",
    "    and returns a list of names of students who have an average grade equal to or above the passing grade.\n",
    "    \"\"\"\n",
    "    \n",
    "    clean_students_grades = {}\n",
    "    for student, grades in students_grades.items():\n",
    "        if type(student) == str:\n",
    "            if False not in [type(grade) == int for grade in grades]:\n",
    "                clean_students_grades[student] = grades\n",
    "            \n",
    "            else:\n",
    "                print(f\"Could not evaluate {student}'s grades. List contains non-integers.\")\n",
    "        \n",
    "        else:\n",
    "            print(f\"{student} must be a string.\") \n",
    "    \n",
    "    passing_students = [student for student, grades in clean_students_grades.items() if sum(grades)/len(grades) >= passing_grade]\n",
    "    \n",
    "    return passing_students"
   ]
  },
  {
   "cell_type": "code",
   "execution_count": 38,
   "metadata": {},
   "outputs": [],
   "source": [
    "# Minimalistisk version\n",
    "\n",
    "def find_passing_students(students_grades : dict[str, list[int]], passing_grade : int) -> list[str]:\n",
    "    \"\"\"\n",
    "    This function takes a dictionary of students' names and their grades (a list of integers),\n",
    "    and returns a list of names of students who have an average grade equal to or above the passing grade.\n",
    "    \"\"\"\n",
    "    \n",
    "    try:\n",
    "        passing_students = [student for student, grades in students_grades.items() if sum(grades)/len(grades) >= passing_grade]\n",
    "    except:\n",
    "        print(\"Could not evaluate grades. Check for incorrect data types in the arguments.\")\n",
    "        return []\n",
    "\n",
    "    return passing_students"
   ]
  },
  {
   "cell_type": "code",
   "execution_count": 6,
   "metadata": {},
   "outputs": [],
   "source": [
    "# Mer minimalistisk version\n",
    "\n",
    "def find_passing_students(students_grades : dict[str, list[int]], passing_grade : int) -> list[str]:\n",
    "    \"\"\"\n",
    "    This function takes a dictionary of students' names and their grades (a list of integers),\n",
    "    and returns a list of names of students who have an average grade equal to or above the passing grade.\n",
    "    \"\"\"\n",
    "    \n",
    "    try:\n",
    "        return [student for student, grades in students_grades.items() if sum(grades)/len(grades) >= passing_grade]\n",
    "    except:\n",
    "        print(\"Could not evaluate grades. Check for incorrect data types in the arguments.\")\n",
    "        return []"
   ]
  },
  {
   "cell_type": "code",
   "execution_count": 32,
   "metadata": {},
   "outputs": [
    {
     "name": "stdout",
     "output_type": "stream",
     "text": [
      "Could not evaluate Alice's grades. List contains non-integers.\n",
      "Could not evaluate David's grades. List contains non-integers.\n",
      "Passing Students:  ['Charlie']\n"
     ]
    }
   ],
   "source": [
    "student_grades = {\"Alice\": [85, 90.5, 88],\n",
    "                  \"Bob\": [55, 60, 58],\n",
    "                  \"Charlie\": [90, 92, 91],\n",
    "                  \"David\": [65, \"seventy\", 50]}\n",
    "\n",
    "passing_grade = 60\n",
    "passing_students = find_passing_students(student_grades, passing_grade)\n",
    "print(\"Passing Students: \", passing_students)"
   ]
  },
  {
   "cell_type": "code",
   "execution_count": 31,
   "metadata": {},
   "outputs": [
    {
     "name": "stdout",
     "output_type": "stream",
     "text": [
      "Passing Students:  ['Alice', 'Charlie', 'David']\n"
     ]
    }
   ],
   "source": [
    "student_grades = {\"Alice\": [85, 90, 88],\n",
    "                  \"Bob\": [55, 60, 58],\n",
    "                  \"Charlie\": [90, 92, 91],\n",
    "                  \"David\": [65, 70, 50]}\n",
    "\n",
    "passing_grade = 60\n",
    "passing_students = find_passing_students(student_grades, passing_grade)\n",
    "print(\"Passing Students: \", passing_students)"
   ]
  }
 ],
 "metadata": {
  "kernelspec": {
   "display_name": "introduktion",
   "language": "python",
   "name": "python3"
  },
  "language_info": {
   "codemirror_mode": {
    "name": "ipython",
    "version": 3
   },
   "file_extension": ".py",
   "mimetype": "text/x-python",
   "name": "python",
   "nbconvert_exporter": "python",
   "pygments_lexer": "ipython3",
   "version": "3.12.0"
  }
 },
 "nbformat": 4,
 "nbformat_minor": 2
}
