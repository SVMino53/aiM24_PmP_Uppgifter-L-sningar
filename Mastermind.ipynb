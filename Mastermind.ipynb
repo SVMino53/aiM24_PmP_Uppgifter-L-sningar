{
 "cells": [
  {
   "cell_type": "markdown",
   "metadata": {},
   "source": [
    "# Mastermind\n",
    "\n",
    "***The Isak F. Version***"
   ]
  },
  {
   "cell_type": "markdown",
   "metadata": {},
   "source": [
    "## How To Play\n",
    "\n",
    "In this game the computer will think of a 4-digit code and your task is to guess the correct code in as few guesses as possible. Once you have made a guess the computer will tell you how many digits are in the right place and how many digits are in the code, but in the wrong place. It will tell you this by putting an 'X' for every correct digit and an 'O' for every digit in the wrong place next to your guess.\n",
    "\n",
    "**OBS!** The order of the 'X's and 'O's are irrelevant."
   ]
  },
  {
   "cell_type": "markdown",
   "metadata": {},
   "source": [
    "### Examples\n",
    "\n",
    "Let's say the computer thinks of the code '2944'. If you guess '2190', then the computer will write 'XO' next to your guess; 'X' for the 2 and 'O' for the 9 in this case. If you guess '3347', then the computer will write 'X' next to your guess.\n",
    "\n",
    "**OBS!** Even though there are two 4's in the correct code, the computer will only take one 4 into account since you only had one 4 in your guess, and since that 4 is in the same place as one of the correct 4's, it will count as being in the right place. Similarly, if you were to guess '4441', the computer will only take two of the three 4's into account since there are only two 4's in the correct code, and since only one 4 is in the right place, the computer will write 'XO' next to your guess."
   ]
  },
  {
   "cell_type": "code",
   "execution_count": null,
   "metadata": {},
   "outputs": [],
   "source": [
    "import random\n",
    "\n",
    "running = True\n",
    "\n",
    "print('Welcome to Mastermind!\\n')\n",
    "\n",
    "while running:\n",
    "    code = ''\n",
    "    \n",
    "    for _ in range(4):\n",
    "        code += str(random.randint(0, 9))\n",
    "    \n",
    "    print('I am thinking of a code now. Good luck figuring it out!')\n",
    "\n",
    "    num_guesses = 0\n",
    "\n",
    "    while True:\n",
    "        num_guesses += 1\n",
    "\n",
    "        while True:\n",
    "            guess = input(f'Guess {num_guesses}: ')\n",
    "            \n",
    "            if len(guess) == 4 and guess.isdigit():\n",
    "                break\n",
    "            else:\n",
    "                print('Invalid guess! Please guess a 4-digit code.')\n",
    "        \n",
    "        correct_place = 0\n",
    "        rest_code_index = [0, 1, 2, 3]\n",
    "        rest_guess_index = [0, 1, 2, 3]\n",
    "\n",
    "        for i in range(4):\n",
    "            if code[i] == guess[i]:\n",
    "                correct_place += 1\n",
    "                rest_code_index.remove(i)\n",
    "                rest_guess_index.remove(i)\n",
    "\n",
    "        wrong_place = 0\n",
    "\n",
    "        for i in rest_code_index:\n",
    "            for j in rest_guess_index:\n",
    "                if code[i] == guess[j]:\n",
    "                    wrong_place += 1\n",
    "                    rest_guess_index.remove(j)\n",
    "                    break\n",
    "\n",
    "        clue = ''\n",
    "        for _ in range(correct_place):\n",
    "            clue += 'X'\n",
    "        for _ in range(wrong_place):\n",
    "            clue += 'O'\n",
    "        \n",
    "        print(f'> {guess} | {clue}')\n",
    "\n",
    "        if guess == code:\n",
    "            print(f'  {code}')\n",
    "            print(f'Congratulations! You found the correct code in {num_guesses} guesses!')\n",
    "            break\n",
    "    \n",
    "    while True:\n",
    "        play_again = input('Do you want to play again? [y/n] ')\n",
    "        \n",
    "        if play_again.lower() == 'y':\n",
    "            print(\"Alright! Let's play again!\")\n",
    "            break\n",
    "        elif play_again.lower() == 'n':\n",
    "            print('Thank you for playing! Have a nice day!')\n",
    "            running = False\n",
    "            break\n",
    "        else:\n",
    "            print(\"Invalid input! Please type 'y' or 'n'.\")"
   ]
  }
 ],
 "metadata": {
  "kernelspec": {
   "display_name": "introduktion",
   "language": "python",
   "name": "python3"
  },
  "language_info": {
   "codemirror_mode": {
    "name": "ipython",
    "version": 3
   },
   "file_extension": ".py",
   "mimetype": "text/x-python",
   "name": "python",
   "nbconvert_exporter": "python",
   "pygments_lexer": "ipython3",
   "version": "3.12.0"
  }
 },
 "nbformat": 4,
 "nbformat_minor": 2
}
