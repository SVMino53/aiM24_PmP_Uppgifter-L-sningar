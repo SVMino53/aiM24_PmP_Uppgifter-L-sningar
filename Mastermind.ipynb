{
 "cells": [
  {
   "cell_type": "markdown",
   "metadata": {},
   "source": [
    "# Mastermind\n",
    "\n",
    "***The Isak F. Version***"
   ]
  },
  {
   "cell_type": "markdown",
   "metadata": {},
   "source": [
    "## How To Play\n",
    "\n",
    "In this game the computer will think of a 4-digit code and your task is to guess the correct code in as few guesses as possible. Once you have made a guess the computer will tell you how many digits are in the right place and how many digits are in the code, but in the wrong place. It will tell you this by putting an 'X' for every correct digit and an 'O' for every digit in the wrong place next to your guess.\n",
    "\n",
    "**OBS!** The order of the 'X's and 'O's are irrelevant."
   ]
  },
  {
   "cell_type": "markdown",
   "metadata": {},
   "source": [
    "### Examples\n",
    "\n",
    "Let's say the computer thinks of the code '2944'. If you guess '2190', then the computer will write 'XO' next to your guess; 'X' for the 2 and 'O' for the 9 in this case. If you guess '3347', then the computer will write 'X' next to your guess.\n",
    "\n",
    "**OBS!** Even though there are two 4's in the correct code, the computer will only take one 4 into account since you only had one 4 in your guess, and since that 4 is in the same place as one of the correct 4's, it will count as being in the right place. Similarly, if you were to guess '4441', the computer will only take two of the three 4's into account since there are only two 4's in the correct code, and since only one 4 is in the right place, the computer will write 'XO' next to your guess."
   ]
  },
  {
   "cell_type": "code",
   "execution_count": null,
   "metadata": {},
   "outputs": [],
   "source": [
    "import random\n",
    "\n",
    "running = True                                                                                  # Sanningsvärde för om programmet ska fortsätta köra eller inte\n",
    "\n",
    "print('Welcome to Mastermind!\\n')\n",
    "\n",
    "while running:                                                                                  # Medan 'running' är sant\n",
    "    code = ''                                                                                   # Koden som spelaren ska lista ut\n",
    "    \n",
    "    for _ in range(4):                                                                          # Upprepa 4 gånger\n",
    "        code += str(random.randint(0, 9))                                                       # Lägg till en slumpmässig siffra i koden som en sträng\n",
    "    \n",
    "    print('I am thinking of a code now. Good luck figuring it out!')\n",
    "\n",
    "    num_guesses = 0                                                                             # Totalt antal gissningar från spelaren\n",
    "\n",
    "    while True:\n",
    "        num_guesses += 1                                                                        # Öka 'num_guesses' med 1\n",
    "\n",
    "        while True:\n",
    "            guess = input(f'Guess {num_guesses}: ')                                             # Spelarens gissning\n",
    "            \n",
    "            if len(guess) == 4 and guess.isdigit():                                             # Om 'guess' innehåller exakt 4 chars och endast består av siffror\n",
    "                break                                                                           # Avbryt while-loopen\n",
    "            else:\n",
    "                print('Invalid guess! Please guess a 4-digit code.')                            # Säg till spelaren att inputen är ogiltig\n",
    "        \n",
    "        correct_place = 0                                                                       # Antalet siffror i 'guess' som är på rätt plats\n",
    "        rest_code_index = [0, 1, 2, 3]                                                          # Resterande index i 'code' som ska jämföras med 'guess'\n",
    "        rest_guess_index = [0, 1, 2, 3]                                                         # Resterande index i 'guess' som ska jämföras med 'code'\n",
    "\n",
    "        for i in range(4):                                                                      # För varje position i 'code'/'guess'\n",
    "            if code[i] == guess[i]:                                                             # Om 'code' och 'guess' har samma siffra på index 'i'\n",
    "                correct_place += 1                                                              # Öka 'correct_place' med 1\n",
    "                rest_code_index.remove(i)                                                       # Ta bort värdet 'i' från 'rest_code_index'\n",
    "                rest_guess_index.remove(i)                                                      # Ta bort värdet 'i' från 'rest_guess_index'\n",
    "\n",
    "        wrong_place = 0                                                                         # Antalet siffror i 'guess' som är med i 'code', men på fel plats\n",
    "\n",
    "        for i in rest_code_index:                                                               # För varje index kvar i 'rest_code_index'\n",
    "            for j in rest_guess_index:                                                          # För varje index kvar i 'rest_guess_index'\n",
    "                if code[i] == guess[j]:                                                         # Om index 'i' i 'code' har samma siffra som index 'j' i 'guess'\n",
    "                    wrong_place += 1                                                            # Öka 'wrong_place' med 1\n",
    "                    rest_guess_index.remove(j)                                                  # Ta bort värdet 'j' från 'rest_guess_index'\n",
    "                    break\n",
    "\n",
    "        clue = ''                                                                               # Ledtråd om antalet siffror på rätt och fel plats\n",
    "        \n",
    "        for _ in range(correct_place):                                                          # För antalet korrekta siffror\n",
    "            clue += 'X'                                                                         # Lägg till \"X\" i 'clue'\n",
    "        \n",
    "        for _ in range(wrong_place):                                                            # För antalet siffror som är med men på fel plats\n",
    "            clue += 'O'                                                                         # Lägg till \"O\" i 'clue'\n",
    "        \n",
    "        print(f'> {guess} | {clue}')                                                            # Sriv ut spelarens gissning och ledtråden\n",
    "\n",
    "        if guess == code:                                                                       # Om gissningen är korrekt\n",
    "            print(f'  {code}')                                                                  # Skriv ut 'code'\n",
    "            print(f'Congratulations! You found the correct code in {num_guesses} guesses!')     # Gratulera spelaren och skriv ut antalet gissningar\n",
    "            break\n",
    "    \n",
    "    while True:\n",
    "        play_again = input('Do you want to play again? [y/n] ')                                 # Fråga spelaren om hen vill spela igen\n",
    "        \n",
    "        if play_again.lower() == 'y':                                                           # Om spelaren svarar ja\n",
    "            print(\"Alright! Let's play again!\")\n",
    "            break                                                                               # (Låter 'running' fortsätta vara True)\n",
    "        elif play_again.lower() == 'n':                                                         # Om spelaren svarar nej\n",
    "            print('Thank you for playing! Have a nice day!')\n",
    "            running = False                                                                     # Ändrar 'running' till False\n",
    "            break\n",
    "        else:\n",
    "            print(\"Invalid input! Please type 'y' or 'n'.\")                                     # Säg till spelaren att inputen är ogiltig"
   ]
  }
 ],
 "metadata": {
  "kernelspec": {
   "display_name": "introduktion",
   "language": "python",
   "name": "python3"
  },
  "language_info": {
   "codemirror_mode": {
    "name": "ipython",
    "version": 3
   },
   "file_extension": ".py",
   "mimetype": "text/x-python",
   "name": "python",
   "nbconvert_exporter": "python",
   "pygments_lexer": "ipython3",
   "version": "3.12.0"
  }
 },
 "nbformat": 4,
 "nbformat_minor": 2
}
