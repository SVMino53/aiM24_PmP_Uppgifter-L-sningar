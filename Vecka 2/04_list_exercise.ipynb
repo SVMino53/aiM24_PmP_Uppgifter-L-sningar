{
  "cells": [
    {
      "cell_type": "markdown",
      "metadata": {
        "colab_type": "text",
        "id": "view-in-github"
      },
      "source": [
        "<a href=\"https://colab.research.google.com/github/aleylani/Python-AI24/blob/main/exercises/04_list_exercise.ipynb\" target=\"_parent\"><img src=\"https://colab.research.google.com/assets/colab-badge.svg\" alt=\"Open In Colab\"/></a>"
      ]
    },
    {
      "cell_type": "markdown",
      "metadata": {
        "id": "6uOASVKqPqNP"
      },
      "source": [
        "# list exercises\n",
        "\n",
        "---\n",
        "These are introductory exercises in Python with focus in **lists**.\n",
        "\n",
        "<p class = \"alert alert-info\" role=\"alert\"><b>Remember</b> to use <b>descriptive variable names</b> in order to get readable code </p>\n",
        "\n",
        "<p class = \"alert alert-info\" role=\"alert\"><b>Remember</b> to format your answers in a neat way using <b>f-strings</b>\n",
        "\n",
        "<p class = \"alert alert-info\" role=\"alert\"><b>Remember</b> to format your input questions in a pedagogical way to guide the user\n",
        "\n",
        "The number of stars (\\*), (\\*\\*), (\\*\\*\\*) denotes the difficulty level of the task\n",
        "\n",
        "---"
      ]
    },
    {
      "cell_type": "markdown",
      "metadata": {
        "id": "RuoOFel1PqNR"
      },
      "source": [
        "## 1. Dice rolls (*)\n",
        "\n",
        "Simulate 10 dice rolls and **append** the rolls to a list or use **list comprehension**.\n",
        "\n",
        "&nbsp; a) &nbsp; sort the list in **ascending** order (*)\n",
        "\n",
        "&nbsp; b) &nbsp; sort the list in **descending** order (*)\n",
        "\n",
        "&nbsp; c) &nbsp; find the **maximum** and **minimum** value in the list (*)\n",
        "\n",
        "\n",
        "<details>\n",
        "\n",
        "<summary>Answer </summary>\n",
        "\n",
        "a)\n",
        "```\n",
        "Ascending order: [1, 1, 2, 3, 4, 4, 4, 5, 6, 6]\n",
        "```\n",
        "\n",
        "b)\n",
        "```\n",
        "Descending order: [6, 6, 5, 4, 4, 4, 3, 2, 1, 1]\n",
        "```\n",
        "\n",
        "c)\n",
        "```\n",
        "Maximum: 6\n",
        "Minimum: 1\n",
        "```\n",
        "\n",
        "</details>\n",
        "\n",
        "\n"
      ]
    },
    {
      "cell_type": "code",
      "execution_count": null,
      "metadata": {},
      "outputs": [],
      "source": [
        "import random\n",
        "\n",
        "# Förberedelse\n",
        "\n",
        "dices = [random.randint(1, 6) for _ in range(10)]       # Lista med värden från 10 tärningskast\n",
        "\n",
        "print(dices)                                            # Skriv 'dices'"
      ]
    },
    {
      "cell_type": "code",
      "execution_count": null,
      "metadata": {},
      "outputs": [],
      "source": [
        "# a)\n",
        "\n",
        "dices.sort()        # Sortera värdena i 'dices' från lägst till högst\n",
        "print(dices)        # Skriv ut 'dices'"
      ]
    },
    {
      "cell_type": "code",
      "execution_count": null,
      "metadata": {},
      "outputs": [],
      "source": [
        "# b)\n",
        "\n",
        "dices.sort(reverse=True)        # Sortera värdena i 'dices' från högst till lägst\n",
        "print(dices)                    # Skriv ut 'dices'"
      ]
    },
    {
      "cell_type": "code",
      "execution_count": null,
      "metadata": {},
      "outputs": [],
      "source": [
        "# c)\n",
        "\n",
        "minimum = min(dices)                            # Minsta värdet i 'dices'\n",
        "maximum = max(dices)                            # Största värdet i 'dices'\n",
        "print(f'Min: {minimum} | Max: {maximum}')       # Skriv ut det minsta respektive det största värdet"
      ]
    },
    {
      "cell_type": "markdown",
      "metadata": {
        "id": "7zPeNe1TPqNR"
      },
      "source": [
        "---\n",
        "## 2. Food menu (*)\n",
        "\n",
        "Create a:  \n",
        "\n",
        "&nbsp; a) &nbsp; **list** with the following elements: \"vegetarisk lasagne\", \"spaghetti\", \"fisk\", \"grönsakssoppa\", \"pannkakor\". (*)\n",
        "\n",
        "&nbsp; b) &nbsp; **list** with the weekdays (*)\n",
        "\n",
        "&nbsp; c) &nbsp; create a food menu with each day corresponding to each food item and print it out. (*)\n",
        "\n",
        "<details>\n",
        "\n",
        "<summary>Answer</summary>\n",
        "\n",
        "c)\n",
        "```\n",
        "Bambameny\n",
        "Mån: vegetarisk lasagne\n",
        "Tis: spaghetti\n",
        "Ons: fisk\n",
        "Tor: grönsakssoppa\n",
        "Fre: pannkakor\n",
        "```\n",
        "\n",
        "</details>"
      ]
    },
    {
      "cell_type": "code",
      "execution_count": null,
      "metadata": {},
      "outputs": [],
      "source": [
        "# a)\n",
        "\n",
        "menu = ['vegetarisk lasagne', 'spaghetti', 'fisk', 'grönsakssoppa', 'pannkakor']        # Lista av maträtter\n",
        "print(menu)                                                                             # Skriv ut 'menu'"
      ]
    },
    {
      "cell_type": "code",
      "execution_count": null,
      "metadata": {},
      "outputs": [],
      "source": [
        "# b)\n",
        "\n",
        "weekdays = ['måndag', 'tistag', 'onsdag', 'torsdag', 'fredag']      # Lista av vardagarna\n",
        "print(weekdays)                                                     # Skriv ut 'weekdays'"
      ]
    },
    {
      "cell_type": "code",
      "execution_count": null,
      "metadata": {},
      "outputs": [],
      "source": [
        "# c)\n",
        "\n",
        "print('- Veckans meny -\\n')\n",
        "for i in range(len(menu)):                  # 'i' från 0 t.o.m. 4\n",
        "    print(f'{weekdays[i]}: {menu[i]}')      # Skriv ut veckodagen och maträtten på position 'i' från respektie lista "
      ]
    },
    {
      "cell_type": "markdown",
      "metadata": {
        "id": "EgiDRMifPqNR"
      },
      "source": [
        "---\n",
        "## 3. Squares (*)\n",
        "\n",
        "&nbsp; a) &nbsp; Use **list comprehension** to create a list of squares from -10 to 10 (*)\n",
        "\n",
        "&nbsp; b) &nbsp; Plot this list using **matplotlib**. (*)\n",
        "\n",
        "<details>\n",
        "\n",
        "<summary>Answer</summary>\n",
        "\n",
        "a)\n",
        "```\n",
        "[100, 81, 64, 49, 36, 25, 16, 9, 4, 1, 0, 1, 4, 9, 16, 25, 36, 49, 64, 81, 100]\n",
        "```\n",
        "\n",
        "b)\n",
        "\n",
        "<img align=\"left\" src=\"../assets/x^2_graph.png\" width=\"300\"/>\n",
        "</details>"
      ]
    },
    {
      "cell_type": "code",
      "execution_count": null,
      "metadata": {},
      "outputs": [],
      "source": [
        "# a)\n",
        "\n",
        "values = [x**2 for x in range(-10, 11)]     # Lista med värdena 'x'^2 för 'x' från -10 t.o.m. 10\n",
        "print(values)                               # Skriv ut 'values'"
      ]
    },
    {
      "cell_type": "code",
      "execution_count": null,
      "metadata": {},
      "outputs": [],
      "source": [
        "import matplotlib.pyplot as plt\n",
        "\n",
        "# b)\n",
        "\n",
        "plt.plot(values)        # Skapa en graf med y-värden från 'values'\n",
        "plt.show()              # Visa graf"
      ]
    },
    {
      "cell_type": "markdown",
      "metadata": {
        "id": "4U54qkB5PqNS"
      },
      "source": [
        "---\n",
        "## 4. Chessboard (**)\n",
        "\n",
        "&nbsp; a) &nbsp; Create this list using **list comprehension**: (*)\n",
        "\n",
        "```python\n",
        "['A1', 'B1', 'C1', 'D1', 'E1', 'F1', 'G1', 'H1']\n",
        "```\n",
        "\n",
        "&nbsp; b) &nbsp; Create a 2D list to hold the coordinates in a chessboard. (**)\n",
        "\n",
        "<details>\n",
        "\n",
        "<summary>Hint</summary>\n",
        "\n",
        "a) Use **f-string** and create a list of characters with:\n",
        "\n",
        "```python\n",
        "list(\"ABCDEFGH)\n",
        "```\n",
        "\n",
        "b) One option is to use nested list comprehension where one for-loop creates the first list and the other creates several of the first list\n",
        "\n",
        "</details>\n",
        "\n",
        "\n",
        "<details>\n",
        "\n",
        "<summary>Answer</summary>\n",
        "\n",
        "b)\n",
        "```\n",
        "[['A1', 'B1', 'C1', 'D1', 'E1', 'F1', 'G1', 'H1'],\n",
        " ['A2', 'B2', 'C2', 'D2', 'E2', 'F2', 'G2', 'H2'],\n",
        " ['A3', 'B3', 'C3', 'D3', 'E3', 'F3', 'G3', 'H3'],\n",
        " ['A4', 'B4', 'C4', 'D4', 'E4', 'F4', 'G4', 'H4'],\n",
        " ['A5', 'B5', 'C5', 'D5', 'E5', 'F5', 'G5', 'H5'],\n",
        " ['A6', 'B6', 'C6', 'D6', 'E6', 'F6', 'G6', 'H6'],\n",
        " ['A7', 'B7', 'C7', 'D7', 'E7', 'F7', 'G7', 'H7'],\n",
        " ['A8', 'B8', 'C8', 'D8', 'E8', 'F8', 'G8', 'H8']]\n",
        "```\n",
        "\n",
        "</details>"
      ]
    },
    {
      "cell_type": "code",
      "execution_count": null,
      "metadata": {},
      "outputs": [],
      "source": [
        "# a)\n",
        "\n",
        "chess_rank1 = [file + '1' for file in 'ABCDEFGH']       # Lista med värdena 'file' + \"1\" för 'file' från \"A\" t.o.m. \"H\" i alfabetet\n",
        "print(chess_rank1)                                      # Skriv ut 'chess_rank1'"
      ]
    },
    {
      "cell_type": "code",
      "execution_count": null,
      "metadata": {},
      "outputs": [],
      "source": [
        "# b)\n",
        "\n",
        "chess_board = [[file + str(rank) for file in 'ABCDEFGH'] for rank in range(1, 9)]       # 2D-lista med värdena 'file' + 'str(rank)' för 'file' från \"A\" t.o.m. \"H\" (vågrät förändring) och för 'rank' från 1 t.o.m. 8 (lodrät förändring)\n",
        "for i in range(len(chess_board)):                                                       # 'i' från 0 t.o.m. 7\n",
        "    print(chess_board[i])                                                               # Skriv ut listan på position 'i' från 'chess_board'"
      ]
    },
    {
      "cell_type": "markdown",
      "metadata": {
        "id": "5rzM8OsCPqNS"
      },
      "source": [
        "---\n",
        "## 5. Dice rolls convergence (**)\n",
        "\n",
        "Simulate:\n",
        "\n",
        "&nbsp; a) &nbsp; 100 dice rolls and count the number of outcome six. (*)\n",
        "\n",
        "&nbsp; b) &nbsp; 10, 100, 1000, 10000, 100000, 1000000 dice rolls. Count the number of outcome six in each simulation and store it in a list. Compute the probability of outcome six in each simulation. (**)\n",
        "\n",
        "&nbsp; c) &nbsp; Use matplotlib to plot this list. (*)\n",
        "\n",
        "<details>\n",
        "\n",
        "<summary>Hint </summary>\n",
        "\n",
        "Use this code for plot settings:\n",
        "\n",
        "```python\n",
        "plt.plot(probability_six, '-*')\n",
        "plt.title(\"Probability of six for different number of rolls\")\n",
        "plt.xticks([0,1,2,3,4,5], num_rolls);\n",
        "plt.xlabel(\"Number of dice rolls\")\n",
        "plt.ylabel(\"Probability\")\n",
        "\n",
        "```\n",
        "</details>\n",
        "\n",
        "<details>\n",
        "\n",
        "<summary>Answer </summary>\n",
        "\n",
        "a)\n",
        "```\n",
        "The number of outcome six in 100 dice rolls is: 17\n",
        "```\n",
        "\n",
        "b)\n",
        "```\n",
        "Count number of six: [1, 21, 161, 1642, 16560, 166406]\n",
        "P(six) = [0.1, 0.21, 0.161, 0.1642, 0.1656, 0.1664]\n",
        "```\n",
        "\n",
        "c) Note that the graph changes due to random simulation. To reproduce this result, use\n",
        "\n",
        "```python\n",
        "random.seed(1)\n",
        "```\n",
        "\n",
        "<img align=\"left\" src=\"../assets/probability_six_graph.png\" width=\"300\"/>\n",
        "\n",
        "</details>"
      ]
    },
    {
      "cell_type": "code",
      "execution_count": null,
      "metadata": {},
      "outputs": [],
      "source": [
        "# a)\n",
        "\n",
        "import random\n",
        "\n",
        "num_sixes = 0                                                   # Antalet sexor som slås\n",
        "for _ in range(100):                                            # Loopa 100 gånger\n",
        "    if random.randint(1, 6) == 6:                               # Om ett slumptal mellan 1 och 6 blir 6\n",
        "        num_sixes += 1                                          # Öka 'num_sixes' med 1\n",
        "\n",
        "print(f'Efter 100 tärningskast slogs {num_sixes} sexor.')       # Skriv ut antalet gånger 6 slogs"
      ]
    },
    {
      "cell_type": "code",
      "execution_count": null,
      "metadata": {},
      "outputs": [],
      "source": [
        "# b)\n",
        "\n",
        "import random\n",
        "\n",
        "outcomes = [[random.randint(1, 6) for _ in range(10**i)] for i in range(1, 7)]      # Listor med tärningsslag. Varje lista innehåller 10^'i' slag för 'i' fr.o.m. 1 t.o.m. 6\n",
        "num_sixes = [sub_list.count(6) for sub_list in outcomes]                            # Lista med antalen 6:or slagna i vardera scenario\n",
        "probabilities = [round(val/10**(i + 1), 2) for i, val in enumerate(num_sixes)]      # Lista med sannolikheter att slå en 6:a enligt sannolikheter\n",
        "\n",
        "print(f'Antal 6:or slagna: {num_sixes}')                                            # Skriv ut 'num_sixes'\n",
        "print(f'Sannolikhet att slå en 6:a enligt simuleringar: {probabilities}')           # Skriv ut 'probabilities'"
      ]
    },
    {
      "cell_type": "code",
      "execution_count": null,
      "metadata": {},
      "outputs": [],
      "source": [
        "# c)\n",
        "\n",
        "import random\n",
        "import matplotlib.pyplot as plt\n",
        "\n",
        "random.seed(1)                                                                      # Bestäm att random seed ska vara 1 (endast för att jämföra med svar)\n",
        "\n",
        "outcomes = [[random.randint(1, 6) for _ in range(10**i)] for i in range(1, 7)]      # Listor med tärningsslag. Varje lista innehåller 10^'i' slag för 'i' fr.o.m. 1 t.o.m. 6\n",
        "num_sixes = [sub_list.count(6) for sub_list in outcomes]                            # Lista med antalen 6:or slagna i vardera scenario\n",
        "probabilities = [round(val/10**(i + 1), 2) for i, val in enumerate(num_sixes)]      # Lista med sannolikheter att slå en 6:a enligt sannolikheter\n",
        "\n",
        "plt.plot([f'{10**i}' for i in range(1, 7)], probabilities)                          # Plotta 'probabilities' med totala antalet kast som x-värden\n",
        "plt.show()                                                                          # Visa graf"
      ]
    },
    {
      "cell_type": "markdown",
      "metadata": {
        "id": "HZDs4ddWPqNS"
      },
      "source": [
        "---\n",
        "## 6. Monte Carlo simulation (***)\n",
        "\n",
        "&nbsp; a) Simulate 5000 uniformly distributed points between -1 and 1, $X\\sim U(-1,1)$. Now calculate the Euclidean distances between each point and the origin (0,0), $d_i = \\sqrt{x_i^2 + y_i^2}$. For $d_i < 1$ plot the point with one color, and for $d_i > 1$ plot the point in another color, $i = \\{1,\\ldots, 5000\\}$.  (**)\n",
        "\n",
        "&nbsp; b) Calculate the fraction between number of inner points and number of outer points. What do you this will converge to when number of points reaches infinity? (**)\n",
        "\n",
        "\n",
        "<details>\n",
        "\n",
        "<summary>Hint</summary>\n",
        "\n",
        "a)\n",
        "\n",
        "Try solve this task with pen and paper before approaching to code it.\n",
        "\n",
        "b)\n",
        "\n",
        "Think in terms of theoretical areas. Also try to increase the number of simulated points, to see if you find convergence.\n",
        "\n",
        "</details>\n",
        "\n",
        "<details>\n",
        "\n",
        "<summary>Answer</summary>\n",
        "\n",
        "\n",
        "a)\n",
        "\n",
        "<img src=\"../assets/MC_simulation_5k.png\" width = 300>\n",
        "\n",
        "\n",
        "b)\n",
        "\n",
        "0.7908\n",
        "\n",
        "No answer here, try to prove it theoretically.\n",
        "\n",
        "\n",
        "</details>"
      ]
    },
    {
      "cell_type": "code",
      "execution_count": null,
      "metadata": {},
      "outputs": [],
      "source": [
        "# a)\n",
        "\n",
        "import random\n",
        "import math\n",
        "import matplotlib.pyplot as plt\n",
        "\n",
        "points = [(random.uniform(-1.0, 1.0), random.uniform(-1.0, 1.0)) for _ in range(5000)]          # Lista med 5000 slumpmässigt genererade punkter\n",
        "inside = [point for point in points if math.sqrt(point[0]**2 + point[1]**2) <= 1.0]             # Lista med punkter från 'points' som är mindre än eller lika med 1 l.e. ifrån origo\n",
        "outside = [point for point in points if math.sqrt(point[0]**2 + point[1]**2) > 1.0]             # Lista med punkter från 'points' som är större än 1 l.e. ifrån origo\n",
        "\n",
        "plt.scatter([point[0] for point in inside], [point[1] for point in inside], c='magenta')        # Placera punkterna i 'inside' i ett koordinatsystem färgade magenta\n",
        "plt.scatter([point[0] for point in outside], [point[1] for point in outside], c='purple')       # Placera punkterna i 'outside' i samma koordinatsystem färgade lila\n",
        "\n",
        "plt.show()                                                                                      # Visa koordinatsystem"
      ]
    },
    {
      "cell_type": "code",
      "execution_count": null,
      "metadata": {},
      "outputs": [],
      "source": [
        "# b)\n",
        "\n",
        "import random\n",
        "import math\n",
        "\n",
        "ratios = []                                                                                     # Förhållande mellan punkterna som är innanför och utanför 1 l.e. från origo\n",
        "for i in range(1, 7):                                                                           # 'i' från 1 t.o.m. 6\n",
        "    points = [(random.uniform(-1.0, 1.0), random.uniform(-1.0, 1.0)) for _ in range(10**i)]     # Lista med 10^'i' antal slumpmässigt genererade punkter\n",
        "    inside = [point for point in points if math.sqrt(point[0]**2 + point[1]**2) <= 1.0]         # Lista med punkter från 'points' som är mindre än eller lika med 1 l.e. ifrån origo\n",
        "    outside = [point for point in points if math.sqrt(point[0]**2 + point[1]**2) > 1.0]         # Lista med punkter från 'points' som är större än 1 l.e. ifrån origo\n",
        "    ratios.append(len(inside)/len(outside))                                                     # Lägg till förhållandet mellan antalet punkter i 'inside' och antalet i 'outside'\n",
        "\n",
        "print(ratios)                                                                                   # Skriv ut 'ratios'"
      ]
    },
    {
      "cell_type": "markdown",
      "metadata": {
        "id": "01XV62BEPqNT"
      },
      "source": [
        "---\n",
        "## 7. A cute rabbit among two ferocious snakes (***)\n",
        "\n",
        "There are three identical doors, behind two of them, there are ferocious snakes and behind one of them is a cute little rabbit. Your aim is to pick a door and get the cute rabbit. You start picking one door randomly and suddenly another door opens and snake slithers away *pssss*. Now you have a choice to either stay with your door or change to the remaining door.\n",
        "\n",
        "<img src=\"../assets/snakes_rabbits.png\" width = 200>\n",
        "\n",
        "&nbsp; a) What is your choice and why? (**)\n",
        "\n",
        "&nbsp; b) Randomly assign which door has the rabbit, and randomly pick an initial door. Now simulate 10, 100, 1000, 10000, 100000, 1000000 times for staying and for switching doors. Calculate the proportion of finding the rabbits for each set of simulations. Plot the results (**)\n",
        "\n",
        "\n",
        "<details>\n",
        "\n",
        "<summary>Hint</summary>\n",
        "\n",
        "a)\n",
        "\n",
        "Try to reason using probability.\n",
        "\n",
        "\n",
        "</details>\n",
        "\n",
        "<details>\n",
        "\n",
        "<summary>Answer</summary>\n",
        "\n",
        "\n",
        "a)\n",
        "\n",
        "You will simulate the answer in b).\n",
        "\n",
        "b)\n",
        "\n",
        "<img src=\"../assets/mh_simulations.png\" width = 300>\n",
        "\n",
        "\n",
        "\n",
        "</details>"
      ]
    },
    {
      "cell_type": "markdown",
      "metadata": {},
      "source": [
        "**a)**  Jag väljer att byta dörr.\n",
        "\n",
        "*Förklaring:* När jag väljer en dörr från början så är det 1/3 chans att jag väljer dörren med kaninen bakom; m.a.o. det är 2/3 chans att kaninen är bakom någon av de andra två dörrarna. När ena av de två andra dörrarna öppnas och en orm slingrar ut så har sannolikheten inte förändrats. Det är fortfarande mer sannolikt att jag valde en orm än kaninen från början, så jag har större chans att öppna dörren till kaninen om jag byter dörr."
      ]
    },
    {
      "cell_type": "code",
      "execution_count": null,
      "metadata": {},
      "outputs": [],
      "source": [
        "# b)\n",
        "\n",
        "import random\n",
        "import matplotlib.pyplot as plt\n",
        "\n",
        "keep_door_rates = []                                                                    # Lista av frekvenserna för då vi får kaninen när vi behåller vår dörr\n",
        "change_door_rates = []                                                                  # Lista av frekvenserna för då vi får kaninen när vi byter dörr\n",
        "\n",
        "for exp in range(1, 7):                                                                 # För exponenten 'exp' från 1 t.o.m. 6\n",
        "    keep_door_success = 0                                                               # Antalet gånger vi får kaninen när vi behåller vår dörr i nuvarande mängd scenarion\n",
        "    change_door_success = 0                                                             # Antalet gånger vi får kaninen när vi byter dörr i nuvarande mängd scenarion\n",
        "\n",
        "    for _ in range(10**exp):                                                            # Loopa '10**exp' antal gånger\n",
        "        doors = ['snake' for _ in range(3)]                                             # Lista med alla djur bakom respektive dörr. (Alla är initiellt ormar)\n",
        "        doors[random.randint(0, 2)] = 'rabbit'                                          # Byt ut ett slumpmässigt djur mot en kanin\n",
        "        pick = random.randint(0, 2)                                                     # Vår initiellt valda dörr\n",
        "        \n",
        "        for door, animal in enumerate(doors):                                           # För varje dörr-index och djur i 'doors'\n",
        "            if door != pick and animal == 'snake':                                      # Om dörren inte är vald och det är en orm bakom den\n",
        "                revealed_door = door                                                    # Index för öppnad/avslöjad dörr\n",
        "                break                                                                   # Avbryt for-satsen\n",
        "        \n",
        "        if doors[pick] == 'rabbit':                                                     # Om den valda dörren har kaninen bakom sig när vi behåller vår dörr\n",
        "            keep_door_success += 1                                                      # Öka antalet gånger vi har fått kaninen då vi behåller vår dörr\n",
        "        \n",
        "        for door in range(3):                                                           # För varje dörr-index\n",
        "            if door != pick and door != revealed_door:                                  # Om dörren inte var initiellt vald och det inte är den öppnade dörren\n",
        "                pick = door                                                             # Byt till den dörren\n",
        "                break                                                                   # Avbryt for-satsen\n",
        "        \n",
        "        if doors[pick] == 'rabbit':                                                     # Om dörren vi har bytt till har kaninen bakom sig\n",
        "            change_door_success += 1                                                    # Öka antalet gånger vi har fått kaninen då vi byter dörr\n",
        "\n",
        "    keep_door_rates.append(keep_door_success/(10**exp))                                 # Lägg till frekvensen för då vi fick kaninen när vi behöll vår initiella dörr\n",
        "    change_door_rates.append(change_door_success/(10**exp))                             # Lägg till frekvensen för då vi fick kaninen när vi bytte dörren\n",
        "\n",
        "plt.plot([f'{10**i}' for i in range(1, 7)], keep_door_rates, label='Keep door')         # Skapa linjediagram av frekvenserna för då vi fick kaninen när vi behöll vår initiella dörr\n",
        "plt.plot([f'{10**i}' for i in range(1, 7)], change_door_rates, label='Change door')     # Skapa linjediagram av frekvenserna för då vi fick kaninen när vi bytte dörr\n",
        "plt.title('Getting the rabbit')                                                         # Ändra grafens titel till \"Getting the rabbit\"\n",
        "plt.xlabel('Attempts')                                                                  # Ändra x-axelns etikett till \"Attempts\"\n",
        "plt.ylabel('Success rate')                                                              # Ändra y-axelns etikett till \"Success rate\"\n",
        "plt.legend(title='Scenarios')                                                           # Lägg till en legend med titeln \"Scenario\"\n",
        "\n",
        "plt.show()                                                                              # Visa grafen"
      ]
    }
  ],
  "metadata": {
    "colab": {
      "include_colab_link": true,
      "provenance": []
    },
    "kernelspec": {
      "display_name": "Python 3 (ipykernel)",
      "language": "python",
      "name": "python3"
    },
    "language_info": {
      "codemirror_mode": {
        "name": "ipython",
        "version": 3
      },
      "file_extension": ".py",
      "mimetype": "text/x-python",
      "name": "python",
      "nbconvert_exporter": "python",
      "pygments_lexer": "ipython3",
      "version": "3.9.13"
    },
    "vscode": {
      "interpreter": {
        "hash": "7e1998ff7f8aa20ada591c520b972326324e5ea05489af9e422744c7c09f6dad"
      }
    }
  },
  "nbformat": 4,
  "nbformat_minor": 0
}
