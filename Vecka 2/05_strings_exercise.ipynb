{
  "cells": [
    {
      "cell_type": "markdown",
      "metadata": {
        "colab_type": "text",
        "id": "view-in-github"
      },
      "source": [
        "<a href=\"https://colab.research.google.com/github/aleylani/Python/blob/main/exercises/05_strings_exercise.ipynb\" target=\"_parent\"><img src=\"https://colab.research.google.com/assets/colab-badge.svg\" alt=\"Open In Colab\"/></a>"
      ]
    },
    {
      "cell_type": "markdown",
      "metadata": {
        "id": "4uEpN9NNQhJc"
      },
      "source": [
        "# strings exercises\n",
        "\n",
        "---\n",
        "These are introductory exercises in Python with focus in **strings**.\n",
        "\n",
        "<p class = \"alert alert-info\" role=\"alert\"><b>Remember</b> to use <b>descriptive variable names</b> in order to get readable code </p>\n",
        "\n",
        "<p class = \"alert alert-info\" role=\"alert\"><b>Remember</b> to format your answers in a neat way using <b>f-strings</b>\n",
        "\n",
        "<p class = \"alert alert-info\" role=\"alert\"><b>Remember</b> to format your input questions in a pedagogical way to guide the user\n",
        "\n",
        "The number of stars (\\*), (\\*\\*), (\\*\\*\\*) denotes the difficulty level of the task\n",
        "\n",
        "---"
      ]
    },
    {
      "cell_type": "markdown",
      "metadata": {
        "id": "_dOqDDyDQhJd"
      },
      "source": [
        "## 1. Counting letters (*)\n",
        "\n",
        "Let the user input a word:\n",
        "\n",
        "&nbsp; a) &nbsp; print out the number of letters in the word. (*)\n",
        "  \n",
        "&nbsp; b) &nbsp; print out the number of **uppercase** and **lowercase** letters of the word (*)   \n"
      ]
    },
    {
      "cell_type": "code",
      "execution_count": null,
      "metadata": {},
      "outputs": [],
      "source": [
        "# a)\n",
        "\n",
        "word = input('Skriv in ett valfritt ord: ')\n",
        "\n",
        "print(f'Det är {len(word)} bokstäver i ordet {word}.')"
      ]
    },
    {
      "cell_type": "code",
      "execution_count": null,
      "metadata": {},
      "outputs": [],
      "source": [
        "# b)\n",
        "\n",
        "word = input('Skriv in ett valfritt ord: ')\n",
        "\n",
        "num_upper = 0\n",
        "num_lower = 0\n",
        "\n",
        "for letter in word:\n",
        "    if letter.isupper():\n",
        "        num_upper += 1\n",
        "    else:\n",
        "        num_lower += 1\n",
        "\n",
        "print(f'Det är {num_upper} versaler och {num_lower} gemener i ordet {word}.')"
      ]
    },
    {
      "cell_type": "markdown",
      "metadata": {
        "id": "ubDgfpYrQhJe"
      },
      "source": [
        "---\n",
        "## 2. Counting words (*)\n",
        "\n",
        "Count the number of words in this sentence: \"A picture says more than a thousand words, a matematical formula says more than a thousand pictures.\" (*)\n",
        "\n",
        "<details>\n",
        "\n",
        "<summary>Answer</summary>\n",
        "\n",
        "```\n",
        "There are 17 words in that sentence\n",
        "```"
      ]
    },
    {
      "cell_type": "code",
      "execution_count": null,
      "metadata": {},
      "outputs": [],
      "source": [
        "sentence = \"A picture says more than a thousand words, a matematical formula says more than a thousand pictures.\"\n",
        "\n",
        "words = sentence.split()\n",
        "\n",
        "print(f'Det är {len(words)} ord i meningen.')"
      ]
    },
    {
      "cell_type": "markdown",
      "metadata": {
        "id": "ZqvDvKPRQhJe"
      },
      "source": [
        "---\n",
        "## 3. Palindrome (*)\n",
        "\n",
        "A palindrome is a sequence of characters that is the same, when read forward as backwards (ignoring spaces). For example:\n",
        "- \"Anna\" is a palindrome\n",
        "- \"Ni talar bra latin\"\n",
        "- bjkjb\n",
        "\n",
        "Let the user input a sequence of characters and check if it is a palindrome. (*)"
      ]
    },
    {
      "cell_type": "code",
      "execution_count": null,
      "metadata": {},
      "outputs": [],
      "source": [
        "sentence = input('Skriv in en mening: ')\n",
        "\n",
        "letters = ''.join([c.lower() for c in sentence if c.isalpha()])\n",
        "\n",
        "if letters == letters[::-1]:\n",
        "    print(f'\"{sentence}\" är en palindrom.')\n",
        "else:\n",
        "    print(f'\"{sentence}\" är inte en palindrom.')"
      ]
    },
    {
      "cell_type": "markdown",
      "metadata": {
        "id": "K0MbPLPQQhJe"
      },
      "source": [
        "---\n",
        "## 4. Vowels (**)\n",
        "\n",
        "Count the number of vowels in this sentence: \"Pure mathematics is, in its way, the poetry of logical ideas\"\n",
        "\n",
        "<details>\n",
        "\n",
        "<summary>Answer</summary>\n",
        "\n",
        "```\n",
        "\n",
        "There are 22 vowels in this sentence\n",
        "\n",
        "```\n",
        "</details>"
      ]
    },
    {
      "cell_type": "code",
      "execution_count": null,
      "metadata": {},
      "outputs": [],
      "source": [
        "sentence = \"Pure mathematics is, in its way, the poetry of logical ideas\"\n",
        "vowels = 'aeiouyåäö'\n",
        "num_vowels = 0\n",
        "\n",
        "for letter in sentence:\n",
        "    if letter.lower() in vowels:\n",
        "        num_vowels += 1\n",
        "\n",
        "print(f'Det är {num_vowels} vokaler i meningen.')"
      ]
    },
    {
      "cell_type": "markdown",
      "metadata": {
        "id": "YCkksJpfQhJe"
      },
      "source": [
        "---\n",
        "## 5. Encryption (**)\n",
        "\n",
        "Let the user input a word and:\n",
        "\n",
        "&nbsp; a) &nbsp; encrypt the message by replacing each letter with the next letter. If the letter is in the end of the alphabet, use the first letter instead.\n",
        "\n",
        "e.g. in Swedish: \"höst\" $\\rightarrow$ \"iatu\"\n",
        "\n",
        "&nbsp; b) &nbsp; decrypt the message\n",
        "\n",
        "&nbsp; c) &nbsp; let the user choose either encryption or decryption."
      ]
    },
    {
      "cell_type": "code",
      "execution_count": null,
      "metadata": {},
      "outputs": [],
      "source": [
        "# a)\n",
        "\n",
        "message = input('Skriv in ett valfritt meddelande: ')\n",
        "alphabet = 'abcdefghijklmnopqrstuvwxyzåäö'\n",
        "\n",
        "encrypted = ''\n",
        "for letter in message:\n",
        "    if letter.lower() in alphabet:\n",
        "        position = (alphabet.index(letter.lower()) + 1) % len(alphabet)\n",
        "        \n",
        "        if letter.isupper():\n",
        "            encrypted += alphabet[position].upper()\n",
        "        else:\n",
        "            encrypted += alphabet[position]\n",
        "    else:\n",
        "        encrypted += letter\n",
        "\n",
        "print(f'Ditt meddelande \"{message}\" har encrypterats till \"{encrypted}\".')"
      ]
    },
    {
      "cell_type": "code",
      "execution_count": null,
      "metadata": {},
      "outputs": [],
      "source": [
        "# b)\n",
        "\n",
        "encrypted = input('Skriv in ett valfritt meddelande: ')\n",
        "alphabet = 'abcdefghijklmnopqrstuvwxyzåäö'\n",
        "\n",
        "message = ''\n",
        "for letter in encrypted:\n",
        "    if letter.lower() in alphabet:\n",
        "        position = (alphabet.index(letter.lower()) - 1) % len(alphabet)\n",
        "        \n",
        "        if letter.isupper():\n",
        "            message += alphabet[position].upper()\n",
        "        else:\n",
        "            message += alphabet[position]\n",
        "    else:\n",
        "        message += letter\n",
        "\n",
        "print(f'Ditt encrypterade meddelande \"{encrypted}\" har decrypterats till \"{message}\".')"
      ]
    },
    {
      "cell_type": "code",
      "execution_count": null,
      "metadata": {},
      "outputs": [],
      "source": [
        "# c)\n",
        "\n",
        "while True:\n",
        "    choice = input('Vill du encryptera [e] eller decryptera [d] ett meddelande? ')\n",
        "    if choice.lower() in ['e', 'd']:\n",
        "        break\n",
        "    else:\n",
        "        print('OGILTIG INPUT!')\n",
        "\n",
        "message = input('Skriv in ditt meddelande: ')\n",
        "alphabet = 'abcdefghijklmnopqrstuvwxyzåäö'\n",
        "if choice == 'e':\n",
        "    position_increment = 1\n",
        "else:\n",
        "    position_increment = -1\n",
        "\n",
        "new_message = ''\n",
        "for letter in message:\n",
        "    if letter.lower() in alphabet:\n",
        "        position = (alphabet.index(letter.lower()) + position_increment) % len(alphabet)\n",
        "        \n",
        "        if letter.isupper():\n",
        "            new_message += alphabet[position].upper()\n",
        "        else:\n",
        "            new_message += alphabet[position]\n",
        "    else:\n",
        "        new_message += letter\n",
        "\n",
        "if choice == 'e':\n",
        "    print(f'Ditt meddelande \"{message}\" har encrypterats till \"{new_message}\".')\n",
        "else:\n",
        "    print(f'Ditt encrypterade meddelande \"{message}\" har decrypterats till \"{new_message}\".')"
      ]
    }
  ],
  "metadata": {
    "colab": {
      "include_colab_link": true,
      "provenance": []
    },
    "kernelspec": {
      "display_name": "Python 3 (ipykernel)",
      "language": "python",
      "name": "python3"
    },
    "language_info": {
      "codemirror_mode": {
        "name": "ipython",
        "version": 3
      },
      "file_extension": ".py",
      "mimetype": "text/x-python",
      "name": "python",
      "nbconvert_exporter": "python",
      "pygments_lexer": "ipython3",
      "version": "3.12.0"
    },
    "vscode": {
      "interpreter": {
        "hash": "0da836a34428266995a795f1e1e27b816fa1c02f148d9728b3fbbbc5459afca6"
      }
    }
  },
  "nbformat": 4,
  "nbformat_minor": 0
}
