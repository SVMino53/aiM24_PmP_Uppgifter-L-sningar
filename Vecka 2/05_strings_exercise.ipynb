{
  "cells": [
    {
      "cell_type": "markdown",
      "metadata": {
        "colab_type": "text",
        "id": "view-in-github"
      },
      "source": [
        "<a href=\"https://colab.research.google.com/github/aleylani/Python/blob/main/exercises/05_strings_exercise.ipynb\" target=\"_parent\"><img src=\"https://colab.research.google.com/assets/colab-badge.svg\" alt=\"Open In Colab\"/></a>"
      ]
    },
    {
      "cell_type": "markdown",
      "metadata": {
        "id": "4uEpN9NNQhJc"
      },
      "source": [
        "# strings exercises\n",
        "\n",
        "---\n",
        "These are introductory exercises in Python with focus in **strings**.\n",
        "\n",
        "<p class = \"alert alert-info\" role=\"alert\"><b>Remember</b> to use <b>descriptive variable names</b> in order to get readable code </p>\n",
        "\n",
        "<p class = \"alert alert-info\" role=\"alert\"><b>Remember</b> to format your answers in a neat way using <b>f-strings</b>\n",
        "\n",
        "<p class = \"alert alert-info\" role=\"alert\"><b>Remember</b> to format your input questions in a pedagogical way to guide the user\n",
        "\n",
        "The number of stars (\\*), (\\*\\*), (\\*\\*\\*) denotes the difficulty level of the task\n",
        "\n",
        "---"
      ]
    },
    {
      "cell_type": "markdown",
      "metadata": {
        "id": "_dOqDDyDQhJd"
      },
      "source": [
        "## 1. Counting letters (*)\n",
        "\n",
        "Let the user input a word:\n",
        "\n",
        "&nbsp; a) &nbsp; print out the number of letters in the word. (*)\n",
        "  \n",
        "&nbsp; b) &nbsp; print out the number of **uppercase** and **lowercase** letters of the word (*)   \n"
      ]
    },
    {
      "cell_type": "code",
      "execution_count": null,
      "metadata": {},
      "outputs": [],
      "source": [
        "# a)\n",
        "\n",
        "word = input('Skriv in ett valfritt ord: ')                 # Givet ord från användaren\n",
        "\n",
        "print(f'Det är {len(word)} bokstäver i ordet {word}.')      # Skriv ut ordets längd"
      ]
    },
    {
      "cell_type": "code",
      "execution_count": null,
      "metadata": {},
      "outputs": [],
      "source": [
        "# b)\n",
        "\n",
        "word = input('Skriv in ett valfritt ord: ')                                         # Givet ord från användaren\n",
        "\n",
        "num_upper = 0                                                                       # Antalet versaler i ordet\n",
        "num_lower = 0                                                                       # Antalet gemener i ordet\n",
        "\n",
        "for letter in word:                                                                 # För varje bokstav i ordet\n",
        "    if letter.isupper():                                                            # Om bokstaven är en versal\n",
        "        num_upper += 1                                                              # Öka antalet versaler med 1\n",
        "    else:                                                                           # Om bokstaven är en gemen\n",
        "        num_lower += 1                                                              # Öka antalet gemener med 1\n",
        "\n",
        "print(f'Det är {num_upper} versaler och {num_lower} gemener i ordet {word}.')       # Skriv ut antalet versaler och gemener i ordet"
      ]
    },
    {
      "cell_type": "code",
      "execution_count": null,
      "metadata": {},
      "outputs": [],
      "source": [
        "# b) - Alternativ lösning\n",
        "\n",
        "word = input('Skriv in ett valfritt ord: ')                                         # Givet ord från användaren\n",
        "\n",
        "num_upper = len([letter for letter in word if letter.isupper()])                    # Antalet versaler givet från längden av en lista med alla versaler i ordet\n",
        "num_lower = len(word) - num_upper                                                   # Antalet gemener givet från antalet bokstäver i ordet minus antalet versaler\n",
        "\n",
        "print(f'Det är {num_upper} versaler och {num_lower} gemener i ordet {word}.')       # Skriv ut antalet versaler och gemener i ordet"
      ]
    },
    {
      "cell_type": "markdown",
      "metadata": {
        "id": "ubDgfpYrQhJe"
      },
      "source": [
        "---\n",
        "## 2. Counting words (*)\n",
        "\n",
        "Count the number of words in this sentence: \"A picture says more than a thousand words, a matematical formula says more than a thousand pictures.\" (*)\n",
        "\n",
        "<details>\n",
        "\n",
        "<summary>Answer</summary>\n",
        "\n",
        "```\n",
        "There are 17 words in that sentence\n",
        "```"
      ]
    },
    {
      "cell_type": "code",
      "execution_count": null,
      "metadata": {},
      "outputs": [],
      "source": [
        "sentence = \"A picture says more than a thousand words, a matematical formula says more than a thousand pictures.\"       # Mening som ska analyseras\n",
        "words = sentence.split()                                                                                                # Lista med alla ord i meningen\n",
        "\n",
        "print(f'Det är {len(words)} ord i meningen.')                                                                           # Skriv ut antalet ord i meningen"
      ]
    },
    {
      "cell_type": "markdown",
      "metadata": {
        "id": "ZqvDvKPRQhJe"
      },
      "source": [
        "---\n",
        "## 3. Palindrome (*)\n",
        "\n",
        "A palindrome is a sequence of characters that is the same, when read forward as backwards (ignoring spaces). For example:\n",
        "- \"Anna\" is a palindrome\n",
        "- \"Ni talar bra latin\"\n",
        "- bjkjb\n",
        "\n",
        "Let the user input a sequence of characters and check if it is a palindrome. (*)"
      ]
    },
    {
      "cell_type": "code",
      "execution_count": null,
      "metadata": {},
      "outputs": [],
      "source": [
        "sentence = input('Skriv in en mening: ')                            # Given mening från användaren\n",
        "letters = ''.join([c.lower() for c in sentence if c.isalpha()])     # En sträng av alla bokstäver i mening som gemener\n",
        "\n",
        "if letters == letters[::-1]:                                        # Om strängen av bokstäver är samma framlänges som baklänges\n",
        "    print(f'\"{sentence}\" är en palindrom.')                         # Skriv ut att meningen är en palindrom\n",
        "else:                                                               # Om strängen är annorlunda framlänges som baklänges\n",
        "    print(f'\"{sentence}\" är inte en palindrom.')                    # Skriv ut att meningen inte är en palindrom"
      ]
    },
    {
      "cell_type": "markdown",
      "metadata": {
        "id": "K0MbPLPQQhJe"
      },
      "source": [
        "---\n",
        "## 4. Vowels (**)\n",
        "\n",
        "Count the number of vowels in this sentence: \"Pure mathematics is, in its way, the poetry of logical ideas\"\n",
        "\n",
        "<details>\n",
        "\n",
        "<summary>Answer</summary>\n",
        "\n",
        "```\n",
        "\n",
        "There are 22 vowels in this sentence\n",
        "\n",
        "```\n",
        "</details>"
      ]
    },
    {
      "cell_type": "code",
      "execution_count": null,
      "metadata": {},
      "outputs": [],
      "source": [
        "sentence = \"Pure mathematics is, in its way, the poetry of logical ideas\"       # Mening som ska analyseras\n",
        "vowels = 'aeiouyåäö'                                                            # Sträng med alla vokaler som gemener (enligt svenska språket)\n",
        "num_vowels = 0                                                                  # Antal vokaler i meningen\n",
        "\n",
        "for letter in sentence:                                                         # För varje bokstav/tecken i meningen\n",
        "    if letter.lower() in vowels:                                                # Om gemenen av bokstaven är i strängen med vokaler\n",
        "        num_vowels += 1                                                         # Öka antalet vokaler i meningen med 1\n",
        "\n",
        "print(f'Det är {num_vowels} vokaler i meningen.')                               # Skriv ut antalet vokaler i meningen"
      ]
    },
    {
      "cell_type": "code",
      "execution_count": null,
      "metadata": {},
      "outputs": [],
      "source": [
        "# Alternativ lösning\n",
        "\n",
        "sentence = \"Pure mathematics is, in its way, the poetry of logical ideas\"           # Mening som ska analyseras\n",
        "vowels = 'aeiouyåäö'                                                                # Sträng med alla vokaler som gemener (enligt svenska språket)\n",
        "num_vowels = len([letter for letter in sentence if letter.lower() in vowels])       # Antalet vokaler i meningen givet från längden av en lista med alla vokaler i meningen\n",
        "\n",
        "print(f'Det är {num_vowels} vokaler i meningen.')                                   # Skriv ut antalet vokaler i meningen"
      ]
    },
    {
      "cell_type": "code",
      "execution_count": null,
      "metadata": {},
      "outputs": [],
      "source": [
        "# Alternativ lösning\n",
        "\n",
        "sentence = \"Pure mathematics is, in its way, the poetry of logical ideas\"       # Mening som ska analyseras\n",
        "vowels = 'aeiouyåäö'                                                            # Sträng med alla vokaler som gemener (enligt svenska språket)\n",
        "num_vowels = sum([1 for letter in sentence if letter.lower() in vowels])        # Antalet vokaler i meningen givet från summan av en lista med 1:or för varje vokal i meningen\n",
        "\n",
        "print(f'Det är {num_vowels} vokaler i meningen.')                               # Skriv ut antalet vokaler i meningen"
      ]
    },
    {
      "cell_type": "markdown",
      "metadata": {
        "id": "YCkksJpfQhJe"
      },
      "source": [
        "---\n",
        "## 5. Encryption (**)\n",
        "\n",
        "Let the user input a word and:\n",
        "\n",
        "&nbsp; a) &nbsp; encrypt the message by replacing each letter with the next letter. If the letter is in the end of the alphabet, use the first letter instead.\n",
        "\n",
        "e.g. in Swedish: \"höst\" $\\rightarrow$ \"iatu\"\n",
        "\n",
        "&nbsp; b) &nbsp; decrypt the message\n",
        "\n",
        "&nbsp; c) &nbsp; let the user choose either encryption or decryption."
      ]
    },
    {
      "cell_type": "code",
      "execution_count": null,
      "metadata": {},
      "outputs": [],
      "source": [
        "# a)\n",
        "\n",
        "message = input('Skriv in ett valfritt meddelande: ')                           # Givet meddelande från användaren\n",
        "alphabet = 'abcdefghijklmnopqrstuvwxyzåäö'                                      # Svenska alfabetet\n",
        "\n",
        "encrypted = ''                                                                  # Krypterat meddelande\n",
        "for letter in message:                                                          # För varje bokstav/tecken i meddelandet\n",
        "    if letter.lower() in alphabet:                                              # Om 'letter' är en bokstav som finns i svenska alfabetet\n",
        "        position = (alphabet.index(letter.lower()) + 1) % len(alphabet)         # Indexet för den krypterade bokstaven\n",
        "        \n",
        "        if letter.isupper():                                                    # Om bokstaven är en versal\n",
        "            encrypted += alphabet[position].upper()                             # Lägg till den krypterade bokstaven som en versal i det krypterade meddelande\n",
        "        else:                                                                   # Om bokstaven är en gemen\n",
        "            encrypted += alphabet[position]                                     # Lägg till den krypterade bokstaven som en gemen i det krypterade meddelande\n",
        "    \n",
        "    else:                                                                       # Om 'letter' inte är en bokstav som finns i det svenska alfabetet\n",
        "        encrypted += letter                                                     # Lägg till 'letter' direkt i det krypterade meddelandet\n",
        "\n",
        "print(f'Ditt meddelande \"{message}\" har krypterats till \"{encrypted}\".')        # Skriv ut det krypterade meddelandet"
      ]
    },
    {
      "cell_type": "code",
      "execution_count": null,
      "metadata": {},
      "outputs": [],
      "source": [
        "# b)\n",
        "\n",
        "encrypted = input('Skriv in ett valfritt meddelande: ')                                     # Givet krypterat meddelande från användaren\n",
        "alphabet = 'abcdefghijklmnopqrstuvwxyzåäö'                                                  # Svenska alfabetet\n",
        "\n",
        "message = ''                                                                                # Dekrypterat meddelande\n",
        "for letter in encrypted:                                                                    # För varje bokstav/tecken i krypterade meddelandet\n",
        "    if letter.lower() in alphabet:                                                          # Om 'letter' är en bokstav som finns i svenska alfabetet\n",
        "        position = (alphabet.index(letter.lower()) - 1) % len(alphabet)                     # Indexet för den dekrypterade bokstaven\n",
        "        \n",
        "        if letter.isupper():                                                                # Om bokstaven är en versal\n",
        "            message += alphabet[position].upper()                                           # Lägg till den dekrypterade bokstaven som en versal i det dekrypterade meddelande\n",
        "        else:                                                                               # Om bokstaven är en gemen\n",
        "            message += alphabet[position]                                                   # Lägg till den dekrypterade bokstaven som en gemen i det dekrypterade meddelande\n",
        "    \n",
        "    else:                                                                                   # Om 'letter' inte är en bokstav som finns i det svenska alfabetet\n",
        "        message += letter                                                                   # Lägg till 'letter' direkt i det dekrypterade meddelandet\n",
        "\n",
        "print(f'Ditt krypterade meddelande \"{encrypted}\" har dekrypterats till \"{message}\".')       # Skriv ut det dekrypterade meddelandet"
      ]
    },
    {
      "cell_type": "code",
      "execution_count": null,
      "metadata": {},
      "outputs": [],
      "source": [
        "# c)\n",
        "\n",
        "while True:\n",
        "    choice = input('Vill du kryptera [k] eller dekryptera [d] ett meddelande? ')                # Anvädarens val om att kryptera eller dekryptera ett meddelande\n",
        "    if choice.lower() in ['k', 'd']:                                                            # Om användarens input är \"k\" eller \"d\"\n",
        "        break                                                                                   # Avbryt while-satsen\n",
        "    else:                                                                                       # Om användarens input är ogiltig\n",
        "        print('OGILTIG INPUT!')\n",
        "\n",
        "message = input('Skriv in ditt meddelande: ')                                                   # Användarens meddelande som ska (de)krypteras\n",
        "alphabet = 'abcdefghijklmnopqrstuvwxyzåäö'                                                      # Sträng med svenska alfabetet\n",
        "if choice == 'k':                                                                               # Om användaren valde att kryptera meddelandet\n",
        "    position_increment = 1                                                                      # Sätt ökningsvärdet till 1\n",
        "else:                                                                                           # Om användaren valde att dekryptera meddelandet\n",
        "    position_increment = -1                                                                     # Sätt ökningsvärdet till -1\n",
        "\n",
        "new_message = ''                                                                                # Meddelandet efter (de)kryptering\n",
        "for letter in message:                                                                          # För varje bokstav/tecken i meddelandet\n",
        "    if letter.lower() in alphabet:                                                              # Om det är en bokstav i det svenska alfabetet\n",
        "        position = (alphabet.index(letter.lower()) + position_increment) % len(alphabet)        # (De)krypterade bokstavens position i svenska alfabetet\n",
        "        \n",
        "        if letter.isupper():                                                                    # Om bokstave är versal\n",
        "            new_message += alphabet[position].upper()                                           # Lägg till (de)krypterade bokstaven som en versal i (de)krypterade meddelandet\n",
        "        else:                                                                                   # Om bokstaven är gemen\n",
        "            new_message += alphabet[position]                                                   # Lägg till (de)krypterade bokstaven som en gemen i (de)kryperade meddelandet\n",
        "    \n",
        "    else:                                                                                       # Om det inte är en bokstav i det svenska alfabetet\n",
        "        new_message += letter                                                                   # Lägg till bokstaven/tecknet i (de)krypterade meddelandet\n",
        "\n",
        "if choice == 'k':                                                                               # Om användaren valde att kryptera meddelandet\n",
        "    print(f'Ditt meddelande \"{message}\" har krypterats till \"{new_message}\".')                  # Skriv ut orginalmeddelandet och krypterade meddelandet\n",
        "else:                                                                                           # Om användaren valde att dekryptera meddelandet\n",
        "    print(f'Ditt krypterade meddelande \"{message}\" har dekrypterats till \"{new_message}\".')     # Skriv ut orginalmeddelandet ocg dekrypterade meddelandet"
      ]
    }
  ],
  "metadata": {
    "colab": {
      "include_colab_link": true,
      "provenance": []
    },
    "kernelspec": {
      "display_name": "Python 3 (ipykernel)",
      "language": "python",
      "name": "python3"
    },
    "language_info": {
      "codemirror_mode": {
        "name": "ipython",
        "version": 3
      },
      "file_extension": ".py",
      "mimetype": "text/x-python",
      "name": "python",
      "nbconvert_exporter": "python",
      "pygments_lexer": "ipython3",
      "version": "3.9.13"
    },
    "vscode": {
      "interpreter": {
        "hash": "0da836a34428266995a795f1e1e27b816fa1c02f148d9728b3fbbbc5459afca6"
      }
    }
  },
  "nbformat": 4,
  "nbformat_minor": 0
}
