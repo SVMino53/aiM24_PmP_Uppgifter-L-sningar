{
  "cells": [
    {
      "cell_type": "markdown",
      "metadata": {
        "colab_type": "text",
        "id": "view-in-github"
      },
      "source": [
        "<a href=\"https://colab.research.google.com/github/aleylani/Python-AI24/blob/main/exercises/06_functions_exercise.ipynb\" target=\"_parent\"><img src=\"https://colab.research.google.com/assets/colab-badge.svg\" alt=\"Open In Colab\"/></a>"
      ]
    },
    {
      "cell_type": "markdown",
      "metadata": {
        "id": "GCjW3bj4Rjiy"
      },
      "source": [
        "# functions exercises\n",
        "\n",
        "---\n",
        "These are introductory exercises in Python with focus in **functions**.\n",
        "\n",
        "<p class = \"alert alert-info\" role=\"alert\"><b>Remember</b> to use <b>descriptive variable and function names</b> in order to get readable code </p>\n",
        "\n",
        "<p class = \"alert alert-info\" role=\"alert\"><b>Remember</b> to format your answers in a neat way using <b>f-strings</b>\n",
        "\n",
        "<p class = \"alert alert-info\" role=\"alert\"><b>Remember</b> to format your input questions in a pedagogical way to guide the user\n",
        "\n",
        "The number of stars (\\*), (\\*\\*), (\\*\\*\\*) denotes the difficulty level of the task\n",
        "\n",
        "---"
      ]
    },
    {
      "cell_type": "markdown",
      "metadata": {
        "id": "U1m45wj-Rjiy"
      },
      "source": [
        "## 1. Area (*)\n",
        "\n",
        "Create a function that takes the base and height of a triangle as input parameters and returns the area of the triangle."
      ]
    },
    {
      "cell_type": "code",
      "execution_count": null,
      "metadata": {},
      "outputs": [],
      "source": [
        "def area(base : float, height : float) -> float:\n",
        "    \"\"\"\n",
        "    Räknar ut en triangels area givet dess bas och höjd.\n",
        "\n",
        "    Args:\n",
        "        base: Triangelns bas.\n",
        "        height: Triangelns höjd.\n",
        "\n",
        "    Returns:\n",
        "        `float`: Triangelns area.\n",
        "    \"\"\"\n",
        "\n",
        "    return base*height/2\n",
        "\n",
        "\n",
        "b = 10                                                                              # Basen av en triangel\n",
        "h = 5                                                                               # Höjden av samma triangel\n",
        "a = area(b, h)                                                                      # Arean av samma triangel\n",
        "\n",
        "print(f'En triangel med basen {b} l.e. och höjden {h} l.e. har arean {a} a.e.')     # Skriv ut triangelns bas, höjd och area"
      ]
    },
    {
      "cell_type": "markdown",
      "metadata": {
        "id": "BWpBhHfdRjiy"
      },
      "source": [
        "---\n",
        "\n",
        "## 2. Euclidean distance (*)\n",
        "\n",
        "The formula for Euclidean distance in 2D between $P: (p_1, p_2)$ and $Q: (q_1, q_2)$  is:\n",
        "\n",
        "$d(P,Q) = \\sqrt{(p_1-q_1)^2 + (p_2-q_2)^2}$\n",
        "\n",
        "&nbsp; a) &nbsp; Create a function that takes two points as input parameters and return the Euclidean distance between them. (*)\n",
        "\n",
        "&nbsp; b) &nbsp; Let the user input two points. Call the function using the users input points. (*)\n",
        "\n",
        "&nbsp; c) &nbsp; Use your function to calculate distances between the origin (0, 0) and each of these points: (10, 3), (-1, -9), (10, -10), (4, -2), (9, -10). (*)\n",
        "\n",
        "<details>\n",
        "\n",
        "<summary>Hint</summary>\n",
        "\n",
        "Use a **for** statement\n",
        "\n",
        "</details>\n",
        "<br>\n",
        "<details>\n",
        "\n",
        "<summary>Answer</summary>\n",
        "\n",
        "c)\n",
        "\n",
        "```\n",
        "[10.4, 9.1, 14.1, 4.5, 13.5]\n",
        "```\n",
        "\n",
        "</details>\n"
      ]
    },
    {
      "cell_type": "code",
      "execution_count": 2,
      "metadata": {},
      "outputs": [],
      "source": [
        "# a)\n",
        "\n",
        "import math\n",
        "\n",
        "def distance_between(p : tuple[float, float], q : tuple[float, float]) -> float:\n",
        "    \"\"\"\n",
        "    Räknar ut avståndet mellan två punkter i 2D-rum.\n",
        "\n",
        "    Args:\n",
        "        p: Ena punkten i 2D-rum.\n",
        "        q: Andra punkten i 2D-rum.\n",
        "\n",
        "    Returns:\n",
        "        `float`: Avståndet mellen punkterna **p** och **q**.\n",
        "    \"\"\"\n",
        "\n",
        "    return math.sqrt((p[0] - q[0])**2 + (p[1] - q[1])**2)"
      ]
    },
    {
      "cell_type": "code",
      "execution_count": null,
      "metadata": {},
      "outputs": [],
      "source": [
        "# b)\n",
        "\n",
        "print('Skriv in två punkters (P och Q) koordinater.')\n",
        "\n",
        "p1 = float(input('P_1 = '))\n",
        "p2 = float(input('P_2 = '))\n",
        "q1 = float(input('Q_1 = '))\n",
        "q2 = float(input('Q_2 = '))\n",
        "\n",
        "p = (p1, p2)\n",
        "q = (q1, q2)\n",
        "\n",
        "distance = distance_between(p, q)\n",
        "\n",
        "print(f'Distansen mellan punkterna P {p} och Q {q} är {distance}.')"
      ]
    },
    {
      "cell_type": "code",
      "execution_count": null,
      "metadata": {},
      "outputs": [],
      "source": [
        "# c)\n",
        "\n",
        "points = [(10, 3), (-1, -9), (10, -10), (4, -2), (9, -10)]\n",
        "distances = [round(distance_between((0, 0), point), 1) for point in points]\n",
        "\n",
        "print(distances)"
      ]
    },
    {
      "cell_type": "markdown",
      "metadata": {
        "id": "Je3hvdMsRji0"
      },
      "source": [
        "---\n",
        "## 3. Mathematical functions (*)\n",
        "\n",
        "Make the following functions with **def** and plot their graphs in the same figure window, with $x\\in [-10,10]$ :\n",
        "\n",
        "&nbsp; a) &nbsp;  $f(x) = x^2 -3$ (*)\n",
        "\n",
        "&nbsp; b) &nbsp; $g(x) = 4x - 7$ (*)\n",
        "\n",
        "Do the graphs cross each other at some point?\n"
      ]
    },
    {
      "cell_type": "markdown",
      "metadata": {},
      "source": [
        "Alternativt kan vi skapa ovan listor att plotta med **list comprehensions**"
      ]
    },
    {
      "cell_type": "code",
      "execution_count": 7,
      "metadata": {},
      "outputs": [],
      "source": [
        "# a)\n",
        "\n",
        "def f_function(x):\n",
        "    return x**2 - 3"
      ]
    },
    {
      "cell_type": "code",
      "execution_count": 8,
      "metadata": {},
      "outputs": [],
      "source": [
        "# b)\n",
        "\n",
        "def g_function(x):\n",
        "    return 4*x - 7"
      ]
    },
    {
      "cell_type": "code",
      "execution_count": null,
      "metadata": {},
      "outputs": [],
      "source": [
        "import matplotlib.pyplot as plt\n",
        "\n",
        "interval = list(range(-10, 11))\n",
        "f_values = [f_function(x) for x in interval]\n",
        "g_values = [g_function(x) for x in interval]\n",
        "\n",
        "plt.plot(interval, f_values, label='f(x)')\n",
        "plt.plot(interval, g_values, label='g(x)')\n",
        "plt.title('Function graphs')\n",
        "plt.xlabel('x')\n",
        "plt.ylabel('y')\n",
        "plt.legend(title='Functions')\n",
        "\n",
        "plt.show()"
      ]
    },
    {
      "cell_type": "markdown",
      "metadata": {
        "id": "oDD5-Sy3Rji0"
      },
      "source": [
        "---\n",
        "## 4. Name cleaner (*)\n",
        "\n",
        "Create a function that takes a name as an input and:\n",
        "\n",
        "- removes all leading and trailing blank spaces\n",
        "- make capitalize the first character of each name, and make the rest lowercase\n",
        "\n",
        "Use your function on this list of strings:\n",
        "\n",
        "```\n",
        "[\"  MaRcUs \", \" iDA aNderSon\", \"OLOF Olofsson            \"  ]\n",
        "```\n",
        "\n",
        "\n",
        "<details>\n",
        "\n",
        "<summary>Hint</summary>\n",
        "Use\n",
        "\n",
        "- [title() method][str_title]\n",
        "- [strip() method][str_strip]\n",
        "- [join() method][str_join]\n",
        "- [split() method][str_split]\n",
        "\n",
        "[str_title]: https://www.w3schools.com/python/ref_string_title.asp\n",
        "[str_strip]: https://www.w3schools.com/python/ref_string_strip.asp\n",
        "[str_join]: https://www.w3schools.com/python/ref_string_join.asp\n",
        "[str_split]: https://www.w3schools.com/python/ref_string_split.asp\n",
        "\n",
        "</details>\n",
        "<br>\n",
        "<details>\n",
        "\n",
        "<summary>Answer</summary>\n",
        "\n",
        "```\n",
        "Marcus\n",
        "Ida Anderson\n",
        "Olof Olofsson\n",
        "```\n",
        "\n",
        "</details>\n"
      ]
    },
    {
      "cell_type": "code",
      "execution_count": 14,
      "metadata": {},
      "outputs": [],
      "source": [
        "# Min lösning\n",
        "\n",
        "def adjust_name(full_name : str):\n",
        "    sub_names = full_name.split()\n",
        "    adjusted_name = ' '.join([name.capitalize() for name in sub_names])\n",
        "    return adjusted_name"
      ]
    },
    {
      "cell_type": "code",
      "execution_count": 12,
      "metadata": {},
      "outputs": [],
      "source": [
        "# Alternativ lösning (Ali)\n",
        "\n",
        "def adjust_name(full_name : str):\n",
        "    return full_name.strip().title()"
      ]
    },
    {
      "cell_type": "code",
      "execution_count": null,
      "metadata": {},
      "outputs": [],
      "source": [
        "names = [\"  MaRcUs \", \" iDA aNderSon\", \"OLOF Olofsson            \"  ]\n",
        "adjusted_names = [adjust_name(name) for name in names]\n",
        "\n",
        "print(adjusted_names)"
      ]
    },
    {
      "cell_type": "markdown",
      "metadata": {
        "id": "KPzkiXToRji1"
      },
      "source": [
        "---\n",
        "## 5. Change (**)\n",
        "\n",
        "Create a function that takes a value as input parameter and print out the banknotes and coins in Swedish currency representing this value. For example 5289 would give the following printout:\n",
        "\n",
        "- 5st 1000-lapp\n",
        "- 1st 200-lapp\n",
        "- 1st 50-lapp\n",
        "- 1st 20-lapp\n",
        "- 1st 10-krona\n",
        "- 1st 5-krona\n",
        "- 2st 2-krona\n",
        "\n",
        "Now let the user input a value, and use the function to calculate the change."
      ]
    },
    {
      "cell_type": "code",
      "execution_count": 2,
      "metadata": {},
      "outputs": [],
      "source": [
        "def swedich_currency_change(value : int):\n",
        "    change_values = [1000, 500, 200, 100, 50, 20, 10, 5, 2, 1]\n",
        "\n",
        "    for change in change_values:\n",
        "        if value == 0:\n",
        "            break\n",
        "        \n",
        "        num_change = 0\n",
        "\n",
        "        while value - change >= 0:\n",
        "            value -= change\n",
        "            num_change += 1\n",
        "        \n",
        "        if num_change > 0:\n",
        "            if change >= 20:\n",
        "                print(f'* {num_change}st {change}-lappar')\n",
        "            else:\n",
        "                print(f'* {num_change}st {change}-kronor')"
      ]
    },
    {
      "cell_type": "code",
      "execution_count": null,
      "metadata": {},
      "outputs": [],
      "source": [
        "value = int(input('Skriv in ett värde i SEK: '))\n",
        "\n",
        "swedich_currency_change(value)"
      ]
    }
  ],
  "metadata": {
    "colab": {
      "include_colab_link": true,
      "provenance": []
    },
    "kernelspec": {
      "display_name": "Python 3 (ipykernel)",
      "language": "python",
      "name": "python3"
    },
    "language_info": {
      "codemirror_mode": {
        "name": "ipython",
        "version": 3
      },
      "file_extension": ".py",
      "mimetype": "text/x-python",
      "name": "python",
      "nbconvert_exporter": "python",
      "pygments_lexer": "ipython3",
      "version": "3.12.0"
    },
    "vscode": {
      "interpreter": {
        "hash": "0da836a34428266995a795f1e1e27b816fa1c02f148d9728b3fbbbc5459afca6"
      }
    }
  },
  "nbformat": 4,
  "nbformat_minor": 0
}
