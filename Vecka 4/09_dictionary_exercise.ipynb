{
  "cells": [
    {
      "cell_type": "markdown",
      "metadata": {
        "colab_type": "text",
        "id": "view-in-github"
      },
      "source": [
        "<a href=\"https://colab.research.google.com/github/aleylani/Python/blob/main/exercises/09_dictionary_exercise.ipynb\" target=\"_parent\"><img src=\"https://colab.research.google.com/assets/colab-badge.svg\" alt=\"Open In Colab\"/></a>"
      ]
    },
    {
      "cell_type": "markdown",
      "metadata": {
        "id": "-Tt0Nh61Q93M"
      },
      "source": [
        "# dictionary exercises\n",
        "\n",
        "---\n",
        "These are introductory exercises in Python with focus in **dictionary**.\n",
        "\n",
        "<p class = \"alert alert-info\" role=\"alert\"><b>Remember</b> to use <b>descriptive variable and function names</b> in order to get readable code </p>\n",
        "\n",
        "<p class = \"alert alert-info\" role=\"alert\"><b>Remember</b> to format your answers in a neat way using <b>f-strings</b>\n",
        "\n",
        "<p class = \"alert alert-info\" role=\"alert\"><b>Remember</b> to format your input questions in a pedagogical way to guide the user\n",
        "\n",
        "The number of stars (\\*), (\\*\\*), (\\*\\*\\*) denotes the difficulty level of the task\n",
        "\n",
        "---"
      ]
    },
    {
      "cell_type": "markdown",
      "metadata": {
        "id": "h12a82ufQ93O"
      },
      "source": [
        "## 1. Curriculum (*)\n",
        "\n",
        "Create a dictionary containing all the courses that you will study in this program, with the course names as **keys** and the amount of points as **value**. Then calculate the number of points that you will study in total. (*)\n",
        "\n",
        "<details>\n",
        "\n",
        "<summary>Answer</summary>\n",
        "\n",
        "Look at your course program curriculum\n",
        "\n",
        "</details>\n"
      ]
    },
    {
      "cell_type": "code",
      "execution_count": null,
      "metadata": {},
      "outputs": [],
      "source": [
        "courses = {'Introduktionskurs till AI': 5,\n",
        "           'Programmering med Python': 40,\n",
        "           'Databehandling': 25,\n",
        "           'Linjär Algebra': 20,\n",
        "           'Statistiska Metoder': 30,\n",
        "           'Maskininlärning': 45,\n",
        "           'Databaser': 25,\n",
        "           'Data Engineering och Agila Metoder': 45,\n",
        "           'LIA 1': 40,\n",
        "           'Djup Maskininlärning': 40,\n",
        "           'LIA 2': 70,\n",
        "           'Examensarbete': 15}\n",
        "\n",
        "total_points = sum([course[1] for course in courses.items()])\n",
        "\n",
        "print(f'The total points of all courses is {total_points}p.')"
      ]
    },
    {
      "cell_type": "markdown",
      "metadata": {
        "id": "q_VkLopFQ93O"
      },
      "source": [
        "---\n",
        "## 2. Dice simulation (*)\n",
        "\n",
        "Simulate 1000000 dice rolls and save the number of ones, twos, ..., sixes in a dictionary. Then print them out in the terminal. (*)\n",
        "\n",
        "<details>\n",
        "\n",
        "<summary>Answer</summary>\n",
        "\n",
        "```\n",
        "1: 166481\n",
        "2: 166844\n",
        "3: 166154\n",
        "4: 167400\n",
        "5: 167260\n",
        "6: 165861\n",
        "```\n",
        "\n",
        "</details>\n"
      ]
    },
    {
      "cell_type": "code",
      "execution_count": null,
      "metadata": {},
      "outputs": [],
      "source": [
        "import random\n",
        "\n",
        "\n",
        "roll_freq = {key: 0 for key in range(1, 7)}\n",
        "\n",
        "for _ in range(10**6):\n",
        "    roll = random.randint(1, 6)\n",
        "    roll_freq[roll] += 1\n",
        "\n",
        "print('Frequency of values after 1000000 dice rolls:')\n",
        "\n",
        "for key, val in roll_freq.items():\n",
        "    print(f'  {key} rolled {val} times.')"
      ]
    },
    {
      "cell_type": "markdown",
      "metadata": {
        "id": "GlL9XKOhQ93P"
      },
      "source": [
        "---\n",
        "## 3. Pokemon list (*)\n",
        "\n",
        "Read in the file pokemon_list.txt in Python. Create a variable with name pokedex with the key:value **\"pokemon\":\"type, index\"**. For example when searching for the keys \"Gengar\" and \"Pikachu\": (*)\n",
        "\n",
        "```python\n",
        "\n",
        "print(pokedex[\"Gengar\"])\n",
        "print(pokedex[\"Pikachu\"])\n",
        "\n",
        "Spöke/Gift, 94\n",
        "Elektrisk, 25\n",
        "```\n",
        "\n",
        "<details>\n",
        "\n",
        "<summary>Answer</summary>\n",
        "\n",
        "```\n",
        "{'Bulbasaur': 'Gräs/Gift, 1',\n",
        " 'Ivysaur': 'Gräs/Gift, 2',\n",
        " 'Venusaur': 'Gräs/Gift, 3',\n",
        " 'Charmander': 'Eld, 4',\n",
        " 'Charmeleon': 'Eld, 5',\n",
        " 'Charizard': 'Eld/Flygande, 6',\n",
        " 'Squirtle': 'Vatten, 7',\n",
        " 'Wartortle': 'Vatten, 8',\n",
        " 'Blastoise': 'Vatten, 9',\n",
        " ...\n",
        "}\n",
        "```\n",
        "\n",
        "</details>\n"
      ]
    },
    {
      "cell_type": "code",
      "execution_count": null,
      "metadata": {},
      "outputs": [],
      "source": [
        "filepath = '../data/pokemon_list.txt'\n",
        "\n",
        "with open(filepath, 'r') as f:\n",
        "    lines = f.readlines()\n",
        "\n",
        "infos = [line.split() for line in lines]\n",
        "pokedex = {info[1]: [info[2], int(info[0])] for info in infos}\n",
        "\n",
        "print(pokedex['Pikachu'])\n",
        "print(pokedex['Gengar'])"
      ]
    },
    {
      "cell_type": "markdown",
      "metadata": {
        "id": "nz9uG-zFQ93P"
      },
      "source": [
        "---\n",
        "## 4. Morse code (**)\n",
        "\n",
        "Read in the file morse.txt, save it in a dictionary and create a function that lets the user input a message to get it translated to morse code. For example  (**)\n",
        "\n",
        "```python\n",
        "\n",
        "print(morse(\"SOS\"))\n",
        "print(morse(\"POKEMON\"))\n",
        "\n",
        "...---...\n",
        ".------.-.------.\n",
        "```"
      ]
    },
    {
      "cell_type": "code",
      "execution_count": null,
      "metadata": {},
      "outputs": [],
      "source": [
        "filepath = '../data/morse.txt'\n",
        "\n",
        "with open(filepath, 'r') as f:\n",
        "    lines = f.read().split('\\n')\n",
        "\n",
        "letter_morse = [line.split(': ') for line in lines]\n",
        "alphabet = {l: m for l, m in letter_morse}\n",
        "\n",
        "\n",
        "def morse(msg):\n",
        "    new_msg = ''\n",
        "    for letter in msg:\n",
        "        if letter in alphabet:\n",
        "            new_msg += f'{alphabet[letter]} '\n",
        "        else:\n",
        "            new_msg += letter\n",
        "    \n",
        "    return new_msg\n",
        "\n",
        "\n",
        "print(morse('YYZ BY RUSH'))"
      ]
    }
  ],
  "metadata": {
    "colab": {
      "include_colab_link": true,
      "provenance": []
    },
    "kernelspec": {
      "display_name": "Python 3 (ipykernel)",
      "language": "python",
      "name": "python3"
    },
    "language_info": {
      "codemirror_mode": {
        "name": "ipython",
        "version": 3
      },
      "file_extension": ".py",
      "mimetype": "text/x-python",
      "name": "python",
      "nbconvert_exporter": "python",
      "pygments_lexer": "ipython3",
      "version": "3.12.0"
    },
    "vscode": {
      "interpreter": {
        "hash": "0da836a34428266995a795f1e1e27b816fa1c02f148d9728b3fbbbc5459afca6"
      }
    }
  },
  "nbformat": 4,
  "nbformat_minor": 0
}
