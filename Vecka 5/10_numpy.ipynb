{
  "cells": [
    {
      "cell_type": "markdown",
      "metadata": {
        "colab_type": "text",
        "id": "view-in-github"
      },
      "source": [
        "<a href=\"https://colab.research.google.com/github/aleylani/Python-AI24/blob/main/exercises/10_numpy.ipynb\" target=\"_parent\"><img src=\"https://colab.research.google.com/assets/colab-badge.svg\" alt=\"Open In Colab\"/></a>"
      ]
    },
    {
      "cell_type": "markdown",
      "metadata": {
        "id": "kOYYgGm6RJZG"
      },
      "source": [
        "# Numpy exercises\n",
        "\n",
        "---\n",
        "These are introductory exercises in Python with focus in **Numpy**.\n",
        "\n",
        "<p class = \"alert alert-info\" role=\"alert\"><b>Remember</b> to use <b>descriptive variable names</b> in order to get readable code </p>\n",
        "\n",
        "<p class = \"alert alert-info\" role=\"alert\"><b>Remember</b> to format your answers in a neat way using <b>f-strings</b>\n",
        "\n",
        "<p class = \"alert alert-info\" role=\"alert\"><b>Remember</b> to format your input questions in a pedagogical way to guide the user\n",
        "\n",
        "The number of stars (\\*), (\\*\\*), (\\*\\*\\*) denotes the difficulty level of the task\n",
        "\n",
        "---"
      ]
    },
    {
      "cell_type": "markdown",
      "metadata": {
        "id": "CKdkN00VRJZH"
      },
      "source": [
        "## 1. Dice simulations (*)\n",
        "\n",
        "Simulations of one die,  \n",
        "\n",
        "&nbsp; a) Calculate theoretical mean of a dice (six-sided) (*)\n",
        "\n",
        "&nbsp; b) Now do simulations of\n",
        "\n",
        "- 10\n",
        "- 100\n",
        "- 1000\n",
        "- 10000\n",
        "- 100000\n",
        "- 1000000\n",
        "- 10000000\n",
        "\n",
        "number of dices and plot their means. (*)\n",
        "\n",
        "<details>\n",
        "\n",
        "<summary>Answer </summary>\n",
        "\n",
        "a)\n",
        "```\n",
        "3.5\n",
        "```\n",
        "\n",
        "b)\n",
        "\n",
        "<img src=\"../assets/numpy_1b.png\" width = 300>\n",
        "\n",
        "</details>\n",
        "\n",
        "\n"
      ]
    },
    {
      "cell_type": "code",
      "execution_count": 1,
      "metadata": {},
      "outputs": [
        {
          "name": "stdout",
          "output_type": "stream",
          "text": [
            "The theoretical mean value from a dice is 3.5.\n"
          ]
        }
      ],
      "source": [
        "# a)\n",
        "\n",
        "import numpy as np\n",
        "\n",
        "\n",
        "possible_results = list(range(1, 7))\n",
        "mean_result_value = np.mean(possible_results)\n",
        "\n",
        "print(f\"The theoretical mean value from a dice is {mean_result_value}.\")"
      ]
    },
    {
      "cell_type": "code",
      "execution_count": 2,
      "metadata": {},
      "outputs": [
        {
          "data": {
            "image/png": "[encoded data removed]",
            "text/plain": [
              "<Figure size 640x480 with 1 Axes>"
            ]
          },
          "metadata": {},
          "output_type": "display_data"
        }
      ],
      "source": [
        "# b)\n",
        "\n",
        "import numpy as np\n",
        "import random\n",
        "import matplotlib.pyplot as plt\n",
        "\n",
        "\n",
        "nums_rolls = [10**i for i in range(1, 7)]\n",
        "mean_roll_vals = []\n",
        "for num_rolls in nums_rolls:\n",
        "    rolls = [random.randint(1, 6) for _ in range(num_rolls)]\n",
        "    mean_roll_val = round(np.mean(rolls), 2)\n",
        "    mean_roll_vals.append(mean_roll_val)\n",
        "\n",
        "plt.plot([f'{num_rolls}' for num_rolls in nums_rolls], mean_roll_vals)\n",
        "plt.show()"
      ]
    },
    {
      "cell_type": "markdown",
      "metadata": {
        "id": "eVDKE8kPRJZH"
      },
      "source": [
        "---\n",
        "## 2. Several dices (**)\n",
        "\n",
        "&nbsp; a) Make a sample space for the sum of two dices, i.e. all possible outcomes of these dices. (*)\n",
        "\n",
        "&nbsp; b) Count the number of each values in the sample space (*)\n",
        "\n",
        "&nbsp; c) Now calculate the frequency $f_i$ for each unique value. Also check that the sum of frequencies sums to 1, i.e. $\\sum_i f_i = 1$. (*)\n",
        "\n",
        "&nbsp; d) Make a bar chart of the sum of two dices, with frequencies in y and unique values in x. This is a probability distribution of the sum of your two dices. (*)\n",
        "\n",
        "&nbsp; e) Now make barplots in subplots of sum of dices for 1 dice, 2 dices, 3 dices and 4 dices. What is the pattern that you see? (**)\n",
        "\n",
        "<details>\n",
        "\n",
        "<summary>Hint</summary>\n",
        "\n",
        "a)\n",
        "\n",
        "Here are some potentially useful methods:\n",
        "\n",
        "```py\n",
        "\n",
        "np.meshgrid(), np.add.reduce(), np.unique()\n",
        "\n",
        "```\n",
        "\n",
        "c)\n",
        "\n",
        "Divide by the total number of outcomes\n",
        "\n",
        "\n",
        "</details>\n",
        "\n",
        "<details>\n",
        "\n",
        "<summary>Answer</summary>\n",
        "\n",
        "\n",
        "a)\n",
        "\n",
        "Sample space\n",
        "\n",
        "```\n",
        "[[ 2  3  4  5  6  7]\n",
        " [ 3  4  5  6  7  8]\n",
        " [ 4  5  6  7  8  9]\n",
        " [ 5  6  7  8  9 10]\n",
        " [ 6  7  8  9 10 11]\n",
        " [ 7  8  9 10 11 12]]\n",
        "```\n",
        "\n",
        "b)\n",
        "\n",
        "Unique values:\n",
        "```\n",
        "[ 2  3  4  5  6  7  8  9 10 11 12]\n",
        "```\n",
        "\n",
        "Count:\n",
        "```\n",
        "[1 2 3 4 5 6 5 4 3 2 1]\n",
        "```\n",
        "\n",
        "c)\n",
        "\n",
        "```\n",
        "[0.028 0.056 0.083 0.111 0.139 0.167 0.139 0.111 0.083 0.056 0.028]\n",
        "```\n",
        "\n",
        "d)\n",
        "\n",
        "\n",
        "<img src=\"../assets/numpy2d.png\" width = 300>\n",
        "\n",
        "\n",
        "e)\n",
        "\n",
        "<img src=\"../assets/numpy2e.png\" width = 500>\n",
        "\n",
        "\n",
        "We see that when we sum several uniformly distributed random variables we will approach the normal distribution. This is called the central limit theorem, which we will come back to in the statistics course.\n",
        "\n",
        "</details>"
      ]
    },
    {
      "cell_type": "code",
      "execution_count": 8,
      "metadata": {},
      "outputs": [
        {
          "name": "stdout",
          "output_type": "stream",
          "text": [
            "[[ 2  3  4  5  6  7]\n",
            " [ 3  4  5  6  7  8]\n",
            " [ 4  5  6  7  8  9]\n",
            " [ 5  6  7  8  9 10]\n",
            " [ 6  7  8  9 10 11]\n",
            " [ 7  8  9 10 11 12]]\n"
          ]
        }
      ],
      "source": [
        "# a)\n",
        "\n",
        "import numpy as np\n",
        "\n",
        "\n",
        "sample_space = np.array([[i + j for j in range(1, 7)] for i in range(1, 7)])\n",
        "\n",
        "print(sample_space)"
      ]
    },
    {
      "cell_type": "code",
      "execution_count": 3,
      "metadata": {},
      "outputs": [
        {
          "name": "stdout",
          "output_type": "stream",
          "text": [
            "[[ 2  3  4  5  6  7]\n",
            " [ 3  4  5  6  7  8]\n",
            " [ 4  5  6  7  8  9]\n",
            " [ 5  6  7  8  9 10]\n",
            " [ 6  7  8  9 10 11]\n",
            " [ 7  8  9 10 11 12]]\n"
          ]
        }
      ],
      "source": [
        "# a) Alternativ lösning\n",
        "\n",
        "import numpy as np\n",
        "\n",
        "outcomes = np.meshgrid(range(1, 7), range(1, 7))\n",
        "sample_space = outcomes[0] + outcomes[1]\n",
        "\n",
        "print(sample_space)"
      ]
    },
    {
      "cell_type": "code",
      "execution_count": 14,
      "metadata": {},
      "outputs": [
        {
          "name": "stdout",
          "output_type": "stream",
          "text": [
            "Möjliga resultat:\n",
            "  2: 1 fall\n",
            "  3: 2 fall\n",
            "  4: 3 fall\n",
            "  5: 4 fall\n",
            "  6: 5 fall\n",
            "  7: 6 fall\n",
            "  8: 5 fall\n",
            "  9: 4 fall\n",
            "  10: 3 fall\n",
            "  11: 2 fall\n",
            "  12: 1 fall\n"
          ]
        }
      ],
      "source": [
        "# b)\n",
        "\n",
        "import numpy as np\n",
        "\n",
        "\n",
        "sample_space = np.array([[i + j for j in range(1, 7)] for i in range(1, 7)])\n",
        "\n",
        "vals_cases = {}\n",
        "for row in sample_space:\n",
        "    for val in row:\n",
        "        if val not in vals_cases:\n",
        "            vals_cases[val] = 1\n",
        "        else:\n",
        "            vals_cases[val] += 1\n",
        "\n",
        "print(\"Möjliga resultat:\")\n",
        "for val, case in vals_cases.items():\n",
        "    print(f\"  {val}: {case} fall\")"
      ]
    },
    {
      "cell_type": "code",
      "execution_count": 26,
      "metadata": {},
      "outputs": [
        {
          "name": "stdout",
          "output_type": "stream",
          "text": [
            "Frekvens av möjliga resultat:\n",
            "  2: 0.028\n",
            "  3: 0.056\n",
            "  4: 0.083\n",
            "  5: 0.111\n",
            "  6: 0.139\n",
            "  7: 0.167\n",
            "  8: 0.139\n",
            "  9: 0.111\n",
            "  10: 0.083\n",
            "  11: 0.056\n",
            "  12: 0.028\n",
            "\n",
            "Summa av frekvenser: 1.0\n"
          ]
        }
      ],
      "source": [
        "# c)\n",
        "\n",
        "import numpy as np\n",
        "\n",
        "\n",
        "sample_space = np.array([[i + j for j in range(1, 7)] for i in range(1, 7)])\n",
        "\n",
        "vals_cases = {}\n",
        "for row in sample_space:\n",
        "    for val in row:\n",
        "        if val not in vals_cases:\n",
        "            vals_cases[val] = 1\n",
        "        else:\n",
        "            vals_cases[val] += 1\n",
        "\n",
        "total_num_cases = len(sample_space) * len(sample_space[0])\n",
        "vals_freqs = {val: cases/total_num_cases for val, cases in vals_cases.items()}\n",
        "freqs_sum = round(sum(vals_freqs.values()), 3)\n",
        "\n",
        "print(\"Frekvens av möjliga resultat:\")\n",
        "for val, freq in vals_freqs.items():\n",
        "    print(f\"  {val}: {round(freq, 3)}\")\n",
        "print()\n",
        "print(f\"Summa av frekvenser: {freqs_sum}\")"
      ]
    },
    {
      "cell_type": "code",
      "execution_count": 32,
      "metadata": {},
      "outputs": [
        {
          "data": {
            "image/png": "[encoded data removed]",
            "text/plain": [
              "<Figure size 640x480 with 1 Axes>"
            ]
          },
          "metadata": {},
          "output_type": "display_data"
        }
      ],
      "source": [
        "# d)\n",
        "\n",
        "import numpy as np\n",
        "import matplotlib.pyplot as plt\n",
        "\n",
        "\n",
        "sample_space = np.array([[i + j for j in range(1, 7)] for i in range(1, 7)])\n",
        "\n",
        "vals_cases = {}\n",
        "for row in sample_space:\n",
        "    for val in row:\n",
        "        if val not in vals_cases:\n",
        "            vals_cases[val] = 1\n",
        "        else:\n",
        "            vals_cases[val] += 1\n",
        "\n",
        "total_num_cases = len(sample_space) * len(sample_space[0])\n",
        "vals_freqs = {val: cases/total_num_cases for val, cases in vals_cases.items()}\n",
        "\n",
        "plt.bar(vals_freqs.keys(), vals_freqs.values())\n",
        "plt.show()"
      ]
    },
    {
      "cell_type": "code",
      "execution_count": 8,
      "metadata": {},
      "outputs": [
        {
          "data": {
            "image/png": "[encoded data removed]",
            "text/plain": [
              "<Figure size 640x480 with 4 Axes>"
            ]
          },
          "metadata": {},
          "output_type": "display_data"
        }
      ],
      "source": [
        "# e)\n",
        "\n",
        "import numpy as np\n",
        "import matplotlib.pyplot as plt\n",
        "\n",
        "\n",
        "dice_vals = np.array(range(1, 7))\n",
        "num_dices_and_outcomes = {1: np.meshgrid(dice_vals),\n",
        "                          2: np.meshgrid(dice_vals, dice_vals),\n",
        "                          3: np.meshgrid(dice_vals, dice_vals, dice_vals),\n",
        "                          4: np.meshgrid(dice_vals, dice_vals, dice_vals, dice_vals)}\n",
        "\n",
        "num_dices_and_sums = {num_dices: sum(outcomes) for num_dices, outcomes in num_dices_and_outcomes.items()}\n",
        "\n",
        "num_dices_sums_and_freqs = {}\n",
        "for num_dices, outcome_sums in num_dices_and_sums.items():\n",
        "    sums_and_freqs = {}\n",
        "    unique_sums, counts = np.unique(outcome_sums, return_counts=True)\n",
        "\n",
        "    for outcome_sum, count in zip(unique_sums, counts):\n",
        "        sums_and_freqs[outcome_sum] = count / sum(counts)\n",
        "    \n",
        "    num_dices_sums_and_freqs[num_dices] = sums_and_freqs\n",
        "\n",
        "fig = plt.figure()\n",
        "colors = ['blue', 'red', 'green', 'yellow']\n",
        "\n",
        "for index, items in enumerate(num_dices_sums_and_freqs.items()):\n",
        "    num_dices, sums_and_freqs = items\n",
        "    outcome_sums = sums_and_freqs.keys()\n",
        "    cases = sums_and_freqs.values()\n",
        "    ax = fig.add_axes([(index % 2)*0.6, -(index // 2)*0.5, 0.5, 0.4])\n",
        "    ax.bar(outcome_sums, cases, label=f'{num_dices} dices', color=colors[index])\n",
        "    ax.legend()\n",
        "\n",
        "plt.show()"
      ]
    }
  ],
  "metadata": {
    "colab": {
      "include_colab_link": true,
      "provenance": []
    },
    "kernelspec": {
      "display_name": "Python 3 (ipykernel)",
      "language": "python",
      "name": "python3"
    },
    "language_info": {
      "codemirror_mode": {
        "name": "ipython",
        "version": 3
      },
      "file_extension": ".py",
      "mimetype": "text/x-python",
      "name": "python",
      "nbconvert_exporter": "python",
      "pygments_lexer": "ipython3",
      "version": "3.12.0"
    },
    "vscode": {
      "interpreter": {
        "hash": "7e1998ff7f8aa20ada591c520b972326324e5ea05489af9e422744c7c09f6dad"
      }
    }
  },
  "nbformat": 4,
  "nbformat_minor": 0
}
