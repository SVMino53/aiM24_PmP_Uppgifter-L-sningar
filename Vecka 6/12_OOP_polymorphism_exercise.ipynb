{
  "cells": [
    {
      "cell_type": "markdown",
      "metadata": {
        "colab_type": "text",
        "id": "view-in-github"
      },
      "source": [
        "<a href=\"https://colab.research.google.com/github/aleylani/Python/blob/main/exercises/12_OOP_polymorphism_exercise.ipynb\" target=\"_parent\"><img src=\"https://colab.research.google.com/assets/colab-badge.svg\" alt=\"Open In Colab\"/></a>"
      ]
    },
    {
      "cell_type": "markdown",
      "metadata": {
        "id": "IVncMQkYRamR"
      },
      "source": [
        "# OOP exercises - inheritance and polymorphism\n",
        "\n",
        "---\n",
        "These are introductory exercises in Python with focus in **Object oriented programming**.\n",
        "\n",
        "<p class = \"alert alert-info\" role=\"alert\"><b>Remember</b> to use <b>descriptive variable, function and class names</b> in order to get readable code </p>\n",
        "\n",
        "<p class = \"alert alert-info\" role=\"alert\"><b>Remember</b> to format your answers in a neat way using <b>f-strings</b></p>\n",
        "\n",
        "<p class = \"alert alert-info\" role=\"alert\"><b>Remember</b> to format your input questions in a pedagogical way to guide the user</p>\n",
        "\n",
        "<p class = \"alert alert-info\" role=\"alert\"><b>Remember</b> to write good docstrings for your methods and classes </p>\n",
        "\n",
        "The number of stars (\\*), (\\*\\*), (\\*\\*\\*) denotes the difficulty level of the task\n",
        "\n",
        "---"
      ]
    },
    {
      "cell_type": "markdown",
      "metadata": {
        "id": "0LmdhIcCRamT"
      },
      "source": [
        "## 1. Movie (*)\n",
        "\n",
        "Create a Movie class with the following functionality:\n",
        "\n",
        "It should be able to accept 4 arguments\n",
        "\n",
        "    name, genre, IMDB-rating, duration (in minutes)\n",
        "\n",
        "Use the following code to test your program.\n",
        "\n",
        "```python\n",
        "pokemon = Movie(\"Pokemon\", \"Cartoon\", 4.5, 94)\n",
        "titanic = Movie(\"Titanic\", \"Romance\", 4.7, 120)\n",
        "code = Movie(\"The Code\", \"Math\", 4, 82)\n",
        "\n",
        "```\n",
        "\n",
        "Now, create a method called info() that accomplishes the following\n",
        "\n",
        "    for i in [pokemon, titanic, code]:\n",
        "        print(i.info())\n",
        "        \n",
        "    Movie with title Pokemon, genre Cartoon, rating 4.5, duration 94 minutes\n",
        "\n",
        "    Movie with title Titanic, genre Romance, rating 4.7, duration 120 minutes\n",
        "\n",
        "    Movie with title The Code, genre Math and rating 4, duration 82 minutes\n",
        "```"
      ]
    },
    {
      "cell_type": "markdown",
      "metadata": {},
      "source": [
        "\n",
        "Additionally overload the + operator so that we can see how long any given combination of movies is. For example:\n",
        "\n",
        "    pokemon + titanic\n",
        "\n",
        "should yield\n",
        "\n",
        "    The movies Pokemon and Titanic, together, have a total playtime of 94 + 120 = 214 minutes."
      ]
    },
    {
      "cell_type": "markdown",
      "metadata": {},
      "source": [
        "Finally, implement type hints and make your attributes into @properties. \n",
        "\n",
        "Also define setters for the attributes. Make sure to implement checks for the attributes, so that they are of the expected type and format. "
      ]
    },
    {
      "cell_type": "code",
      "execution_count": 12,
      "metadata": {},
      "outputs": [],
      "source": [
        "from typing import (Any, Type)\n",
        "\n",
        "\n",
        "def error_text(type : Type, vriable_name : __name__, variable_value : Any) -> str:\n",
        "    pass\n",
        "\n",
        "class Movie:\n",
        "    \"\"\"\n",
        "    A class that holds information about a certain movie.\n",
        "\n",
        "    Attributes:\n",
        "        name(str): Title of the movie.\n",
        "        genre(str): Main genre of the movie.\n",
        "        IMDB_rating(float): The movie's rating on IMDB.\n",
        "        duration(int): Duration of the movie in minutes.\n",
        "    \"\"\"\n",
        "\n",
        "    def __init__(self, name : str, genre : str, IMDB_rating : float | int, duration : int) -> None:\n",
        "        \"\"\"\n",
        "        Creates an instance of the class 'Movie'.\n",
        "\n",
        "        Attributes:\n",
        "            name(str): Title of the movie.\n",
        "            genre(str): Main genre of the movie.\n",
        "            IMDB_rating(float | int): The movie's rating on IMDB.\n",
        "            duration(int): Duration of the movie in minutes.\n",
        "        \"\"\"\n",
        "        \n",
        "        self.name = name\n",
        "        self.genre = genre\n",
        "        self.IMDB_rating = IMDB_rating\n",
        "        self.duration = duration\n",
        "\n",
        "    @property\n",
        "    def name(self) -> str:\n",
        "        return self.__name\n",
        "    \n",
        "    @property\n",
        "    def genre(self) -> str:\n",
        "        return self.__genre\n",
        "    \n",
        "    @property\n",
        "    def IMDB_rating(self) -> float:\n",
        "        return self.__IMDB_rating\n",
        "    \n",
        "    @property\n",
        "    def duration(self) -> int:\n",
        "        return self.__duration\n",
        "    \n",
        "    @name.setter\n",
        "    def name(self, name):\n",
        "        if isinstance(name, str):\n",
        "            self.__name = name\n",
        "        else:\n",
        "            raise TypeError(f\"'name' is of type '{type(name).__name__}'; must be 'str'\")\n",
        "    \n",
        "    @genre.setter\n",
        "    def genre(self, genre):\n",
        "        if isinstance(genre, str):\n",
        "            self.__genre = genre\n",
        "        else:\n",
        "            raise TypeError(f\"'genre' is of type '{type(genre).__name__}'; must be 'str'\")\n",
        "    \n",
        "    @IMDB_rating.setter\n",
        "    def IMDB_rating(self, IMDB_rating : float | int) -> None:\n",
        "        if isinstance(IMDB_rating, (float, int)):\n",
        "            IMDB_rating = float(IMDB_rating)\n",
        "            if 0.0 <= IMDB_rating <= 10.0:\n",
        "                self.__IMDB_rating = IMDB_rating\n",
        "            else:\n",
        "                raise ValueError(f\"value of 'IMDB_rating' is {IMDB_rating}; must be in range [0.0, 10.0]\")\n",
        "        else:\n",
        "            raise TypeError(f\"'IMDB_rating' is of type '{type(IMDB_rating).__name__}'; must be 'float' or 'int'\")\n",
        "        \n",
        "    @duration.setter\n",
        "    def duration(self, duration : int) -> None:\n",
        "        if isinstance(duration, int):\n",
        "            duration = int(duration)\n",
        "            if duration > 0:\n",
        "                self.__duration = duration\n",
        "            else:\n",
        "                raise ValueError(f\"value of 'duration' is {duration}; must be more than 0\")\n",
        "        else:\n",
        "            raise TypeError(f\"'duration' is of type '{type(duration).__name__}'; must be 'int'\")\n",
        "\n",
        "    def info(self):\n",
        "        return f\"Movie with title {self.name}, genre {self.genre}, rating {self.IMDB_rating}, duration {self.duration} minutes.\"\n",
        "    \n",
        "    def __add__(self, other : \"Movie\") -> None:\n",
        "        print(f\"The movies {self.name} and {other.name}, together, have a total playtime of {self.duration} + {other.duration} = {self.duration + other.duration} minutes.\")"
      ]
    },
    {
      "cell_type": "code",
      "execution_count": 14,
      "metadata": {},
      "outputs": [
        {
          "ename": "TypeError",
          "evalue": "'genre' is of type 'int'; must be 'str'",
          "output_type": "error",
          "traceback": [
            "\u001b[1;31m---------------------------------------------------------------------------\u001b[0m",
            "\u001b[1;31mTypeError\u001b[0m                                 Traceback (most recent call last)",
            "Cell \u001b[1;32mIn[14], line 4\u001b[0m\n\u001b[0;32m      2\u001b[0m titanic \u001b[38;5;241m=\u001b[39m Movie(\u001b[38;5;124m\"\u001b[39m\u001b[38;5;124mTitanic\u001b[39m\u001b[38;5;124m\"\u001b[39m, \u001b[38;5;124m\"\u001b[39m\u001b[38;5;124mRomance\u001b[39m\u001b[38;5;124m\"\u001b[39m, \u001b[38;5;241m4.7\u001b[39m, \u001b[38;5;241m120\u001b[39m)\n\u001b[0;32m      3\u001b[0m code \u001b[38;5;241m=\u001b[39m Movie(\u001b[38;5;124m\"\u001b[39m\u001b[38;5;124mThe Code\u001b[39m\u001b[38;5;124m\"\u001b[39m, \u001b[38;5;124m\"\u001b[39m\u001b[38;5;124mMath\u001b[39m\u001b[38;5;124m\"\u001b[39m, \u001b[38;5;241m4\u001b[39m, \u001b[38;5;241m82\u001b[39m)\n\u001b[1;32m----> 4\u001b[0m none_movie \u001b[38;5;241m=\u001b[39m Movie(\u001b[38;5;241m10\u001b[39m, \u001b[38;5;241m10.1\u001b[39m, \u001b[38;5;124m\"\u001b[39m\u001b[38;5;124mgood\u001b[39m\u001b[38;5;124m\"\u001b[39m, \u001b[38;5;124m\"\u001b[39m\u001b[38;5;124mlong\u001b[39m\u001b[38;5;124m\"\u001b[39m)\n\u001b[0;32m      6\u001b[0m \u001b[38;5;28;01mfor\u001b[39;00m movie \u001b[38;5;129;01min\u001b[39;00m [pokemon, titanic, code]:\n\u001b[0;32m      7\u001b[0m     \u001b[38;5;28mprint\u001b[39m(movie\u001b[38;5;241m.\u001b[39minfo())\n",
            "Cell \u001b[1;32mIn[12], line 23\u001b[0m, in \u001b[0;36mMovie.__init__\u001b[1;34m(self, name, genre, IMDB_rating, duration)\u001b[0m\n\u001b[0;32m     12\u001b[0m \u001b[38;5;28;01mdef\u001b[39;00m \u001b[38;5;21m__init__\u001b[39m(\u001b[38;5;28mself\u001b[39m, name : \u001b[38;5;28mstr\u001b[39m, genre : \u001b[38;5;28mstr\u001b[39m, IMDB_rating : \u001b[38;5;28mfloat\u001b[39m \u001b[38;5;241m|\u001b[39m \u001b[38;5;28mint\u001b[39m, duration : \u001b[38;5;28mint\u001b[39m) \u001b[38;5;241m-\u001b[39m\u001b[38;5;241m>\u001b[39m \u001b[38;5;28;01mNone\u001b[39;00m:\n\u001b[0;32m     13\u001b[0m \u001b[38;5;250m    \u001b[39m\u001b[38;5;124;03m\"\"\"\u001b[39;00m\n\u001b[0;32m     14\u001b[0m \u001b[38;5;124;03m    Creates an instance of the class 'Movie'.\u001b[39;00m\n\u001b[0;32m     15\u001b[0m \n\u001b[1;32m   (...)\u001b[0m\n\u001b[0;32m     20\u001b[0m \u001b[38;5;124;03m        duration(int): Duration of the movie in minutes.\u001b[39;00m\n\u001b[0;32m     21\u001b[0m \u001b[38;5;124;03m    \"\"\"\u001b[39;00m\n\u001b[1;32m---> 23\u001b[0m     \u001b[38;5;28mself\u001b[39m\u001b[38;5;241m.\u001b[39mname \u001b[38;5;241m=\u001b[39m name\n\u001b[0;32m     24\u001b[0m     \u001b[38;5;28mself\u001b[39m\u001b[38;5;241m.\u001b[39mgenre \u001b[38;5;241m=\u001b[39m genre\n\u001b[0;32m     25\u001b[0m     \u001b[38;5;28mself\u001b[39m\u001b[38;5;241m.\u001b[39mIMDB_rating \u001b[38;5;241m=\u001b[39m IMDB_rating\n",
            "Cell \u001b[1;32mIn[12], line 49\u001b[0m, in \u001b[0;36mMovie.name\u001b[1;34m(self, name)\u001b[0m\n\u001b[0;32m     47\u001b[0m     \u001b[38;5;28mself\u001b[39m\u001b[38;5;241m.\u001b[39m__name \u001b[38;5;241m=\u001b[39m name\n\u001b[0;32m     48\u001b[0m \u001b[38;5;28;01melse\u001b[39;00m:\n\u001b[1;32m---> 49\u001b[0m     \u001b[38;5;28;01mraise\u001b[39;00m \u001b[38;5;167;01mTypeError\u001b[39;00m(\u001b[38;5;124mf\u001b[39m\u001b[38;5;124m\"\u001b[39m\u001b[38;5;124m'\u001b[39m\u001b[38;5;124mgenre\u001b[39m\u001b[38;5;124m'\u001b[39m\u001b[38;5;124m is of type \u001b[39m\u001b[38;5;124m'\u001b[39m\u001b[38;5;132;01m{\u001b[39;00m\u001b[38;5;28mtype\u001b[39m(name)\u001b[38;5;241m.\u001b[39m\u001b[38;5;18m__name__\u001b[39m\u001b[38;5;132;01m}\u001b[39;00m\u001b[38;5;124m'\u001b[39m\u001b[38;5;124m; must be \u001b[39m\u001b[38;5;124m'\u001b[39m\u001b[38;5;124mstr\u001b[39m\u001b[38;5;124m'\u001b[39m\u001b[38;5;124m\"\u001b[39m)\n",
            "\u001b[1;31mTypeError\u001b[0m: 'genre' is of type 'int'; must be 'str'"
          ]
        }
      ],
      "source": [
        "pokemon = Movie(\"Pokemon\", \"Cartoon\", 4.5, 94)\n",
        "titanic = Movie(\"Titanic\", \"Romance\", 4.7, 120)\n",
        "code = Movie(\"The Code\", \"Math\", 4, 82)\n",
        "none_movie = Movie(10, 10.1, \"good\", \"long\")\n",
        "\n",
        "for movie in [pokemon, titanic, code]:\n",
        "    print(movie.info())\n",
        "\n",
        "pokemon + titanic\n",
        "pokemon + code\n",
        "titanic + code"
      ]
    },
    {
      "cell_type": "markdown",
      "metadata": {
        "id": "bRQQ_JfxRamT"
      },
      "source": [
        "---\n",
        "## 2. Fraction (**)\n",
        "\n",
        "Create a class called Frac to represent mathematical fractions. The class is instantiated with two instance variables: nominator and denominator. Objects instantiated from this class should have methods for addition, subtraction, multiplication, division using the operators +,-,*,/. Note that these implemented methods must be mathematically correct. Also implement the following methods:\n",
        "\n",
        "```python\n",
        "\n",
        "__repr__(self) # represent the fraction in an unambigious way when printing\n",
        "\n",
        "mixed(self) # represent the fraction in mixed terms\n",
        "\n",
        "__eq__(self, other) # checks equality by overloading ==\n",
        "\n",
        "simplify(self) # simplifies the fraction to its most simple form (with all common divisors removed) \n",
        "\n",
        "```\n",
        "\n",
        "Also remember to handle errors and validations.\n",
        "\n",
        "Example of tests that it should handled:\n",
        "\n",
        "- 1/2 + 1/3 = 5/6\n",
        "- 1/2 - 1/3 = 1/6\n",
        "- 7/6 --> 1 1/6 (mixed)\n",
        "- 3*1/2 = 3/2\n",
        "- 1/2 * 3 = 3/2\n",
        "- 1/4 + 2 = 9/4\n",
        "- 1/4 / 1/2 = 1/2\n",
        "- 2/4 == 1/2 --> True\n",
        "- 3/4 += 2 = 11/4\n",
        "\n",
        "</details>\n"
      ]
    }
  ],
  "metadata": {
    "colab": {
      "include_colab_link": true,
      "provenance": []
    },
    "kernelspec": {
      "display_name": "introduktion",
      "language": "python",
      "name": "python3"
    },
    "language_info": {
      "codemirror_mode": {
        "name": "ipython",
        "version": 3
      },
      "file_extension": ".py",
      "mimetype": "text/x-python",
      "name": "python",
      "nbconvert_exporter": "python",
      "pygments_lexer": "ipython3",
      "version": "3.12.0"
    }
  },
  "nbformat": 4,
  "nbformat_minor": 0
}
